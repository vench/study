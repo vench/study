{
 "cells": [
  {
   "cell_type": "markdown",
   "metadata": {},
   "source": [
    "### Touch\n",
    "\n",
    "Имеем два набора данных. один набор размечен пользователями 28 примеров, второй набор размечан автоматически 3188.\n",
    "\n",
    "Проверим, насколько автоматически полученные данные, хорошо описывают размеченные вручную.\n"
   ]
  },
  {
   "cell_type": "code",
   "execution_count": 2,
   "metadata": {},
   "outputs": [],
   "source": [
    "import matplotlib.pyplot as plt\n",
    "import pandas as pn\n",
    "import numpy as np\n",
    "%matplotlib inline  \n"
   ]
  },
  {
   "cell_type": "code",
   "execution_count": 4,
   "metadata": {},
   "outputs": [
    {
     "name": "stdout",
     "output_type": "stream",
     "text": [
      "columns: 14\n"
     ]
    }
   ],
   "source": [
    "file_name_user = 'data_sets/mphone_mark_users.csv'\n",
    "file_name_auto = 'data_sets/mphone_mark_auto.csv'\n",
    "\n",
    "#?pn.read_csv\n",
    "columns = [\"Gender\",\"Fingerprint\",\"TimeUpx\",\"W\",\"H\",\"leng\",\"leng_sum\",\"speed\",\"Force\",\"ForceUp\",\"Rx\",\"Ry\",\"varX\",\"varY\"]\n",
    "print('columns: %d' % len(columns))\n",
    "df_user = pn.read_csv(file_name_user, nrows=15000, names=columns, header=1)\n",
    "df_auto = pn.read_csv(file_name_auto, nrows=15000, names=columns, header=1)"
   ]
  },
  {
   "cell_type": "code",
   "execution_count": 5,
   "metadata": {},
   "outputs": [
    {
     "data": {
      "text/html": [
       "<div>\n",
       "<style scoped>\n",
       "    .dataframe tbody tr th:only-of-type {\n",
       "        vertical-align: middle;\n",
       "    }\n",
       "\n",
       "    .dataframe tbody tr th {\n",
       "        vertical-align: top;\n",
       "    }\n",
       "\n",
       "    .dataframe thead th {\n",
       "        text-align: right;\n",
       "    }\n",
       "</style>\n",
       "<table border=\"1\" class=\"dataframe\">\n",
       "  <thead>\n",
       "    <tr style=\"text-align: right;\">\n",
       "      <th></th>\n",
       "      <th>TimeUpx</th>\n",
       "      <th>W</th>\n",
       "      <th>H</th>\n",
       "      <th>leng</th>\n",
       "      <th>leng_sum</th>\n",
       "      <th>speed</th>\n",
       "      <th>Force</th>\n",
       "      <th>ForceUp</th>\n",
       "      <th>Rx</th>\n",
       "      <th>Ry</th>\n",
       "      <th>varX</th>\n",
       "      <th>varY</th>\n",
       "    </tr>\n",
       "  </thead>\n",
       "  <tbody>\n",
       "    <tr>\n",
       "      <th>count</th>\n",
       "      <td>27.000000</td>\n",
       "      <td>27.000000</td>\n",
       "      <td>27.000000</td>\n",
       "      <td>27.000000</td>\n",
       "      <td>27.000000</td>\n",
       "      <td>27.000000</td>\n",
       "      <td>27.000000</td>\n",
       "      <td>27.000000</td>\n",
       "      <td>27.000000</td>\n",
       "      <td>27.000000</td>\n",
       "      <td>27.000000</td>\n",
       "      <td>2.700000e+01</td>\n",
       "    </tr>\n",
       "    <tr>\n",
       "      <th>mean</th>\n",
       "      <td>373.723473</td>\n",
       "      <td>350.370370</td>\n",
       "      <td>662.592593</td>\n",
       "      <td>177.994823</td>\n",
       "      <td>1216.167096</td>\n",
       "      <td>0.483212</td>\n",
       "      <td>0.452393</td>\n",
       "      <td>0.002481</td>\n",
       "      <td>12.715362</td>\n",
       "      <td>12.715362</td>\n",
       "      <td>2086.672672</td>\n",
       "      <td>1.793523e+05</td>\n",
       "    </tr>\n",
       "    <tr>\n",
       "      <th>std</th>\n",
       "      <td>302.411272</td>\n",
       "      <td>20.751549</td>\n",
       "      <td>75.541257</td>\n",
       "      <td>296.190706</td>\n",
       "      <td>1043.608911</td>\n",
       "      <td>0.349451</td>\n",
       "      <td>0.499913</td>\n",
       "      <td>0.007526</td>\n",
       "      <td>15.919060</td>\n",
       "      <td>15.919060</td>\n",
       "      <td>3643.059642</td>\n",
       "      <td>4.694765e+05</td>\n",
       "    </tr>\n",
       "    <tr>\n",
       "      <th>min</th>\n",
       "      <td>0.000000</td>\n",
       "      <td>320.000000</td>\n",
       "      <td>568.000000</td>\n",
       "      <td>24.745730</td>\n",
       "      <td>77.820310</td>\n",
       "      <td>0.000000</td>\n",
       "      <td>0.000000</td>\n",
       "      <td>0.000000</td>\n",
       "      <td>0.000000</td>\n",
       "      <td>0.000000</td>\n",
       "      <td>0.000000</td>\n",
       "      <td>0.000000e+00</td>\n",
       "    </tr>\n",
       "    <tr>\n",
       "      <th>25%</th>\n",
       "      <td>184.715000</td>\n",
       "      <td>320.000000</td>\n",
       "      <td>568.000000</td>\n",
       "      <td>50.585805</td>\n",
       "      <td>386.837215</td>\n",
       "      <td>0.193145</td>\n",
       "      <td>0.000000</td>\n",
       "      <td>0.000000</td>\n",
       "      <td>0.000000</td>\n",
       "      <td>0.000000</td>\n",
       "      <td>113.070085</td>\n",
       "      <td>7.912361e+02</td>\n",
       "    </tr>\n",
       "    <tr>\n",
       "      <th>50%</th>\n",
       "      <td>295.000000</td>\n",
       "      <td>360.000000</td>\n",
       "      <td>667.000000</td>\n",
       "      <td>108.321700</td>\n",
       "      <td>720.271370</td>\n",
       "      <td>0.434170</td>\n",
       "      <td>0.056330</td>\n",
       "      <td>0.000000</td>\n",
       "      <td>0.659180</td>\n",
       "      <td>0.659180</td>\n",
       "      <td>538.249140</td>\n",
       "      <td>4.420800e+03</td>\n",
       "    </tr>\n",
       "    <tr>\n",
       "      <th>75%</th>\n",
       "      <td>454.083335</td>\n",
       "      <td>360.000000</td>\n",
       "      <td>740.000000</td>\n",
       "      <td>147.380345</td>\n",
       "      <td>2233.540275</td>\n",
       "      <td>0.757295</td>\n",
       "      <td>1.000000</td>\n",
       "      <td>0.000000</td>\n",
       "      <td>28.601315</td>\n",
       "      <td>28.601315</td>\n",
       "      <td>2109.694450</td>\n",
       "      <td>1.430145e+05</td>\n",
       "    </tr>\n",
       "    <tr>\n",
       "      <th>max</th>\n",
       "      <td>1385.666670</td>\n",
       "      <td>375.000000</td>\n",
       "      <td>760.000000</td>\n",
       "      <td>1591.342210</td>\n",
       "      <td>3439.153620</td>\n",
       "      <td>1.155530</td>\n",
       "      <td>1.000000</td>\n",
       "      <td>0.031670</td>\n",
       "      <td>44.886670</td>\n",
       "      <td>44.886670</td>\n",
       "      <td>14559.183400</td>\n",
       "      <td>2.301841e+06</td>\n",
       "    </tr>\n",
       "  </tbody>\n",
       "</table>\n",
       "</div>"
      ],
      "text/plain": [
       "           TimeUpx           W           H         leng     leng_sum  \\\n",
       "count    27.000000   27.000000   27.000000    27.000000    27.000000   \n",
       "mean    373.723473  350.370370  662.592593   177.994823  1216.167096   \n",
       "std     302.411272   20.751549   75.541257   296.190706  1043.608911   \n",
       "min       0.000000  320.000000  568.000000    24.745730    77.820310   \n",
       "25%     184.715000  320.000000  568.000000    50.585805   386.837215   \n",
       "50%     295.000000  360.000000  667.000000   108.321700   720.271370   \n",
       "75%     454.083335  360.000000  740.000000   147.380345  2233.540275   \n",
       "max    1385.666670  375.000000  760.000000  1591.342210  3439.153620   \n",
       "\n",
       "           speed      Force    ForceUp         Rx         Ry          varX  \\\n",
       "count  27.000000  27.000000  27.000000  27.000000  27.000000     27.000000   \n",
       "mean    0.483212   0.452393   0.002481  12.715362  12.715362   2086.672672   \n",
       "std     0.349451   0.499913   0.007526  15.919060  15.919060   3643.059642   \n",
       "min     0.000000   0.000000   0.000000   0.000000   0.000000      0.000000   \n",
       "25%     0.193145   0.000000   0.000000   0.000000   0.000000    113.070085   \n",
       "50%     0.434170   0.056330   0.000000   0.659180   0.659180    538.249140   \n",
       "75%     0.757295   1.000000   0.000000  28.601315  28.601315   2109.694450   \n",
       "max     1.155530   1.000000   0.031670  44.886670  44.886670  14559.183400   \n",
       "\n",
       "               varY  \n",
       "count  2.700000e+01  \n",
       "mean   1.793523e+05  \n",
       "std    4.694765e+05  \n",
       "min    0.000000e+00  \n",
       "25%    7.912361e+02  \n",
       "50%    4.420800e+03  \n",
       "75%    1.430145e+05  \n",
       "max    2.301841e+06  "
      ]
     },
     "execution_count": 5,
     "metadata": {},
     "output_type": "execute_result"
    }
   ],
   "source": [
    "df_user.describe()"
   ]
  },
  {
   "cell_type": "code",
   "execution_count": 6,
   "metadata": {},
   "outputs": [
    {
     "data": {
      "text/html": [
       "<div>\n",
       "<style scoped>\n",
       "    .dataframe tbody tr th:only-of-type {\n",
       "        vertical-align: middle;\n",
       "    }\n",
       "\n",
       "    .dataframe tbody tr th {\n",
       "        vertical-align: top;\n",
       "    }\n",
       "\n",
       "    .dataframe thead th {\n",
       "        text-align: right;\n",
       "    }\n",
       "</style>\n",
       "<table border=\"1\" class=\"dataframe\">\n",
       "  <thead>\n",
       "    <tr style=\"text-align: right;\">\n",
       "      <th></th>\n",
       "      <th>TimeUpx</th>\n",
       "      <th>W</th>\n",
       "      <th>H</th>\n",
       "      <th>leng</th>\n",
       "      <th>leng_sum</th>\n",
       "      <th>speed</th>\n",
       "      <th>Force</th>\n",
       "      <th>ForceUp</th>\n",
       "      <th>Rx</th>\n",
       "      <th>Ry</th>\n",
       "      <th>varX</th>\n",
       "      <th>varY</th>\n",
       "    </tr>\n",
       "  </thead>\n",
       "  <tbody>\n",
       "    <tr>\n",
       "      <th>count</th>\n",
       "      <td>3188.000000</td>\n",
       "      <td>3188.000000</td>\n",
       "      <td>3188.000000</td>\n",
       "      <td>3188.000000</td>\n",
       "      <td>3188.000000</td>\n",
       "      <td>3188.000000</td>\n",
       "      <td>3188.000000</td>\n",
       "      <td>3188.000000</td>\n",
       "      <td>3188.000000</td>\n",
       "      <td>3188.000000</td>\n",
       "      <td>3188.000000</td>\n",
       "      <td>3188.000000</td>\n",
       "    </tr>\n",
       "    <tr>\n",
       "      <th>mean</th>\n",
       "      <td>771.764652</td>\n",
       "      <td>368.568346</td>\n",
       "      <td>639.807897</td>\n",
       "      <td>138.054755</td>\n",
       "      <td>2264.775905</td>\n",
       "      <td>0.359535</td>\n",
       "      <td>0.803830</td>\n",
       "      <td>0.070930</td>\n",
       "      <td>2.168585</td>\n",
       "      <td>2.204334</td>\n",
       "      <td>1788.098974</td>\n",
       "      <td>3122.489911</td>\n",
       "    </tr>\n",
       "    <tr>\n",
       "      <th>std</th>\n",
       "      <td>1171.353036</td>\n",
       "      <td>77.293368</td>\n",
       "      <td>68.062270</td>\n",
       "      <td>73.612584</td>\n",
       "      <td>2623.534999</td>\n",
       "      <td>0.298511</td>\n",
       "      <td>0.365201</td>\n",
       "      <td>0.252262</td>\n",
       "      <td>3.192029</td>\n",
       "      <td>3.179487</td>\n",
       "      <td>6511.340500</td>\n",
       "      <td>4394.646649</td>\n",
       "    </tr>\n",
       "    <tr>\n",
       "      <th>min</th>\n",
       "      <td>0.000000</td>\n",
       "      <td>320.000000</td>\n",
       "      <td>320.000000</td>\n",
       "      <td>0.000000</td>\n",
       "      <td>0.000000</td>\n",
       "      <td>0.000000</td>\n",
       "      <td>0.003930</td>\n",
       "      <td>0.000000</td>\n",
       "      <td>0.000000</td>\n",
       "      <td>0.000000</td>\n",
       "      <td>0.000000</td>\n",
       "      <td>0.000000</td>\n",
       "    </tr>\n",
       "    <tr>\n",
       "      <th>25%</th>\n",
       "      <td>243.895837</td>\n",
       "      <td>360.000000</td>\n",
       "      <td>640.000000</td>\n",
       "      <td>83.697188</td>\n",
       "      <td>856.507152</td>\n",
       "      <td>0.205483</td>\n",
       "      <td>1.000000</td>\n",
       "      <td>0.000000</td>\n",
       "      <td>0.000000</td>\n",
       "      <td>0.000000</td>\n",
       "      <td>111.687115</td>\n",
       "      <td>562.264833</td>\n",
       "    </tr>\n",
       "    <tr>\n",
       "      <th>50%</th>\n",
       "      <td>460.525645</td>\n",
       "      <td>360.000000</td>\n",
       "      <td>640.000000</td>\n",
       "      <td>120.338900</td>\n",
       "      <td>1535.639780</td>\n",
       "      <td>0.318375</td>\n",
       "      <td>1.000000</td>\n",
       "      <td>0.000000</td>\n",
       "      <td>0.708340</td>\n",
       "      <td>0.793565</td>\n",
       "      <td>343.992190</td>\n",
       "      <td>1638.736115</td>\n",
       "    </tr>\n",
       "    <tr>\n",
       "      <th>75%</th>\n",
       "      <td>854.645243</td>\n",
       "      <td>360.000000</td>\n",
       "      <td>640.000000</td>\n",
       "      <td>174.479582</td>\n",
       "      <td>2638.827905</td>\n",
       "      <td>0.454695</td>\n",
       "      <td>1.000000</td>\n",
       "      <td>0.000000</td>\n",
       "      <td>3.291508</td>\n",
       "      <td>3.291508</td>\n",
       "      <td>1108.977437</td>\n",
       "      <td>3897.983607</td>\n",
       "    </tr>\n",
       "    <tr>\n",
       "      <th>max</th>\n",
       "      <td>20662.000000</td>\n",
       "      <td>1280.000000</td>\n",
       "      <td>1280.000000</td>\n",
       "      <td>584.874850</td>\n",
       "      <td>34518.969310</td>\n",
       "      <td>10.135830</td>\n",
       "      <td>1.091670</td>\n",
       "      <td>1.000000</td>\n",
       "      <td>22.575510</td>\n",
       "      <td>22.575510</td>\n",
       "      <td>198307.582230</td>\n",
       "      <td>51175.770670</td>\n",
       "    </tr>\n",
       "  </tbody>\n",
       "</table>\n",
       "</div>"
      ],
      "text/plain": [
       "            TimeUpx            W            H         leng      leng_sum  \\\n",
       "count   3188.000000  3188.000000  3188.000000  3188.000000   3188.000000   \n",
       "mean     771.764652   368.568346   639.807897   138.054755   2264.775905   \n",
       "std     1171.353036    77.293368    68.062270    73.612584   2623.534999   \n",
       "min        0.000000   320.000000   320.000000     0.000000      0.000000   \n",
       "25%      243.895837   360.000000   640.000000    83.697188    856.507152   \n",
       "50%      460.525645   360.000000   640.000000   120.338900   1535.639780   \n",
       "75%      854.645243   360.000000   640.000000   174.479582   2638.827905   \n",
       "max    20662.000000  1280.000000  1280.000000   584.874850  34518.969310   \n",
       "\n",
       "             speed        Force      ForceUp           Rx           Ry  \\\n",
       "count  3188.000000  3188.000000  3188.000000  3188.000000  3188.000000   \n",
       "mean      0.359535     0.803830     0.070930     2.168585     2.204334   \n",
       "std       0.298511     0.365201     0.252262     3.192029     3.179487   \n",
       "min       0.000000     0.003930     0.000000     0.000000     0.000000   \n",
       "25%       0.205483     1.000000     0.000000     0.000000     0.000000   \n",
       "50%       0.318375     1.000000     0.000000     0.708340     0.793565   \n",
       "75%       0.454695     1.000000     0.000000     3.291508     3.291508   \n",
       "max      10.135830     1.091670     1.000000    22.575510    22.575510   \n",
       "\n",
       "                varX          varY  \n",
       "count    3188.000000   3188.000000  \n",
       "mean     1788.098974   3122.489911  \n",
       "std      6511.340500   4394.646649  \n",
       "min         0.000000      0.000000  \n",
       "25%       111.687115    562.264833  \n",
       "50%       343.992190   1638.736115  \n",
       "75%      1108.977437   3897.983607  \n",
       "max    198307.582230  51175.770670  "
      ]
     },
     "execution_count": 6,
     "metadata": {},
     "output_type": "execute_result"
    }
   ],
   "source": [
    "df_auto.describe()"
   ]
  },
  {
   "cell_type": "code",
   "execution_count": 7,
   "metadata": {},
   "outputs": [],
   "source": [
    "from sklearn.preprocessing import MinMaxScaler\n",
    "\n",
    "def map_target(cl):\n",
    "    if(cl == 'f'):\n",
    "        return 0\n",
    "    return 1\n",
    "\n",
    "X = df_auto[columns[2:]]\n",
    "X_test =df_user[columns[2:]]\n",
    "Y = df_auto['Gender'].map(map_target)\n",
    "Y_test = df_user['Gender'].map(map_target) \n",
    "\n",
    "scaler = MinMaxScaler()\n",
    "X_std = scaler.fit_transform(X)\n",
    "X_test_std = scaler.transform(X_test)"
   ]
  },
  {
   "cell_type": "markdown",
   "metadata": {},
   "source": [
    "#### RandomForestClassifier"
   ]
  },
  {
   "cell_type": "code",
   "execution_count": 8,
   "metadata": {},
   "outputs": [
    {
     "name": "stdout",
     "output_type": "stream",
     "text": [
      "0.4074074074074074\n"
     ]
    }
   ],
   "source": [
    "from sklearn.ensemble import RandomForestClassifier\n",
    "from sklearn.metrics import classification_report\n",
    "\n",
    "clf = RandomForestClassifier(n_estimators=20, max_depth=4, random_state=0)\n",
    "clf.fit(X_std,Y)\n",
    "print(clf.score(X_test_std, Y_test))"
   ]
  },
  {
   "cell_type": "code",
   "execution_count": 9,
   "metadata": {},
   "outputs": [
    {
     "name": "stdout",
     "output_type": "stream",
     "text": [
      "             precision    recall  f1-score   support\n",
      "\n",
      "          0       0.22      0.18      0.20        11\n",
      "          1       0.50      0.56      0.53        16\n",
      "\n",
      "avg / total       0.39      0.41      0.40        27\n",
      "\n"
     ]
    }
   ],
   "source": [
    "print classification_report(clf.predict(X_test_std), Y_test)"
   ]
  },
  {
   "cell_type": "markdown",
   "metadata": {},
   "source": [
    "#### GradientBoostingClassifier"
   ]
  },
  {
   "cell_type": "code",
   "execution_count": 60,
   "metadata": {},
   "outputs": [
    {
     "name": "stdout",
     "output_type": "stream",
     "text": [
      "0.5925925925925926\n"
     ]
    }
   ],
   "source": [
    "from sklearn.ensemble import GradientBoostingClassifier\n",
    "\n",
    "clf = GradientBoostingClassifier(max_depth=3, n_estimators=25, random_state=42)\n",
    "clf.fit(X_std,Y)\n",
    "print(clf.score(X_test_std, Y_test))"
   ]
  },
  {
   "cell_type": "code",
   "execution_count": 46,
   "metadata": {},
   "outputs": [
    {
     "name": "stdout",
     "output_type": "stream",
     "text": [
      "             precision    recall  f1-score   support\n",
      "\n",
      "          0       0.22      0.33      0.27         6\n",
      "          1       0.78      0.67      0.72        21\n",
      "\n",
      "avg / total       0.65      0.59      0.62        27\n",
      "\n"
     ]
    }
   ],
   "source": [
    "print classification_report(clf.predict(X_test_std), Y_test)"
   ]
  },
  {
   "cell_type": "code",
   "execution_count": 59,
   "metadata": {},
   "outputs": [
    {
     "name": "stdout",
     "output_type": "stream",
     "text": [
      "max_depth: 2, n_estimators:  10, mean score: 0.693, sc: [0.667, 0.667, 0.833, 0.800, 0.500]\n",
      "max_depth: 2, n_estimators:  25, mean score: 0.693, sc: [0.667, 0.667, 0.833, 0.800, 0.500]\n",
      "max_depth: 2, n_estimators:  50, mean score: 0.703, sc: [0.667, 0.667, 0.833, 0.600, 0.750]\n",
      "max_depth: 2, n_estimators: 100, mean score: 0.743, sc: [0.833, 0.667, 0.667, 0.800, 0.750]\n",
      "max_depth: 2, n_estimators: 200, mean score: 0.743, sc: [0.833, 0.667, 0.667, 0.800, 0.750]\n",
      "max_depth: 3, n_estimators:  10, mean score: 0.653, sc: [0.667, 0.667, 0.833, 0.600, 0.500]\n",
      "max_depth: 3, n_estimators:  25, mean score: 0.827, sc: [0.833, 0.667, 0.833, 0.800, 1.000]\n",
      "max_depth: 3, n_estimators:  50, mean score: 0.743, sc: [0.833, 0.667, 0.667, 0.800, 0.750]\n",
      "max_depth: 3, n_estimators: 100, mean score: 0.777, sc: [0.833, 0.667, 0.833, 0.800, 0.750]\n",
      "max_depth: 3, n_estimators: 200, mean score: 0.777, sc: [0.833, 0.667, 0.833, 0.800, 0.750]\n",
      "max_depth: 4, n_estimators:  10, mean score: 0.653, sc: [0.667, 0.667, 0.833, 0.600, 0.500]\n",
      "max_depth: 4, n_estimators:  25, mean score: 0.693, sc: [0.667, 0.667, 0.833, 0.800, 0.500]\n",
      "max_depth: 4, n_estimators:  50, mean score: 0.660, sc: [0.667, 0.667, 0.667, 0.800, 0.500]\n",
      "max_depth: 4, n_estimators: 100, mean score: 0.643, sc: [0.667, 0.667, 0.833, 0.800, 0.250]\n",
      "max_depth: 4, n_estimators: 200, mean score: 0.643, sc: [0.667, 0.667, 0.833, 0.800, 0.250]\n",
      "max_depth: 5, n_estimators:  10, mean score: 0.653, sc: [0.667, 0.667, 0.833, 0.600, 0.500]\n",
      "max_depth: 5, n_estimators:  25, mean score: 0.693, sc: [0.667, 0.667, 0.833, 0.800, 0.500]\n",
      "max_depth: 5, n_estimators:  50, mean score: 0.660, sc: [0.667, 0.667, 0.667, 0.800, 0.500]\n",
      "max_depth: 5, n_estimators: 100, mean score: 0.693, sc: [0.667, 0.667, 0.833, 0.800, 0.500]\n",
      "max_depth: 5, n_estimators: 200, mean score: 0.693, sc: [0.667, 0.667, 0.833, 0.800, 0.500]\n",
      "max_depth: 6, n_estimators:  10, mean score: 0.653, sc: [0.667, 0.667, 0.833, 0.600, 0.500]\n",
      "max_depth: 6, n_estimators:  25, mean score: 0.693, sc: [0.667, 0.667, 0.833, 0.800, 0.500]\n",
      "max_depth: 6, n_estimators:  50, mean score: 0.660, sc: [0.667, 0.667, 0.667, 0.800, 0.500]\n",
      "max_depth: 6, n_estimators: 100, mean score: 0.693, sc: [0.667, 0.667, 0.833, 0.800, 0.500]\n",
      "max_depth: 6, n_estimators: 200, mean score: 0.693, sc: [0.667, 0.667, 0.833, 0.800, 0.500]\n"
     ]
    }
   ],
   "source": [
    "from sklearn.model_selection import cross_val_score\n",
    "#?GradientBoostingClassifier\n",
    "for md in [2,3,4,5,6]:\n",
    "    for ne in [10,25,50,100,200]:\n",
    "        clf = GradientBoostingClassifier(max_depth=md,n_estimators=ne, random_state=42)\n",
    "        clf.fit(X_std,Y)\n",
    "        scores = cross_val_score(clf,  X_test_std, Y_test, cv=5)\n",
    "        print(\"max_depth: %d, n_estimators: %3d, mean score: %.3f, sc: [%s]\" % \n",
    "              (md, ne, scores.mean(), ', '.join(map(lambda t: '%.3f' % t,scores.tolist()))))"
   ]
  },
  {
   "cell_type": "markdown",
   "metadata": {},
   "source": [
    "####  NN keras"
   ]
  },
  {
   "cell_type": "code",
   "execution_count": 12,
   "metadata": {},
   "outputs": [
    {
     "name": "stderr",
     "output_type": "stream",
     "text": [
      "/usr/local/lib/python2.7/dist-packages/h5py/__init__.py:36: FutureWarning: Conversion of the second argument of issubdtype from `float` to `np.floating` is deprecated. In future, it will be treated as `np.float64 == np.dtype(float).type`.\n",
      "  from ._conv import register_converters as _register_converters\n",
      "Using TensorFlow backend.\n"
     ]
    }
   ],
   "source": [
    "from keras import Sequential\n",
    "from keras.layers import Dense"
   ]
  },
  {
   "cell_type": "code",
   "execution_count": 14,
   "metadata": {},
   "outputs": [],
   "source": [
    "classifier = Sequential() \n",
    "classifier.add(Dense(128, activation='relu', kernel_initializer='random_normal', input_dim=len(X_std[0]))) \n",
    "classifier.add(Dense(128, activation='relu', kernel_initializer='random_normal')) \n",
    "classifier.add(Dense(32, activation='relu', kernel_initializer='random_normal')) \n",
    "classifier.add(Dense(1, activation='sigmoid', kernel_initializer='random_normal'))\n",
    "classifier.compile(optimizer ='adam',loss='binary_crossentropy', metrics =['accuracy'])"
   ]
  },
  {
   "cell_type": "code",
   "execution_count": 22,
   "metadata": {},
   "outputs": [
    {
     "name": "stdout",
     "output_type": "stream",
     "text": [
      "Train on 3188 samples, validate on 27 samples\n",
      "Epoch 1/10\n",
      "3188/3188 [==============================] - 1s 187us/step - loss: 0.3917 - acc: 0.8218 - val_loss: 1.5741 - val_acc: 0.5926\n",
      "Epoch 2/10\n",
      "3188/3188 [==============================] - 1s 181us/step - loss: 0.3769 - acc: 0.8269 - val_loss: 1.7234 - val_acc: 0.5926\n",
      "Epoch 3/10\n",
      "3188/3188 [==============================] - 1s 175us/step - loss: 0.3710 - acc: 0.8312 - val_loss: 1.9062 - val_acc: 0.5926\n",
      "Epoch 4/10\n",
      "3188/3188 [==============================] - 1s 177us/step - loss: 0.3697 - acc: 0.8312 - val_loss: 1.9527 - val_acc: 0.6296\n",
      "Epoch 5/10\n",
      "3188/3188 [==============================] - 1s 184us/step - loss: 0.3660 - acc: 0.8366 - val_loss: 1.9923 - val_acc: 0.5926\n",
      "Epoch 6/10\n",
      "3188/3188 [==============================] - 1s 175us/step - loss: 0.3646 - acc: 0.8366 - val_loss: 2.2228 - val_acc: 0.6296\n",
      "Epoch 7/10\n",
      "3188/3188 [==============================] - 1s 178us/step - loss: 0.3674 - acc: 0.8359 - val_loss: 2.0932 - val_acc: 0.6667\n",
      "Epoch 8/10\n",
      "3188/3188 [==============================] - 1s 183us/step - loss: 0.3650 - acc: 0.8297 - val_loss: 2.0678 - val_acc: 0.6296\n",
      "Epoch 9/10\n",
      "3188/3188 [==============================] - 1s 195us/step - loss: 0.3595 - acc: 0.8359 - val_loss: 2.3588 - val_acc: 0.5556\n",
      "Epoch 10/10\n",
      "3188/3188 [==============================] - 1s 198us/step - loss: 0.3617 - acc: 0.8378 - val_loss: 2.3840 - val_acc: 0.6296\n"
     ]
    },
    {
     "data": {
      "text/plain": [
       "<keras.callbacks.History at 0x7fe9a42b3450>"
      ]
     },
     "execution_count": 22,
     "metadata": {},
     "output_type": "execute_result"
    }
   ],
   "source": [
    "classifier.fit(X_std,Y, batch_size=10, epochs=10,validation_data=(X_test_std, Y_test))"
   ]
  },
  {
   "cell_type": "code",
   "execution_count": 23,
   "metadata": {},
   "outputs": [
    {
     "name": "stdout",
     "output_type": "stream",
     "text": [
      "Train on 27 samples, validate on 27 samples\n",
      "Epoch 1/10\n",
      "27/27 [==============================] - 0s 533us/step - loss: 2.3305 - acc: 0.6296 - val_loss: 1.5627 - val_acc: 0.5926\n",
      "Epoch 2/10\n",
      "27/27 [==============================] - 0s 500us/step - loss: 1.8308 - acc: 0.5926 - val_loss: 1.5377 - val_acc: 0.6296\n",
      "Epoch 3/10\n",
      "27/27 [==============================] - 0s 605us/step - loss: 1.3983 - acc: 0.7037 - val_loss: 1.4320 - val_acc: 0.6667\n",
      "Epoch 4/10\n",
      "27/27 [==============================] - 0s 523us/step - loss: 1.3995 - acc: 0.7037 - val_loss: 1.2509 - val_acc: 0.7037\n",
      "Epoch 5/10\n",
      "27/27 [==============================] - 0s 538us/step - loss: 1.2483 - acc: 0.7407 - val_loss: 1.1513 - val_acc: 0.8148\n",
      "Epoch 6/10\n",
      "27/27 [==============================] - 0s 431us/step - loss: 1.1774 - acc: 0.8148 - val_loss: 1.0741 - val_acc: 0.8148\n",
      "Epoch 7/10\n",
      "27/27 [==============================] - 0s 417us/step - loss: 1.0497 - acc: 0.8148 - val_loss: 0.9978 - val_acc: 0.8519\n",
      "Epoch 8/10\n",
      "27/27 [==============================] - 0s 383us/step - loss: 1.1038 - acc: 0.8519 - val_loss: 0.6126 - val_acc: 0.7778\n",
      "Epoch 9/10\n",
      "27/27 [==============================] - 0s 479us/step - loss: 0.6486 - acc: 0.8148 - val_loss: 0.4868 - val_acc: 0.8519\n",
      "Epoch 10/10\n",
      "27/27 [==============================] - 0s 575us/step - loss: 1.0287 - acc: 0.8148 - val_loss: 0.7142 - val_acc: 0.7778\n"
     ]
    },
    {
     "data": {
      "text/plain": [
       "<keras.callbacks.History at 0x7fe9b72f8990>"
      ]
     },
     "execution_count": 23,
     "metadata": {},
     "output_type": "execute_result"
    }
   ],
   "source": [
    "classifier.fit(X_test_std,Y_test, batch_size=10, epochs=10,validation_data=(X_test_std, Y_test))"
   ]
  },
  {
   "cell_type": "markdown",
   "metadata": {},
   "source": [
    "### Split train data"
   ]
  },
  {
   "cell_type": "code",
   "execution_count": 24,
   "metadata": {},
   "outputs": [
    {
     "name": "stdout",
     "output_type": "stream",
     "text": [
      "2135\n"
     ]
    }
   ],
   "source": [
    "from sklearn.model_selection import train_test_split\n",
    "\n",
    "X_train_std_, X_test_std_, y_train_std_, y_test_std_ = train_test_split(X_std, Y, test_size=0.33, random_state=42)\n",
    "print(len(X_train_std_))"
   ]
  },
  {
   "cell_type": "markdown",
   "metadata": {},
   "source": [
    "### GradientBoostingClassifier"
   ]
  },
  {
   "cell_type": "code",
   "execution_count": 26,
   "metadata": {},
   "outputs": [
    {
     "name": "stdout",
     "output_type": "stream",
     "text": [
      "0.8271604938271605\n"
     ]
    }
   ],
   "source": [
    "from sklearn.ensemble import GradientBoostingClassifier\n",
    "\n",
    "clf = GradientBoostingClassifier(max_depth=4, random_state=42)\n",
    "clf.fit(X_train_std_,y_train_std_)\n",
    "print(clf.score(X_test_std_, y_test_std_))"
   ]
  },
  {
   "cell_type": "markdown",
   "metadata": {},
   "source": [
    "### NN Keras"
   ]
  },
  {
   "cell_type": "code",
   "execution_count": null,
   "metadata": {},
   "outputs": [],
   "source": [
    "from keras import Sequential\n",
    "from keras.layers import Dense"
   ]
  },
  {
   "cell_type": "code",
   "execution_count": 27,
   "metadata": {},
   "outputs": [],
   "source": [
    "classifier = Sequential() \n",
    "classifier.add(Dense(128, activation='relu', kernel_initializer='random_normal', input_dim=len(X_std[0]))) \n",
    "classifier.add(Dense(128, activation='relu', kernel_initializer='random_normal')) \n",
    "classifier.add(Dense(32, activation='relu', kernel_initializer='random_normal')) \n",
    "classifier.add(Dense(1, activation='sigmoid', kernel_initializer='random_normal'))\n",
    "classifier.compile(optimizer ='adam',loss='binary_crossentropy', metrics =['accuracy'])"
   ]
  },
  {
   "cell_type": "code",
   "execution_count": 33,
   "metadata": {},
   "outputs": [
    {
     "name": "stdout",
     "output_type": "stream",
     "text": [
      "Train on 2135 samples, validate on 1053 samples\n",
      "Epoch 1/10\n",
      "2135/2135 [==============================] - 1s 235us/step - loss: 0.3964 - acc: 0.8187 - val_loss: 0.4506 - val_acc: 0.8053\n",
      "Epoch 2/10\n",
      "2135/2135 [==============================] - 0s 213us/step - loss: 0.3863 - acc: 0.8267 - val_loss: 0.4544 - val_acc: 0.8025\n",
      "Epoch 3/10\n",
      "2135/2135 [==============================] - 1s 244us/step - loss: 0.3906 - acc: 0.8197 - val_loss: 0.4482 - val_acc: 0.7987\n",
      "Epoch 4/10\n",
      "2135/2135 [==============================] - 0s 220us/step - loss: 0.3915 - acc: 0.8262 - val_loss: 0.5045 - val_acc: 0.7540\n",
      "Epoch 5/10\n",
      "2135/2135 [==============================] - 0s 217us/step - loss: 0.3849 - acc: 0.8286 - val_loss: 0.4521 - val_acc: 0.7958\n",
      "Epoch 6/10\n",
      "2135/2135 [==============================] - 0s 221us/step - loss: 0.3774 - acc: 0.8253 - val_loss: 0.4620 - val_acc: 0.8063\n",
      "Epoch 7/10\n",
      "2135/2135 [==============================] - 0s 217us/step - loss: 0.3751 - acc: 0.8248 - val_loss: 0.4743 - val_acc: 0.7806\n",
      "Epoch 8/10\n",
      "2135/2135 [==============================] - 0s 221us/step - loss: 0.3841 - acc: 0.8211 - val_loss: 0.4569 - val_acc: 0.7930\n",
      "Epoch 9/10\n",
      "2135/2135 [==============================] - 0s 223us/step - loss: 0.3763 - acc: 0.8267 - val_loss: 0.4681 - val_acc: 0.7977\n",
      "Epoch 10/10\n",
      "2135/2135 [==============================] - 0s 221us/step - loss: 0.3785 - acc: 0.8267 - val_loss: 0.4537 - val_acc: 0.8034\n"
     ]
    },
    {
     "data": {
      "text/plain": [
       "<keras.callbacks.History at 0x7fe9b72f8850>"
      ]
     },
     "execution_count": 33,
     "metadata": {},
     "output_type": "execute_result"
    }
   ],
   "source": [
    "classifier.fit(X_train_std_,y_train_std_, batch_size=10, epochs=10,validation_data=(X_test_std_, y_test_std_))"
   ]
  },
  {
   "cell_type": "code",
   "execution_count": 35,
   "metadata": {},
   "outputs": [
    {
     "name": "stdout",
     "output_type": "stream",
     "text": [
      "             precision    recall  f1-score   support\n",
      "\n",
      "      False       0.83      0.78      0.80       538\n",
      "       True       0.78      0.83      0.81       515\n",
      "\n",
      "avg / total       0.80      0.80      0.80      1053\n",
      "\n"
     ]
    }
   ],
   "source": [
    "y_pred= classifier.predict(X_test_std_)\n",
    "y_pred =(y_pred>0.5)\n",
    "print classification_report(y_pred, y_test_std_)"
   ]
  },
  {
   "cell_type": "code",
   "execution_count": null,
   "metadata": {},
   "outputs": [],
   "source": []
  }
 ],
 "metadata": {
  "kernelspec": {
   "display_name": "Python 3",
   "language": "python",
   "name": "python3"
  },
  "language_info": {
   "codemirror_mode": {
    "name": "ipython",
    "version": 2
   },
   "file_extension": ".py",
   "mimetype": "text/x-python",
   "name": "python",
   "nbconvert_exporter": "python",
   "pygments_lexer": "ipython2",
   "version": "2.7.12"
  }
 },
 "nbformat": 4,
 "nbformat_minor": 2
}
