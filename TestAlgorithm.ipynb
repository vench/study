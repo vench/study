{
 "cells": [
  {
   "cell_type": "markdown",
   "metadata": {},
   "source": [
    "# Test Algorithms \n",
    "\n",
    "1) IE\n",
    "2) K-Means\n"
   ]
  },
  {
   "cell_type": "code",
   "execution_count": 1,
   "metadata": {},
   "outputs": [],
   "source": [
    "import numpy as np  \n",
    "import matplotlib.pyplot as plt\n",
    "%matplotlib inline\n",
    "from tensorflow import set_random_seed \n",
    "import os\n",
    "import random as rn \n",
    "import pandas as pd\n",
    "import pymorphy2\n",
    "import re\n",
    "from collections import defaultdict\n",
    "from sklearn.feature_extraction.text import TfidfVectorizer\n",
    "\n",
    "SEED = 32 \n",
    "os.environ['PYTHONHASHSEED']=str(SEED)\n",
    "np.random.seed(SEED)\n",
    "set_random_seed(SEED)\n",
    "rn.seed(SEED)"
   ]
  },
  {
   "cell_type": "markdown",
   "metadata": {},
   "source": [
    "### Load processed texts"
   ]
  },
  {
   "cell_type": "code",
   "execution_count": 20,
   "metadata": {},
   "outputs": [],
   "source": [
    "X_ = np.load('data_x.npy') \n",
    "Y_ = np.load('data_y.npy')"
   ]
  },
  {
   "cell_type": "code",
   "execution_count": 22,
   "metadata": {},
   "outputs": [
    {
     "name": "stdout",
     "output_type": "stream",
     "text": [
      "(1906, 100)\n"
     ]
    }
   ],
   "source": [
    "print(X_.shape)"
   ]
  },
  {
   "cell_type": "code",
   "execution_count": 21,
   "metadata": {},
   "outputs": [
    {
     "name": "stdout",
     "output_type": "stream",
     "text": [
      "(1906,)\n"
     ]
    }
   ],
   "source": [
    "print(Y_.shape)"
   ]
  },
  {
   "cell_type": "code",
   "execution_count": 5,
   "metadata": {},
   "outputs": [],
   "source": []
  },
  {
   "cell_type": "code",
   "execution_count": 42,
   "metadata": {},
   "outputs": [],
   "source": [
    "from sklearn.metrics import accuracy_score\n",
    "from sklearn.model_selection import train_test_split\n",
    "from sklearn import metrics \n",
    "\n",
    "def test_cluster(x,y, model):   \n",
    "    model.fit(x)\n",
    "    labels = model.labels_\n",
    "    \n",
    "    scores = []\n",
    "    scores.append(metrics.homogeneity_score(y, labels))\n",
    "    scores.append(metrics.completeness_score(y, labels))\n",
    "    scores.append(metrics.v_measure_score(y, labels))\n",
    "    scores.append(metrics.adjusted_rand_score(y, labels))\n",
    "    scores.append(metrics.adjusted_mutual_info_score(y, labels,\n",
    "                                               average_method='arithmetic'))\n",
    "    scores.append(metrics.silhouette_score(x, labels, metric='sqeuclidean'))\n",
    "    scores.append(len(np.unique(labels)))\n",
    "     \n",
    "    print(\"Homogeneity: %0.3f\" %  scores[0])\n",
    "    print(\"Completeness: %0.3f\" % scores[1])\n",
    "    print(\"V-measure: %0.3f\" % scores[2])\n",
    "    print(\"Adjusted Rand Index: %0.3f\"  % scores[3])\n",
    "    print(\"Adjusted Mutual Information: %0.3f\"  % scores[4])\n",
    "    print(\"Silhouette Coefficient: %0.3f\"  % scores[5])\n",
    "    print(\"labels num: %0.3f\"  % scores[6])\n",
    "    return scores"
   ]
  },
  {
   "cell_type": "markdown",
   "metadata": {},
   "source": [
    "### Results"
   ]
  },
  {
   "cell_type": "code",
   "execution_count": 43,
   "metadata": {},
   "outputs": [],
   "source": [
    "results = []"
   ]
  },
  {
   "cell_type": "markdown",
   "metadata": {},
   "source": [
    "### Model KMeans"
   ]
  },
  {
   "cell_type": "code",
   "execution_count": 44,
   "metadata": {},
   "outputs": [
    {
     "name": "stdout",
     "output_type": "stream",
     "text": [
      "Homogeneity: 0.136\n",
      "Completeness: 0.168\n",
      "V-measure: 0.150\n",
      "Adjusted Rand Index: 0.039\n",
      "Adjusted Mutual Information: 0.140\n",
      "Silhouette Coefficient: 0.070\n",
      "labels num: 10.000\n"
     ]
    }
   ],
   "source": [
    "\n",
    "from sklearn.cluster import KMeans\n",
    "\n",
    "m1 = KMeans(n_clusters=10, random_state=SEED)\n",
    "r = test_cluster(X_, Y_, m1)\n",
    "results.append(r)"
   ]
  },
  {
   "cell_type": "markdown",
   "metadata": {},
   "source": [
    "### Agglomerative Clustering"
   ]
  },
  {
   "cell_type": "code",
   "execution_count": 45,
   "metadata": {},
   "outputs": [
    {
     "name": "stdout",
     "output_type": "stream",
     "text": [
      "Homogeneity: 0.105\n",
      "Completeness: 0.173\n",
      "V-measure: 0.130\n",
      "Adjusted Rand Index: 0.008\n",
      "Adjusted Mutual Information: 0.119\n",
      "Silhouette Coefficient: 0.091\n",
      "labels num: 10.000\n"
     ]
    }
   ],
   "source": [
    "from sklearn.cluster.hierarchical import AgglomerativeClustering\n",
    "m2 = AgglomerativeClustering(n_clusters=10)\n",
    "r = test_cluster(X_, Y_, m2)\n",
    "results.append(r)"
   ]
  },
  {
   "cell_type": "markdown",
   "metadata": {},
   "source": [
    "### DBSCAN"
   ]
  },
  {
   "cell_type": "code",
   "execution_count": 46,
   "metadata": {},
   "outputs": [
    {
     "name": "stdout",
     "output_type": "stream",
     "text": [
      "Homogeneity: 0.009\n",
      "Completeness: 0.220\n",
      "V-measure: 0.017\n",
      "Adjusted Rand Index: -0.003\n",
      "Adjusted Mutual Information: 0.004\n",
      "Silhouette Coefficient: -0.042\n",
      "labels num: 10.000\n"
     ]
    }
   ],
   "source": [
    "from sklearn.cluster import DBSCAN\n",
    "m3 = DBSCAN(eps=0.103, min_samples = 2)\n",
    "r = test_cluster(X_, Y_, m3)\n",
    "results.append(r)"
   ]
  },
  {
   "cell_type": "markdown",
   "metadata": {},
   "source": [
    "### AffinityPropagation"
   ]
  },
  {
   "cell_type": "code",
   "execution_count": 47,
   "metadata": {},
   "outputs": [
    {
     "name": "stdout",
     "output_type": "stream",
     "text": [
      "Homogeneity: 0.395\n",
      "Completeness: 0.179\n",
      "V-measure: 0.246\n",
      "Adjusted Rand Index: 0.015\n",
      "Adjusted Mutual Information: 0.146\n",
      "Silhouette Coefficient: 0.222\n",
      "labels num: 166.000\n"
     ]
    }
   ],
   "source": [
    "from sklearn.cluster import AffinityPropagation\n",
    "m4 = AffinityPropagation(damping=0.9)\n",
    "r = test_cluster(X_, Y_, m4)\n",
    "results.append(r)"
   ]
  },
  {
   "cell_type": "markdown",
   "metadata": {},
   "source": [
    "### AL"
   ]
  },
  {
   "cell_type": "code",
   "execution_count": 48,
   "metadata": {},
   "outputs": [],
   "source": [
    "\n",
    "from sklearn.metrics.pairwise import euclidean_distances\n",
    "import numpy as np \n",
    "\n",
    "class Cluster:\n",
    "    \n",
    "    def __init__(self, n):\n",
    "        ''' '''\n",
    "        self.n = n\n",
    "        self.nodes = set([n])\n",
    "        self.active = True\n",
    "        self.join_n = a = -1 \n",
    "\n",
    "    def merge(self, c):\n",
    "        ''' '''\n",
    "        self.nodes = self.nodes.union(c.nodes)\n",
    "        c.active = False\n",
    "        c.join_n = self.n\n",
    "        \n",
    "    def get_n(self):\n",
    "        if self.join_n == -1:\n",
    "            return self.n\n",
    "        return self.join_n\n",
    "        \n",
    "class HierarchicalClustering:\n",
    "    \n",
    "    def __init__(self, alpha = 1.01, max_iteration = 200, debug= False, delta=0., stop_neg_sum = True, betta = 2., n_clusters=10):\n",
    "        ''' '''\n",
    "        self.alpha = alpha\n",
    "        self.betta = betta\n",
    "        self.max_iteration = max_iteration\n",
    "        self.debug = debug\n",
    "        self._c_all = []\n",
    "        self.delta = delta\n",
    "        self.stop_neg_sum = stop_neg_sum\n",
    "        self.n_clusters= n_clusters\n",
    "        self.labels_ = []\n",
    "    \n",
    "    def score(sefl, x):\n",
    "        ''' '''\n",
    "    \n",
    "    def _get_min(self, M, C):\n",
    "        r = []\n",
    "        for i in range(len(C)):  \n",
    "            for j in range(i,len(C)):\n",
    "                if( M[i][j] <= 0):\n",
    "                    continue\n",
    "                a = C[i].get_n()\n",
    "                b = C[j].get_n()  \n",
    "                if(a == b):\n",
    "                    continue\n",
    "                r.append( M[i][j])    \n",
    "        return min(r)    \n",
    "            \n",
    "    \n",
    "    def fit(self, x):\n",
    "        ''' '''\n",
    "        self._c_all = []\n",
    "        y_ = []\n",
    "        M =  euclidean_distances(x,x)\n",
    "        C = []\n",
    "        size = len(M)\n",
    "        for i in range(size): \n",
    "            C.append( Cluster(i) )\n",
    "        \n",
    "        delta = self.delta\n",
    "        \n",
    "        for i in range(self.max_iteration): \n",
    "            d = np.min(M[M > 0]) * self.alpha \n",
    "            #d = self._get_min(M, C) * self.alpha\n",
    "            if d > delta:\n",
    "                delta = d  \n",
    "            if(self.debug):   \n",
    "                print('delta: %.3f, d: %.3f' % (delta, d))    \n",
    "            M_ = M - delta\n",
    "            ''' join clusters '''\n",
    "            join = False\n",
    "            for i in range(size):  \n",
    "                for j in range(i,size):  \n",
    "                    if(M[i][j] <= 0 or M_[i][j] > 0): # old\n",
    "                        continue\n",
    "                    if i == j:\n",
    "                        continue \n",
    "                    a = C[i].get_n()\n",
    "                    b = C[j].get_n() \n",
    "                    if(a == b):\n",
    "                        continue  \n",
    "                    #if  (C[b].active == False or C[a].active == False):\n",
    "                    #    continue\n",
    "            \n",
    "                    C[a].merge(C[b])\n",
    "                    for s in C[b].nodes:\n",
    "                        C[s].join_n = a\n",
    "                    #sb = C[b][0]\n",
    "                    #C[a][0] = C[a][0].union(sb)  \n",
    "                    #for s in sb:\n",
    "                    #    C[s][1] = C[s][1] - 1\n",
    "                    #    C[s][2] = a \n",
    "                    #C[a][1] = 1 \n",
    "                    #M_[b,:] = 0 \n",
    "                    #M_[:,b] = 0\n",
    "\n",
    "                    #print(M_[b])\n",
    "                    join = True\n",
    "            #print('join', join)        \n",
    "            if join == False:\n",
    "                #break\n",
    "                delta = delta * self.betta\n",
    "                continue\n",
    "            ''' update matrix '''\n",
    "            #delta = d\n",
    "            M =   M_ \n",
    "                    \n",
    "            if len(M[M > 0]) == 0:\n",
    "                print('len(M[M > 0]) == 0')\n",
    "                #print(M_)\n",
    "                break\n",
    "              \n",
    "            #print(C)\n",
    "            y_ = np.zeros(size)\n",
    "            cl = 0\n",
    "            for c in C:\n",
    "                if(c.active == True): \n",
    "                    for i in c.nodes:\n",
    "                        y_[i] = cl\n",
    "                    cl = cl + 1\n",
    "                    \n",
    "            self._c_all.append(y_)  \n",
    "            print('unique len: %d' % len(np.unique(y_)))\n",
    "            if len(np.unique(y_)) <= self.n_clusters:\n",
    "                print('len(np.unique(y_)) == 1')\n",
    "                break\n",
    "            neg,pos = [],[]    \n",
    "            for i in range(size): \n",
    "                for j in range(i,size):\n",
    "                    if(M[i][j] <= 0):\n",
    "                        neg.append(delta + np.abs(M[i][j]))\n",
    "                    else:\n",
    "                        pos.append(M[i][j])    \n",
    "            if(self.debug):\n",
    "                print('Sum pos: %.3f, sum neg: %.3f, Std pos: %.3f, Std neg: %.3f' % \n",
    "                      (sum(pos), sum(neg),np.std(pos), np.std(neg))) \n",
    "            if self.stop_neg_sum and sum(pos) < sum(neg): \n",
    "                print('sum(pos) < sum(neg)')\n",
    "                #break \n",
    "                \n",
    "        self.labels_  = y_      \n",
    "        return y_                \n",
    "        \n",
    "    def print_name(self):\n",
    "        print('Hierarchical clustering')\n",
    "        \n"
   ]
  },
  {
   "cell_type": "code",
   "execution_count": 49,
   "metadata": {},
   "outputs": [
    {
     "name": "stdout",
     "output_type": "stream",
     "text": [
      "unique len: 1905\n",
      "unique len: 1901\n",
      "unique len: 1900\n",
      "unique len: 1865\n",
      "unique len: 1665\n",
      "unique len: 1002\n",
      "unique len: 276\n",
      "unique len: 41\n",
      "unique len: 8\n",
      "len(np.unique(y_)) == 1\n",
      "Homogeneity: 0.018\n",
      "Completeness: 0.254\n",
      "V-measure: 0.033\n",
      "Adjusted Rand Index: -0.002\n",
      "Adjusted Mutual Information: 0.021\n",
      "Silhouette Coefficient: 0.199\n",
      "labels num: 8.000\n"
     ]
    }
   ],
   "source": [
    "m5 = HierarchicalClustering(alpha=1.1,n_clusters=10)\n",
    "r = test_cluster(X_, Y_, m5)\n",
    "results.append(r) "
   ]
  },
  {
   "cell_type": "code",
   "execution_count": null,
   "metadata": {},
   "outputs": [],
   "source": []
  },
  {
   "cell_type": "code",
   "execution_count": 50,
   "metadata": {},
   "outputs": [
    {
     "data": {
      "text/html": [
       "<div>\n",
       "<style scoped>\n",
       "    .dataframe tbody tr th:only-of-type {\n",
       "        vertical-align: middle;\n",
       "    }\n",
       "\n",
       "    .dataframe tbody tr th {\n",
       "        vertical-align: top;\n",
       "    }\n",
       "\n",
       "    .dataframe thead th {\n",
       "        text-align: right;\n",
       "    }\n",
       "</style>\n",
       "<table border=\"1\" class=\"dataframe\">\n",
       "  <thead>\n",
       "    <tr style=\"text-align: right;\">\n",
       "      <th></th>\n",
       "      <th>Homogeneity</th>\n",
       "      <th>Completeness</th>\n",
       "      <th>V-measure</th>\n",
       "      <th>Adjusted Rand Index</th>\n",
       "      <th>Adjusted Mutual Information</th>\n",
       "      <th>Silhouette Coefficient</th>\n",
       "      <th>len</th>\n",
       "    </tr>\n",
       "  </thead>\n",
       "  <tbody>\n",
       "    <tr>\n",
       "      <th>0</th>\n",
       "      <td>0.135690</td>\n",
       "      <td>0.168193</td>\n",
       "      <td>0.150204</td>\n",
       "      <td>0.039259</td>\n",
       "      <td>0.140167</td>\n",
       "      <td>0.069739</td>\n",
       "      <td>10</td>\n",
       "    </tr>\n",
       "    <tr>\n",
       "      <th>1</th>\n",
       "      <td>0.104723</td>\n",
       "      <td>0.172804</td>\n",
       "      <td>0.130413</td>\n",
       "      <td>0.008423</td>\n",
       "      <td>0.118539</td>\n",
       "      <td>0.091190</td>\n",
       "      <td>10</td>\n",
       "    </tr>\n",
       "    <tr>\n",
       "      <th>2</th>\n",
       "      <td>0.008977</td>\n",
       "      <td>0.220104</td>\n",
       "      <td>0.017251</td>\n",
       "      <td>-0.002766</td>\n",
       "      <td>0.003528</td>\n",
       "      <td>-0.042349</td>\n",
       "      <td>10</td>\n",
       "    </tr>\n",
       "    <tr>\n",
       "      <th>3</th>\n",
       "      <td>0.395138</td>\n",
       "      <td>0.178603</td>\n",
       "      <td>0.246010</td>\n",
       "      <td>0.014634</td>\n",
       "      <td>0.145702</td>\n",
       "      <td>0.222011</td>\n",
       "      <td>166</td>\n",
       "    </tr>\n",
       "    <tr>\n",
       "      <th>4</th>\n",
       "      <td>0.017882</td>\n",
       "      <td>0.253769</td>\n",
       "      <td>0.033409</td>\n",
       "      <td>-0.002391</td>\n",
       "      <td>0.020903</td>\n",
       "      <td>0.199204</td>\n",
       "      <td>8</td>\n",
       "    </tr>\n",
       "  </tbody>\n",
       "</table>\n",
       "</div>"
      ],
      "text/plain": [
       "   Homogeneity  Completeness  V-measure  Adjusted Rand Index  \\\n",
       "0     0.135690      0.168193   0.150204             0.039259   \n",
       "1     0.104723      0.172804   0.130413             0.008423   \n",
       "2     0.008977      0.220104   0.017251            -0.002766   \n",
       "3     0.395138      0.178603   0.246010             0.014634   \n",
       "4     0.017882      0.253769   0.033409            -0.002391   \n",
       "\n",
       "   Adjusted Mutual Information  Silhouette Coefficient  len  \n",
       "0                     0.140167                0.069739   10  \n",
       "1                     0.118539                0.091190   10  \n",
       "2                     0.003528               -0.042349   10  \n",
       "3                     0.145702                0.222011  166  \n",
       "4                     0.020903                0.199204    8  "
      ]
     },
     "execution_count": 50,
     "metadata": {},
     "output_type": "execute_result"
    }
   ],
   "source": [
    "df2 = pd.DataFrame(results, columns=[ \n",
    "    'Homogeneity', \n",
    "    'Completeness', \n",
    "    'V-measure', \n",
    "    'Adjusted Rand Index', 'Adjusted Mutual Information', 'Silhouette Coefficient', 'len'])\n",
    "df2.head(len(results))"
   ]
  },
  {
   "cell_type": "code",
   "execution_count": null,
   "metadata": {},
   "outputs": [],
   "source": []
  },
  {
   "cell_type": "code",
   "execution_count": null,
   "metadata": {},
   "outputs": [],
   "source": []
  },
  {
   "cell_type": "code",
   "execution_count": null,
   "metadata": {},
   "outputs": [],
   "source": []
  },
  {
   "cell_type": "code",
   "execution_count": null,
   "metadata": {},
   "outputs": [],
   "source": []
  },
  {
   "cell_type": "code",
   "execution_count": null,
   "metadata": {},
   "outputs": [],
   "source": []
  },
  {
   "cell_type": "code",
   "execution_count": null,
   "metadata": {},
   "outputs": [],
   "source": []
  },
  {
   "cell_type": "code",
   "execution_count": null,
   "metadata": {},
   "outputs": [],
   "source": []
  },
  {
   "cell_type": "code",
   "execution_count": null,
   "metadata": {},
   "outputs": [],
   "source": []
  }
 ],
 "metadata": {
  "kernelspec": {
   "display_name": "Python 3",
   "language": "python",
   "name": "python3"
  },
  "language_info": {
   "codemirror_mode": {
    "name": "ipython",
    "version": 3
   },
   "file_extension": ".py",
   "mimetype": "text/x-python",
   "name": "python",
   "nbconvert_exporter": "python",
   "pygments_lexer": "ipython3",
   "version": "3.5.2"
  }
 },
 "nbformat": 4,
 "nbformat_minor": 2
}
