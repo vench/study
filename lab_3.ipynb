{
 "cells": [
  {
   "cell_type": "markdown",
   "metadata": {},
   "source": [
    "# Реализация алгоритма модели нейронной сети\n",
    "\n",
    "### Сделаем импорт основных библиотек"
   ]
  },
  {
   "cell_type": "code",
   "execution_count": 2,
   "metadata": {},
   "outputs": [],
   "source": [
    "import numpy as np\n",
    "from sklearn.model_selection import train_test_split\n",
    "import matplotlib.pyplot as plt\n",
    "%matplotlib inline\n",
    "\n",
    "np.random.seed(45)"
   ]
  },
  {
   "cell_type": "markdown",
   "metadata": {},
   "source": [
    "### Создаем искусственный набор данных"
   ]
  },
  {
   "cell_type": "code",
   "execution_count": 3,
   "metadata": {},
   "outputs": [],
   "source": [
    "# Y, X1, X2, X3\n",
    "data = np.array([\n",
    "    [0.0, 1.0, 1.0, 0.0],\n",
    "    [0.0, 0.0, 0.0, 0.0],\n",
    "    [0.0, 0.0, 1.0, 0.0],\n",
    "    [0.0, 1.0, 1.0, 0.0],\n",
    "    [0.0, 0.0, 1.0, 1.0],\n",
    "    [0.0, 0.98, 0.98, 0.0],\n",
    "    [0.0, 0.0, 0.0, 0.0],\n",
    "    [0.0, 0.01, 0.98, 0.09],\n",
    "    [0.0, 0.98, 0.98, 0.1],\n",
    "    [0.0, 0.02, 0.98, 0.98],    \n",
    "    [1.0, 0.0, 0.0, 1.0],\n",
    "    [1.0, 1.0, 0.0, 0.0],\n",
    "    [1.0, 1.0, 0.0, 1.0],\n",
    "    [1.0, 1.0, 1.0, 1.0],    \n",
    "    [1.0, 0.01, 0.02, 0.98],\n",
    "    [1.0, 0.98, 0.03, 0.0],\n",
    "    [1.0, 0.98, 0.04, 0.98],\n",
    "    [1.0, 0.99, 0.95, 0.98],\n",
    "])  \n",
    " "
   ]
  },
  {
   "cell_type": "markdown",
   "metadata": {},
   "source": [
    "\n",
    "Визуализируем данные с помощью pca (метод главных компонент)"
   ]
  },
  {
   "cell_type": "code",
   "execution_count": 4,
   "metadata": {},
   "outputs": [
    {
     "data": {
      "text/plain": [
       "<matplotlib.collections.PathCollection at 0x7f57a230b748>"
      ]
     },
     "execution_count": 4,
     "metadata": {},
     "output_type": "execute_result"
    },
    {
     "data": {
      "image/png": "[encoded data removed]",
      "text/plain": [
       "<Figure size 720x432 with 1 Axes>"
      ]
     },
     "metadata": {
      "needs_background": "light"
     },
     "output_type": "display_data"
    }
   ],
   "source": [
    "# Show data\n",
    "from sklearn import manifold\n",
    "\n",
    "tsne = manifold.TSNE(n_components = 2, init = 'pca', random_state = 0)\n",
    "data_2d_tsne = tsne.fit_transform(data[:,1:]) \n",
    "\n",
    "plt.figure(figsize = (10, 6))\n",
    "plt.scatter(data_2d_tsne[:, 0], data_2d_tsne[:, 1], c = data[:,0])"
   ]
  },
  {
   "cell_type": "markdown",
   "metadata": {},
   "source": [
    "Создаем простую модель нейронной сети - классификатора\n",
    "\n",
    "Функция активации\n",
    "\n",
    "$$ \\dfrac{1}{1+e^{-x}}$$\n",
    "\n",
    "\n",
    "Функция ошибки MSE\n",
    "\n",
    "$$ - \\dfrac{1}{N} \\sum{(t_i-p_i)^2} $$\n",
    "\n",
    "Функция ошибки BCE\n",
    "\n",
    "$$ - \\dfrac{1}{N} \\sum{ t_i \\dot log (p_i) + (1-t_i) \\dot log(1 - p_i)} $$"
   ]
  },
  {
   "cell_type": "code",
   "execution_count": 5,
   "metadata": {},
   "outputs": [],
   "source": [
    "\n",
    "class Model:\n",
    "    ''' NN model '''\n",
    "    \n",
    "    def __init__(self, learning_rate = 0.05, innput_size = 3, hidden_size = 2):\n",
    "            self.learning_rate = learning_rate\n",
    "            self.innput_size = innput_size\n",
    "            \n",
    "            self.WH1 = np.random.rand(hidden_size,innput_size)\n",
    "            self.WH2 = np.random.rand(1,hidden_size)\n",
    "            self.O1 = np.array([])\n",
    "            self.O2 = np.array([])\n",
    "            #print(self.WH1)\n",
    "            #print(self.WH2)\n",
    "        \n",
    "    ''' Predict model '''    \n",
    "    def predict(self, inputs):\n",
    "        self.O1 = self.WH1.dot(inputs)\n",
    "        self.O1 = self.sigmoid(self.O1)\n",
    "        self.O2 = self.WH2.dot(self.O1)\n",
    "        self.O2 = self.sigmoid(self.O2) \n",
    "        return self.O2\n",
    "    \n",
    "    ''' Train model '''\n",
    "    def train(self, inputs, actual):\n",
    "        out = self.predict(inputs)\n",
    "        outputs_2 = out[0]\n",
    "        # получаем ошибку\n",
    "        error_2 = outputs_2 - actual \n",
    "        # получаем градиент 2 слоя т.к. значение функции равно ее производной, нам ненужно делать вычисления\n",
    "        gradient_layer_2 = outputs_2 * (1 - outputs_2) # dx\n",
    "        # получаем вклад в общую ошибку 2 слоя (через градиент)\n",
    "        weights_delta_layer_2 = error_2 * gradient_layer_2        \n",
    "        # вычитаем ошибку из второго (скрытого) слоя, с штрафом learning_rate\n",
    "        self.WH2 -=  self.O1.dot(weights_delta_layer_2 * self.learning_rate)\n",
    "        error_layer_1 = weights_delta_layer_2 *  self.WH2\n",
    "        \n",
    "        # получаем градиент 1 слоя\n",
    "        gradient_layer_1 = self.O1 * (1 -  self.O1) # dx\n",
    "        # получаем вклад в общую ошибку 1 слоя (через градиент)\n",
    "        weights_delta_layer_1 =  error_layer_1 * gradient_layer_1 \n",
    "        # вычитаем ошибку из входного слоя, с штрафом learning_rate\n",
    "        ne = inputs.reshape(self.innput_size,1).dot(weights_delta_layer_1   * self.learning_rate) \n",
    "        self.WH1 -= ne.T\n",
    "            \n",
    "    \n",
    "    ''' Function sigmoid '''\n",
    "    def sigmoid(self, x):\n",
    "        return 1. / (1. + np.exp( -x ))\n",
    "        \n",
    "            "
   ]
  },
  {
   "cell_type": "markdown",
   "metadata": {},
   "source": [
    "### Создаем модель нейронной сети для работы с искусственным набором данных"
   ]
  },
  {
   "cell_type": "code",
   "execution_count": 6,
   "metadata": {},
   "outputs": [],
   "source": [
    "model = Model(hidden_size=2) \n",
    "\n",
    "accuracy_rate = 0.05 # 5%\n",
    "errors = []\n",
    "accuracy = []"
   ]
  },
  {
   "cell_type": "code",
   "execution_count": 10,
   "metadata": {},
   "outputs": [],
   "source": [
    "n_epoch = 2000 \n",
    "\n",
    "while(n_epoch > 0):\n",
    "    \n",
    "    for item in data:  \n",
    "        model.train(item[1:], item[0]) \n",
    "    \n",
    "    n_epoch = n_epoch - 1\n",
    "    \n",
    "    s = 0.0   \n",
    "    poz = 0.0\n",
    "    for item in data: \n",
    "        p = model.predict(item[1:])     \n",
    "        t = item[0]\n",
    "        # s = s + (item[0] - p) ** 2 # mse \n",
    "        s = s + (t * np.log(p) + (1-t) *np.log(1-p) ) # bce\n",
    "        \n",
    "        #s = s + (1. / (1 + np.exp(- (item[0] - p))))\n",
    "        if(np.absolute(p - item[0]) < accuracy_rate):\n",
    "            poz = poz + 1\n",
    "    accuracy.append(poz / len(data))    \n",
    "    errors.append( - s / len(data) )    \n",
    " "
   ]
  },
  {
   "cell_type": "markdown",
   "metadata": {},
   "source": [
    "Выводим график обучения сети"
   ]
  },
  {
   "cell_type": "code",
   "execution_count": 13,
   "metadata": {},
   "outputs": [
    {
     "data": {
      "image/png": "[encoded data removed]",
      "text/plain": [
       "<Figure size 720x432 with 1 Axes>"
      ]
     },
     "metadata": {
      "needs_background": "light"
     },
     "output_type": "display_data"
    }
   ],
   "source": [
    "\n",
    "plt.figure(figsize = (10, 6))\n",
    "plt.plot(errors, label='errors mse', color = 'red')\n",
    "plt.plot(accuracy, label='accuracy')\n",
    "plt.legend()\n",
    "plt.show()"
   ]
  },
  {
   "cell_type": "code",
   "execution_count": 14,
   "metadata": {},
   "outputs": [
    {
     "name": "stdout",
     "output_type": "stream",
     "text": [
      "Error: 0.0359, Accuracy: 0.7778\n"
     ]
    }
   ],
   "source": [
    "print(\"Error: %.4f, Accuracy: %.4f\" % (min(errors), max(accuracy)))\n"
   ]
  },
  {
   "cell_type": "code",
   "execution_count": 15,
   "metadata": {},
   "outputs": [
    {
     "name": "stdout",
     "output_type": "stream",
     "text": [
      "Predict: 0.02, Actual: 0.00\n",
      "Predict: 0.09, Actual: 0.00\n",
      "Predict: 0.00, Actual: 0.00\n",
      "Predict: 0.02, Actual: 0.00\n",
      "Predict: 0.02, Actual: 0.00\n",
      "Predict: 0.02, Actual: 0.00\n",
      "Predict: 0.09, Actual: 0.00\n",
      "Predict: 0.00, Actual: 0.00\n",
      "Predict: 0.03, Actual: 0.00\n",
      "Predict: 0.03, Actual: 0.00\n",
      "Predict: 0.96, Actual: 1.00\n",
      "Predict: 0.96, Actual: 1.00\n",
      "Predict: 0.98, Actual: 1.00\n",
      "Predict: 0.94, Actual: 1.00\n",
      "Predict: 0.96, Actual: 1.00\n",
      "Predict: 0.95, Actual: 1.00\n",
      "Predict: 0.98, Actual: 1.00\n",
      "Predict: 0.95, Actual: 1.00\n"
     ]
    }
   ],
   "source": [
    "for item in data: \n",
    "    p = model.predict(item[1:])     \n",
    "    print(\"Predict: %.2f, Actual: %.2f\" % (p, item[0]))"
   ]
  },
  {
   "cell_type": "markdown",
   "metadata": {},
   "source": [
    "### Создаем модель классификатор спама\n",
    "\n",
    "Сначала загружаем набор данных SMSSpamCollection"
   ]
  },
  {
   "cell_type": "code",
   "execution_count": 16,
   "metadata": {},
   "outputs": [
    {
     "name": "stdout",
     "output_type": "stream",
     "text": [
      "  class                                               text\n",
      "0  ham    Go until jurong point  crazy Available only i...\n",
      "1  ham                             Ok lar Joking wif u oni\n",
      "2  spam    Free entry in 2 a wkly comp to win FA Cup fi...\n",
      "<class 'pandas.core.frame.DataFrame'>\n",
      "RangeIndex: 5574 entries, 0 to 5573\n",
      "Data columns (total 2 columns):\n",
      "class    5574 non-null object\n",
      "text     5574 non-null object\n",
      "dtypes: object(2)\n",
      "memory usage: 87.2+ KB\n",
      "None\n",
      "     class                                               text\n",
      "1153  ham                                 Ok i go change also\n",
      "2993  ham                   Ki didt see youkwhere are you now\n",
      "2695  ham    Hey sexy buns What of that day No word from y...\n"
     ]
    }
   ],
   "source": [
    "import pandas as pd\n",
    "\n",
    "file_data = './data_sets/SMSSpamCollection.csv'\n",
    "\n",
    "df = pd.read_csv(file_data, names=['class','text'])\n",
    "print(df.head(3))\n",
    "print(df.info())\n",
    "print(df.sample(3))"
   ]
  },
  {
   "cell_type": "markdown",
   "metadata": {},
   "source": [
    "Добавим метку с классом target и построим гистограмму распределения класса."
   ]
  },
  {
   "cell_type": "code",
   "execution_count": 17,
   "metadata": {},
   "outputs": [
    {
     "name": "stdout",
     "output_type": "stream",
     "text": [
      "        class  text\n",
      "target             \n",
      "0        4827  4827\n",
      "1         747   747\n"
     ]
    },
    {
     "data": {
      "text/plain": [
       "array([<matplotlib.axes._subplots.AxesSubplot object at 0x7f579821e9b0>],\n",
       "      dtype=object)"
      ]
     },
     "execution_count": 17,
     "metadata": {},
     "output_type": "execute_result"
    },
    {
     "data": {
      "text/plain": [
       "<Figure size 720x432 with 0 Axes>"
      ]
     },
     "metadata": {},
     "output_type": "display_data"
    },
    {
     "data": {
      "image/png": "[encoded data removed]",
      "text/plain": [
       "<Figure size 720x432 with 1 Axes>"
      ]
     },
     "metadata": {
      "needs_background": "light"
     },
     "output_type": "display_data"
    }
   ],
   "source": [
    "def t(x): \n",
    "    if(x == 'spam'):\n",
    "        return 1\n",
    "    return 0\n",
    "\n",
    "df['target'] = df['class'].map(t)\n",
    "print(df.groupby('target').count())\n",
    "\n",
    "# plt.\n",
    "plt.figure(figsize = (10, 6))\n",
    "fig = plt.figure(figsize = (10,6))\n",
    "ax = fig.gca() \n",
    "df.hist('target', ax = ax)"
   ]
  },
  {
   "cell_type": "markdown",
   "metadata": {},
   "source": [
    "### Подготовим текст\n",
    "\n",
    "Разобьем выборку на тренировочную и обучающую часть ~ 67 / 33 %\n",
    "\n",
    "Проведем векторизацию текста слов (построим для каждого примера частотное распределение в общем словаре)\n",
    "\n",
    "Зазадим максимальный корпус слов 5000"
   ]
  },
  {
   "cell_type": "code",
   "execution_count": 18,
   "metadata": {},
   "outputs": [
    {
     "name": "stderr",
     "output_type": "stream",
     "text": [
      "/home/vench/p3/environments/my_env/lib/python3.5/site-packages/ipykernel_launcher.py:4: FutureWarning: Method .as_matrix will be removed in a future version. Use .values instead.\n",
      "  after removing the cwd from sys.path.\n"
     ]
    },
    {
     "name": "stdout",
     "output_type": "stream",
     "text": [
      "(3734, 5000)\n",
      "(3734,)\n"
     ]
    }
   ],
   "source": [
    "from sklearn.feature_extraction.text import TfidfVectorizer\n",
    "\n",
    "\n",
    "text_train, text_test, y_train, y_test = train_test_split(df['text'], df['target'].as_matrix(), test_size=0.33, random_state=42)\n",
    "\n",
    "vectorizer = TfidfVectorizer(max_features=5000, token_pattern='[a-zA-Z]+', stop_words=['and', 'a', 'the', 'they', 'on', 'or', 'if', 'else', 'then']) \n",
    "X_train = vectorizer.fit_transform(text_train).toarray()\n",
    "X_test = vectorizer.transform(text_test).toarray()\n",
    "#print(vectorizer.get_feature_names()) \n",
    "print(X_train.shape)\n",
    "print(y_train.shape)"
   ]
  },
  {
   "cell_type": "markdown",
   "metadata": {},
   "source": [
    "### Создадим модель и обучим"
   ]
  },
  {
   "cell_type": "code",
   "execution_count": 20,
   "metadata": {},
   "outputs": [],
   "source": [
    "model = Model(innput_size = 5000,hidden_size=10) \n",
    " \n",
    "accuracy_rate = 0.05 # 5%\n",
    "errors = []\n",
    "accuracy = []\n",
    "    "
   ]
  },
  {
   "cell_type": "code",
   "execution_count": 22,
   "metadata": {},
   "outputs": [
    {
     "name": "stdout",
     "output_type": "stream",
     "text": [
      "Epoch: 199, Error: 0.4039, Accuracy: 0.0000, Error validate 0.8208, Accuracy validate 0.0000\n",
      "Epoch: 198, Error: 0.4035, Accuracy: 0.0000, Error validate 0.8200, Accuracy validate 0.0000\n",
      "Epoch: 197, Error: 0.4031, Accuracy: 0.0000, Error validate 0.8191, Accuracy validate 0.0000\n",
      "Epoch: 196, Error: 0.4026, Accuracy: 0.0000, Error validate 0.8182, Accuracy validate 0.0000\n",
      "Epoch: 195, Error: 0.4021, Accuracy: 0.0000, Error validate 0.8172, Accuracy validate 0.0000\n",
      "Epoch: 194, Error: 0.4016, Accuracy: 0.0000, Error validate 0.8161, Accuracy validate 0.0000\n",
      "Epoch: 193, Error: 0.4010, Accuracy: 0.0000, Error validate 0.8149, Accuracy validate 0.0000\n",
      "Epoch: 192, Error: 0.4004, Accuracy: 0.0000, Error validate 0.8136, Accuracy validate 0.0000\n",
      "Epoch: 191, Error: 0.3997, Accuracy: 0.0000, Error validate 0.8121, Accuracy validate 0.0000\n",
      "Epoch: 190, Error: 0.3989, Accuracy: 0.0000, Error validate 0.8105, Accuracy validate 0.0000\n",
      "Epoch: 189, Error: 0.3980, Accuracy: 0.0000, Error validate 0.8088, Accuracy validate 0.0000\n",
      "Epoch: 188, Error: 0.3971, Accuracy: 0.0000, Error validate 0.8069, Accuracy validate 0.0000\n",
      "Epoch: 187, Error: 0.3960, Accuracy: 0.0000, Error validate 0.8048, Accuracy validate 0.0000\n",
      "Epoch: 186, Error: 0.3949, Accuracy: 0.0000, Error validate 0.8024, Accuracy validate 0.0000\n",
      "Epoch: 185, Error: 0.3936, Accuracy: 0.0000, Error validate 0.7998, Accuracy validate 0.0000\n",
      "Epoch: 184, Error: 0.3921, Accuracy: 0.0000, Error validate 0.7968, Accuracy validate 0.0000\n",
      "Epoch: 183, Error: 0.3905, Accuracy: 0.0000, Error validate 0.7935, Accuracy validate 0.0000\n",
      "Epoch: 182, Error: 0.3887, Accuracy: 0.0000, Error validate 0.7898, Accuracy validate 0.0000\n",
      "Epoch: 181, Error: 0.3866, Accuracy: 0.0000, Error validate 0.7856, Accuracy validate 0.0000\n",
      "Epoch: 180, Error: 0.3843, Accuracy: 0.0000, Error validate 0.7808, Accuracy validate 0.0000\n",
      "Epoch: 179, Error: 0.3816, Accuracy: 0.0000, Error validate 0.7754, Accuracy validate 0.0000\n",
      "Epoch: 178, Error: 0.3786, Accuracy: 0.0000, Error validate 0.7692, Accuracy validate 0.0000\n",
      "Epoch: 177, Error: 0.3750, Accuracy: 0.0000, Error validate 0.7620, Accuracy validate 0.0000\n",
      "Epoch: 176, Error: 0.3709, Accuracy: 0.0000, Error validate 0.7537, Accuracy validate 0.0000\n",
      "Epoch: 175, Error: 0.3662, Accuracy: 0.0000, Error validate 0.7440, Accuracy validate 0.0000\n",
      "Epoch: 174, Error: 0.3606, Accuracy: 0.0000, Error validate 0.7325, Accuracy validate 0.0000\n",
      "Epoch: 173, Error: 0.3539, Accuracy: 0.0000, Error validate 0.7190, Accuracy validate 0.0000\n",
      "Epoch: 172, Error: 0.3460, Accuracy: 0.0000, Error validate 0.7029, Accuracy validate 0.0000\n",
      "Epoch: 171, Error: 0.3365, Accuracy: 0.0000, Error validate 0.6837, Accuracy validate 0.0000\n",
      "Epoch: 170, Error: 0.3254, Accuracy: 0.0000, Error validate 0.6611, Accuracy validate 0.0000\n",
      "Epoch: 169, Error: 0.3127, Accuracy: 0.0000, Error validate 0.6352, Accuracy validate 0.0000\n",
      "Epoch: 168, Error: 0.2984, Accuracy: 0.0000, Error validate 0.6062, Accuracy validate 0.0000\n",
      "Epoch: 167, Error: 0.2832, Accuracy: 0.0005, Error validate 0.5753, Accuracy validate 0.0000\n",
      "Epoch: 166, Error: 0.2677, Accuracy: 0.0029, Error validate 0.5438, Accuracy validate 0.0000\n",
      "Epoch: 165, Error: 0.2526, Accuracy: 0.0067, Error validate 0.5131, Accuracy validate 0.0000\n",
      "Epoch: 164, Error: 0.2383, Accuracy: 0.0174, Error validate 0.4841, Accuracy validate 0.0000\n",
      "Epoch: 163, Error: 0.2252, Accuracy: 0.0292, Error validate 0.4575, Accuracy validate 0.0000\n",
      "Epoch: 162, Error: 0.2134, Accuracy: 0.0434, Error validate 0.4334, Accuracy validate 0.0000\n",
      "Epoch: 161, Error: 0.2027, Accuracy: 0.0694, Error validate 0.4117, Accuracy validate 0.0000\n",
      "Epoch: 160, Error: 0.1931, Accuracy: 0.0945, Error validate 0.3921, Accuracy validate 0.0000\n",
      "Epoch: 159, Error: 0.1844, Accuracy: 0.1170, Error validate 0.3744, Accuracy validate 0.0000\n",
      "Epoch: 158, Error: 0.1765, Accuracy: 0.1449, Error validate 0.3584, Accuracy validate 0.0000\n",
      "Epoch: 157, Error: 0.1692, Accuracy: 0.1660, Error validate 0.3436, Accuracy validate 0.0000\n",
      "Epoch: 156, Error: 0.1625, Accuracy: 0.1952, Error validate 0.3300, Accuracy validate 0.0000\n",
      "Epoch: 155, Error: 0.1564, Accuracy: 0.2228, Error validate 0.3175, Accuracy validate 0.0000\n",
      "Epoch: 154, Error: 0.1506, Accuracy: 0.2552, Error validate 0.3058, Accuracy validate 0.0000\n",
      "Epoch: 153, Error: 0.1453, Accuracy: 0.2849, Error validate 0.2949, Accuracy validate 0.0000\n",
      "Epoch: 152, Error: 0.1403, Accuracy: 0.3069, Error validate 0.2847, Accuracy validate 0.0000\n",
      "Epoch: 151, Error: 0.1356, Accuracy: 0.3433, Error validate 0.2752, Accuracy validate 0.0000\n",
      "Epoch: 150, Error: 0.1312, Accuracy: 0.3653, Error validate 0.2663, Accuracy validate 0.0000\n",
      "Epoch: 149, Error: 0.1270, Accuracy: 0.3864, Error validate 0.2578, Accuracy validate 0.0000\n",
      "Epoch: 148, Error: 0.1231, Accuracy: 0.4063, Error validate 0.2499, Accuracy validate 0.0000\n",
      "Epoch: 147, Error: 0.1194, Accuracy: 0.4282, Error validate 0.2424, Accuracy validate 0.0000\n",
      "Epoch: 146, Error: 0.1159, Accuracy: 0.4464, Error validate 0.2353, Accuracy validate 0.0000\n",
      "Epoch: 145, Error: 0.1126, Accuracy: 0.4646, Error validate 0.2285, Accuracy validate 0.0000\n",
      "Epoch: 144, Error: 0.1094, Accuracy: 0.4885, Error validate 0.2221, Accuracy validate 0.0000\n",
      "Epoch: 143, Error: 0.1064, Accuracy: 0.5032, Error validate 0.2160, Accuracy validate 0.0000\n",
      "Epoch: 142, Error: 0.1035, Accuracy: 0.5177, Error validate 0.2102, Accuracy validate 0.0000\n",
      "Epoch: 141, Error: 0.1008, Accuracy: 0.5303, Error validate 0.2046, Accuracy validate 0.0000\n",
      "Epoch: 140, Error: 0.0982, Accuracy: 0.5415, Error validate 0.1993, Accuracy validate 0.0000\n",
      "Epoch: 139, Error: 0.0957, Accuracy: 0.5549, Error validate 0.1943, Accuracy validate 0.0000\n",
      "Epoch: 138, Error: 0.0933, Accuracy: 0.5661, Error validate 0.1894, Accuracy validate 0.0000\n",
      "Epoch: 137, Error: 0.0910, Accuracy: 0.5742, Error validate 0.1848, Accuracy validate 0.0000\n",
      "Epoch: 136, Error: 0.0888, Accuracy: 0.5868, Error validate 0.1803, Accuracy validate 0.0000\n",
      "Epoch: 135, Error: 0.0868, Accuracy: 0.5991, Error validate 0.1761, Accuracy validate 0.0000\n",
      "Epoch: 134, Error: 0.0848, Accuracy: 0.6168, Error validate 0.1720, Accuracy validate 0.0000\n",
      "Epoch: 133, Error: 0.0828, Accuracy: 0.6256, Error validate 0.1681, Accuracy validate 0.0000\n",
      "Epoch: 132, Error: 0.0810, Accuracy: 0.6377, Error validate 0.1644, Accuracy validate 0.0000\n",
      "Epoch: 131, Error: 0.0792, Accuracy: 0.6473, Error validate 0.1608, Accuracy validate 0.0000\n",
      "Epoch: 130, Error: 0.0775, Accuracy: 0.6559, Error validate 0.1573, Accuracy validate 0.0000\n",
      "Epoch: 129, Error: 0.0759, Accuracy: 0.6666, Error validate 0.1540, Accuracy validate 0.8734\n",
      "Epoch: 128, Error: 0.0743, Accuracy: 0.6762, Error validate 0.1509, Accuracy validate 0.8734\n",
      "Epoch: 127, Error: 0.0728, Accuracy: 0.6864, Error validate 0.1478, Accuracy validate 0.8734\n",
      "Epoch: 126, Error: 0.0714, Accuracy: 0.6934, Error validate 0.1449, Accuracy validate 0.8734\n",
      "Epoch: 125, Error: 0.0700, Accuracy: 0.6982, Error validate 0.1420, Accuracy validate 0.8734\n",
      "Epoch: 124, Error: 0.0686, Accuracy: 0.7076, Error validate 0.1393, Accuracy validate 0.8734\n",
      "Epoch: 123, Error: 0.0673, Accuracy: 0.7148, Error validate 0.1367, Accuracy validate 0.8734\n",
      "Epoch: 122, Error: 0.0661, Accuracy: 0.7228, Error validate 0.1341, Accuracy validate 0.8734\n",
      "Epoch: 121, Error: 0.0649, Accuracy: 0.7309, Error validate 0.1317, Accuracy validate 0.8734\n",
      "Epoch: 120, Error: 0.0637, Accuracy: 0.7346, Error validate 0.1293, Accuracy validate 0.8734\n",
      "Epoch: 119, Error: 0.0626, Accuracy: 0.7392, Error validate 0.1271, Accuracy validate 0.8734\n",
      "Epoch: 118, Error: 0.0615, Accuracy: 0.7445, Error validate 0.1249, Accuracy validate 0.8734\n",
      "Epoch: 117, Error: 0.0605, Accuracy: 0.7493, Error validate 0.1227, Accuracy validate 0.8734\n",
      "Epoch: 116, Error: 0.0595, Accuracy: 0.7528, Error validate 0.1207, Accuracy validate 0.8734\n",
      "Epoch: 115, Error: 0.0585, Accuracy: 0.7568, Error validate 0.1187, Accuracy validate 0.8734\n",
      "Epoch: 114, Error: 0.0575, Accuracy: 0.7616, Error validate 0.1167, Accuracy validate 0.8734\n",
      "Epoch: 113, Error: 0.0566, Accuracy: 0.7667, Error validate 0.1149, Accuracy validate 0.8734\n",
      "Epoch: 112, Error: 0.0557, Accuracy: 0.7694, Error validate 0.1131, Accuracy validate 0.8734\n",
      "Epoch: 111, Error: 0.0548, Accuracy: 0.7734, Error validate 0.1113, Accuracy validate 0.8734\n"
     ]
    },
    {
     "name": "stdout",
     "output_type": "stream",
     "text": [
      "Epoch: 110, Error: 0.0540, Accuracy: 0.7772, Error validate 0.1096, Accuracy validate 0.8734\n",
      "Epoch: 109, Error: 0.0532, Accuracy: 0.7809, Error validate 0.1079, Accuracy validate 0.8734\n",
      "Epoch: 108, Error: 0.0524, Accuracy: 0.7852, Error validate 0.1063, Accuracy validate 0.8734\n",
      "Epoch: 107, Error: 0.0516, Accuracy: 0.7892, Error validate 0.1048, Accuracy validate 0.8734\n",
      "Epoch: 106, Error: 0.0509, Accuracy: 0.7916, Error validate 0.1033, Accuracy validate 0.8734\n",
      "Epoch: 105, Error: 0.0502, Accuracy: 0.7935, Error validate 0.1018, Accuracy validate 0.8734\n",
      "Epoch: 104, Error: 0.0495, Accuracy: 0.7954, Error validate 0.1004, Accuracy validate 0.8734\n",
      "Epoch: 103, Error: 0.0488, Accuracy: 0.7981, Error validate 0.0990, Accuracy validate 0.8734\n",
      "Epoch: 102, Error: 0.0481, Accuracy: 0.8002, Error validate 0.0977, Accuracy validate 0.8734\n",
      "Epoch: 101, Error: 0.0475, Accuracy: 0.8037, Error validate 0.0964, Accuracy validate 0.8734\n",
      "Epoch: 100, Error: 0.0469, Accuracy: 0.8064, Error validate 0.0951, Accuracy validate 0.8734\n",
      "Epoch: 99, Error: 0.0462, Accuracy: 0.8074, Error validate 0.0939, Accuracy validate 0.8734\n",
      "Epoch: 98, Error: 0.0457, Accuracy: 0.8104, Error validate 0.0927, Accuracy validate 0.8734\n",
      "Epoch: 97, Error: 0.0451, Accuracy: 0.8125, Error validate 0.0915, Accuracy validate 0.8734\n",
      "Epoch: 96, Error: 0.0445, Accuracy: 0.8149, Error validate 0.0903, Accuracy validate 0.8734\n",
      "Epoch: 95, Error: 0.0440, Accuracy: 0.8160, Error validate 0.0892, Accuracy validate 0.8734\n",
      "Epoch: 94, Error: 0.0434, Accuracy: 0.8187, Error validate 0.0881, Accuracy validate 0.8734\n",
      "Epoch: 93, Error: 0.0429, Accuracy: 0.8200, Error validate 0.0870, Accuracy validate 0.8734\n",
      "Epoch: 92, Error: 0.0424, Accuracy: 0.8219, Error validate 0.0860, Accuracy validate 0.8734\n",
      "Epoch: 91, Error: 0.0419, Accuracy: 0.8238, Error validate 0.0850, Accuracy validate 0.8734\n",
      "Epoch: 90, Error: 0.0414, Accuracy: 0.8262, Error validate 0.0840, Accuracy validate 0.8734\n",
      "Epoch: 89, Error: 0.0409, Accuracy: 0.8281, Error validate 0.0830, Accuracy validate 0.8734\n",
      "Epoch: 88, Error: 0.0404, Accuracy: 0.8302, Error validate 0.0820, Accuracy validate 0.8734\n",
      "Epoch: 87, Error: 0.0399, Accuracy: 0.8324, Error validate 0.0811, Accuracy validate 0.8734\n",
      "Epoch: 86, Error: 0.0395, Accuracy: 0.8340, Error validate 0.0801, Accuracy validate 0.8734\n",
      "Epoch: 85, Error: 0.0390, Accuracy: 0.8356, Error validate 0.0792, Accuracy validate 0.8734\n",
      "Epoch: 84, Error: 0.0386, Accuracy: 0.8366, Error validate 0.0783, Accuracy validate 0.8734\n",
      "Epoch: 83, Error: 0.0382, Accuracy: 0.8380, Error validate 0.0775, Accuracy validate 0.8734\n",
      "Epoch: 82, Error: 0.0377, Accuracy: 0.8382, Error validate 0.0766, Accuracy validate 0.8734\n",
      "Epoch: 81, Error: 0.0373, Accuracy: 0.8407, Error validate 0.0757, Accuracy validate 0.8734\n",
      "Epoch: 80, Error: 0.0369, Accuracy: 0.8423, Error validate 0.0749, Accuracy validate 0.8734\n",
      "Epoch: 79, Error: 0.0365, Accuracy: 0.8444, Error validate 0.0741, Accuracy validate 0.8734\n",
      "Epoch: 78, Error: 0.0361, Accuracy: 0.8468, Error validate 0.0733, Accuracy validate 0.8734\n",
      "Epoch: 77, Error: 0.0357, Accuracy: 0.8487, Error validate 0.0725, Accuracy validate 0.8734\n",
      "Epoch: 76, Error: 0.0353, Accuracy: 0.8500, Error validate 0.0717, Accuracy validate 0.8734\n",
      "Epoch: 75, Error: 0.0349, Accuracy: 0.8524, Error validate 0.0709, Accuracy validate 0.8734\n",
      "Epoch: 74, Error: 0.0346, Accuracy: 0.8540, Error validate 0.0702, Accuracy validate 0.8734\n",
      "Epoch: 73, Error: 0.0342, Accuracy: 0.8559, Error validate 0.0694, Accuracy validate 0.8734\n",
      "Epoch: 72, Error: 0.0339, Accuracy: 0.8573, Error validate 0.0687, Accuracy validate 0.8734\n",
      "Epoch: 71, Error: 0.0335, Accuracy: 0.8583, Error validate 0.0680, Accuracy validate 0.8734\n",
      "Epoch: 70, Error: 0.0332, Accuracy: 0.8599, Error validate 0.0673, Accuracy validate 0.8734\n",
      "Epoch: 69, Error: 0.0328, Accuracy: 0.8615, Error validate 0.0666, Accuracy validate 0.8734\n",
      "Epoch: 68, Error: 0.0325, Accuracy: 0.8634, Error validate 0.0659, Accuracy validate 0.8734\n",
      "Epoch: 67, Error: 0.0322, Accuracy: 0.8656, Error validate 0.0653, Accuracy validate 0.8734\n",
      "Epoch: 66, Error: 0.0318, Accuracy: 0.8661, Error validate 0.0646, Accuracy validate 0.8734\n",
      "Epoch: 65, Error: 0.0315, Accuracy: 0.8672, Error validate 0.0640, Accuracy validate 0.8734\n",
      "Epoch: 64, Error: 0.0312, Accuracy: 0.8682, Error validate 0.0634, Accuracy validate 0.8734\n",
      "Epoch: 63, Error: 0.0309, Accuracy: 0.8701, Error validate 0.0628, Accuracy validate 0.8734\n",
      "Epoch: 62, Error: 0.0306, Accuracy: 0.8731, Error validate 0.0622, Accuracy validate 0.8734\n",
      "Epoch: 61, Error: 0.0304, Accuracy: 0.8739, Error validate 0.0616, Accuracy validate 0.8734\n",
      "Epoch: 60, Error: 0.0301, Accuracy: 0.8749, Error validate 0.0611, Accuracy validate 0.8734\n",
      "Epoch: 59, Error: 0.0298, Accuracy: 0.8757, Error validate 0.0605, Accuracy validate 0.8734\n",
      "Epoch: 58, Error: 0.0295, Accuracy: 0.8763, Error validate 0.0600, Accuracy validate 0.8734\n",
      "Epoch: 57, Error: 0.0293, Accuracy: 0.8773, Error validate 0.0594, Accuracy validate 0.8734\n",
      "Epoch: 56, Error: 0.0290, Accuracy: 0.8787, Error validate 0.0589, Accuracy validate 0.8734\n",
      "Epoch: 55, Error: 0.0288, Accuracy: 0.8795, Error validate 0.0584, Accuracy validate 0.8734\n",
      "Epoch: 54, Error: 0.0285, Accuracy: 0.8798, Error validate 0.0579, Accuracy validate 0.8734\n",
      "Epoch: 53, Error: 0.0283, Accuracy: 0.8816, Error validate 0.0574, Accuracy validate 0.8734\n",
      "Epoch: 52, Error: 0.0281, Accuracy: 0.8824, Error validate 0.0570, Accuracy validate 0.8734\n",
      "Epoch: 51, Error: 0.0278, Accuracy: 0.8840, Error validate 0.0565, Accuracy validate 0.8734\n",
      "Epoch: 50, Error: 0.0276, Accuracy: 0.8856, Error validate 0.0561, Accuracy validate 0.8734\n",
      "Epoch: 49, Error: 0.0274, Accuracy: 0.8864, Error validate 0.0556, Accuracy validate 0.8734\n",
      "Epoch: 48, Error: 0.0272, Accuracy: 0.8870, Error validate 0.0552, Accuracy validate 0.8734\n",
      "Epoch: 47, Error: 0.0270, Accuracy: 0.8878, Error validate 0.0548, Accuracy validate 0.8734\n",
      "Epoch: 46, Error: 0.0268, Accuracy: 0.8894, Error validate 0.0543, Accuracy validate 0.8734\n",
      "Epoch: 45, Error: 0.0266, Accuracy: 0.8905, Error validate 0.0539, Accuracy validate 0.8734\n",
      "Epoch: 44, Error: 0.0264, Accuracy: 0.8918, Error validate 0.0535, Accuracy validate 0.8734\n",
      "Epoch: 43, Error: 0.0262, Accuracy: 0.8929, Error validate 0.0532, Accuracy validate 0.8734\n",
      "Epoch: 42, Error: 0.0260, Accuracy: 0.8934, Error validate 0.0528, Accuracy validate 0.8734\n",
      "Epoch: 41, Error: 0.0258, Accuracy: 0.8942, Error validate 0.0524, Accuracy validate 0.8734\n",
      "Epoch: 40, Error: 0.0257, Accuracy: 0.8964, Error validate 0.0521, Accuracy validate 0.8734\n",
      "Epoch: 39, Error: 0.0255, Accuracy: 0.8977, Error validate 0.0517, Accuracy validate 0.8734\n",
      "Epoch: 38, Error: 0.0253, Accuracy: 0.8990, Error validate 0.0514, Accuracy validate 0.8734\n",
      "Epoch: 37, Error: 0.0252, Accuracy: 0.9001, Error validate 0.0511, Accuracy validate 0.8734\n",
      "Epoch: 36, Error: 0.0250, Accuracy: 0.9012, Error validate 0.0507, Accuracy validate 0.8734\n",
      "Epoch: 35, Error: 0.0248, Accuracy: 0.9033, Error validate 0.0504, Accuracy validate 0.8734\n",
      "Epoch: 34, Error: 0.0247, Accuracy: 0.9055, Error validate 0.0501, Accuracy validate 0.8734\n",
      "Epoch: 33, Error: 0.0245, Accuracy: 0.9063, Error validate 0.0498, Accuracy validate 0.8734\n",
      "Epoch: 32, Error: 0.0244, Accuracy: 0.9071, Error validate 0.0495, Accuracy validate 0.8734\n",
      "Epoch: 31, Error: 0.0243, Accuracy: 0.9076, Error validate 0.0492, Accuracy validate 0.8734\n",
      "Epoch: 30, Error: 0.0241, Accuracy: 0.9076, Error validate 0.0490, Accuracy validate 0.8734\n",
      "Epoch: 29, Error: 0.0240, Accuracy: 0.9084, Error validate 0.0487, Accuracy validate 0.8734\n",
      "Epoch: 28, Error: 0.0239, Accuracy: 0.9097, Error validate 0.0484, Accuracy validate 0.8734\n",
      "Epoch: 27, Error: 0.0237, Accuracy: 0.9111, Error validate 0.0482, Accuracy validate 0.8734\n",
      "Epoch: 26, Error: 0.0236, Accuracy: 0.9119, Error validate 0.0479, Accuracy validate 0.8734\n",
      "Epoch: 25, Error: 0.0235, Accuracy: 0.9135, Error validate 0.0477, Accuracy validate 0.8734\n",
      "Epoch: 24, Error: 0.0234, Accuracy: 0.9143, Error validate 0.0474, Accuracy validate 0.8734\n",
      "Epoch: 23, Error: 0.0233, Accuracy: 0.9156, Error validate 0.0472, Accuracy validate 0.8734\n",
      "Epoch: 22, Error: 0.0231, Accuracy: 0.9167, Error validate 0.0470, Accuracy validate 0.8734\n"
     ]
    },
    {
     "name": "stdout",
     "output_type": "stream",
     "text": [
      "Epoch: 21, Error: 0.0230, Accuracy: 0.9172, Error validate 0.0467, Accuracy validate 0.8734\n",
      "Epoch: 20, Error: 0.0229, Accuracy: 0.9183, Error validate 0.0465, Accuracy validate 0.8734\n",
      "Epoch: 19, Error: 0.0228, Accuracy: 0.9191, Error validate 0.0463, Accuracy validate 0.8734\n",
      "Epoch: 18, Error: 0.0227, Accuracy: 0.9194, Error validate 0.0461, Accuracy validate 0.8734\n",
      "Epoch: 17, Error: 0.0226, Accuracy: 0.9199, Error validate 0.0459, Accuracy validate 0.8734\n",
      "Epoch: 16, Error: 0.0225, Accuracy: 0.9199, Error validate 0.0457, Accuracy validate 0.8734\n",
      "Epoch: 15, Error: 0.0224, Accuracy: 0.9213, Error validate 0.0455, Accuracy validate 0.8734\n",
      "Epoch: 14, Error: 0.0223, Accuracy: 0.9215, Error validate 0.0453, Accuracy validate 0.8734\n",
      "Epoch: 13, Error: 0.0222, Accuracy: 0.9221, Error validate 0.0451, Accuracy validate 0.8734\n",
      "Epoch: 12, Error: 0.0221, Accuracy: 0.9223, Error validate 0.0449, Accuracy validate 0.8734\n",
      "Epoch: 11, Error: 0.0220, Accuracy: 0.9226, Error validate 0.0447, Accuracy validate 0.8734\n",
      "Epoch: 10, Error: 0.0219, Accuracy: 0.9234, Error validate 0.0445, Accuracy validate 0.8734\n",
      "Epoch: 9, Error: 0.0218, Accuracy: 0.9239, Error validate 0.0443, Accuracy validate 0.8734\n",
      "Epoch: 8, Error: 0.0217, Accuracy: 0.9250, Error validate 0.0441, Accuracy validate 0.8734\n",
      "Epoch: 7, Error: 0.0216, Accuracy: 0.9258, Error validate 0.0439, Accuracy validate 0.8734\n",
      "Epoch: 6, Error: 0.0216, Accuracy: 0.9266, Error validate 0.0438, Accuracy validate 0.8734\n",
      "Epoch: 5, Error: 0.0215, Accuracy: 0.9274, Error validate 0.0436, Accuracy validate 0.8734\n",
      "Epoch: 4, Error: 0.0214, Accuracy: 0.9274, Error validate 0.0434, Accuracy validate 0.8734\n",
      "Epoch: 3, Error: 0.0213, Accuracy: 0.9280, Error validate 0.0432, Accuracy validate 0.8734\n",
      "Epoch: 2, Error: 0.0212, Accuracy: 0.9293, Error validate 0.0430, Accuracy validate 0.8734\n",
      "Epoch: 1, Error: 0.0211, Accuracy: 0.9304, Error validate 0.0429, Accuracy validate 0.8734\n",
      "Epoch: 0, Error: 0.0210, Accuracy: 0.9306, Error validate 0.0427, Accuracy validate 0.8734\n"
     ]
    }
   ],
   "source": [
    "n_epoch = 200\n",
    "while(n_epoch > 0): \n",
    "    for i in range(len(X_train)):\n",
    "        model.train(X_train[i], y_train[i])  \n",
    "    n_epoch = n_epoch - 1\n",
    "    \n",
    "    s = 0.0   \n",
    "    poz = 0.0\n",
    "    sv = 0.0   \n",
    "    pozv = 0.0\n",
    "    for i in range(len(X_train)):\n",
    "        p = model.predict(X_train[i])     \n",
    "        # s = s + (y_train[i] - p) ** 2 # mse\n",
    "        t = y_train[i]\n",
    "        s = s + (t * np.log(p) + (1-t) *np.log(1-p) ) # bce\n",
    "        if(np.absolute(p - y_train[i]) < accuracy_rate):\n",
    "            poz = poz + 1\n",
    "            \n",
    "    for i in range(len(X_test)):        \n",
    "        pv = model.predict(X_test[i])     \n",
    "        #sv = sv + (1. / 1 + np.exp(-(y_test[i] - pv)))\n",
    "        t = y_test[i]\n",
    "        sv = s + (t * np.log(pv) + (1-t) *np.log(1-pv) ) # bce\n",
    "        if(np.absolute(p - y_train[i]) < accuracy_rate):\n",
    "            pozv = pozv + 1\n",
    "    accuracy.append(poz / len(X_train))    \n",
    "    errors.append(-s / len(X_train))   \n",
    "    \n",
    "    print(\"Epoch: %d, Error: %.4f, Accuracy: %.4f, Error validate %.4f, Accuracy validate %.4f\" % \n",
    "          (n_epoch, min(errors), max(accuracy), (-sv/len(X_test)), pozv / len(X_test)))"
   ]
  },
  {
   "cell_type": "markdown",
   "metadata": {},
   "source": [
    "Выводим график обучения сети"
   ]
  },
  {
   "cell_type": "code",
   "execution_count": 23,
   "metadata": {},
   "outputs": [
    {
     "data": {
      "image/png": "[encoded data removed]",
      "text/plain": [
       "<Figure size 720x432 with 1 Axes>"
      ]
     },
     "metadata": {
      "needs_background": "light"
     },
     "output_type": "display_data"
    }
   ],
   "source": [
    "\n",
    "plt.figure(figsize = (10, 6))\n",
    "plt.plot(errors, label='errors mse', color = 'red')\n",
    "plt.plot(accuracy, label='accuracy')\n",
    "plt.legend()\n",
    "plt.show()"
   ]
  },
  {
   "cell_type": "code",
   "execution_count": 24,
   "metadata": {},
   "outputs": [
    {
     "name": "stdout",
     "output_type": "stream",
     "text": [
      "Error: 0.0210, Accuracy: 0.9306\n"
     ]
    }
   ],
   "source": [
    "print(\"Error: %.4f, Accuracy: %.4f\" % (min(errors), max(accuracy)))"
   ]
  },
  {
   "cell_type": "code",
   "execution_count": 25,
   "metadata": {},
   "outputs": [
    {
     "name": "stdout",
     "output_type": "stream",
     "text": [
      "[0. 0. 0. ... 0. 0. 0.]\n",
      "Predict: 0.01, Actual: 0.00, Class: ham , \n",
      "  Go until jurong point  crazy Available only in bugis n great world la e buffet Cine there got amore wat\n",
      "\n",
      "Predict: 0.01, Actual: 0.00, Class: ham , \n",
      "  Ok lar Joking wif u oni\n",
      "\n",
      "Predict: 0.99, Actual: 1.00, Class: spam, \n",
      "   Free entry in 2 a wkly comp to win FA Cup final tkts 21st May 2005 Text FA to 87121 to receive entry questionstd txt rateTCs apply 08452810075over18s\n",
      "\n",
      "Predict: 0.00, Actual: 0.00, Class: ham , \n",
      "  U dun say so early hor U c already then say\n",
      "\n",
      "Predict: 0.00, Actual: 0.00, Class: ham , \n",
      "  Nah I dont think he goes to usf  he lives around here though\n",
      "\n",
      "Predict: 0.86, Actual: 1.00, Class: spam, \n",
      "   FreeMsg Hey there darling its been 3 weeks now and no word back Id like some fun you up for it still Tb ok XxX std chgs to send  150 to rcv\n",
      "\n",
      "Predict: 0.00, Actual: 0.00, Class: ham , \n",
      "  Even my brother is not like to speak with me They treat me like aids patent\n",
      "\n",
      "Predict: 0.05, Actual: 0.00, Class: ham , \n",
      "  As per your request Melle Melle Oru Minnaminunginte Nurungu Vettam has been set as your callertune for all Callers Press 9 to copy your friends Callertune\n",
      "\n",
      "Predict: 1.00, Actual: 1.00, Class: spam, \n",
      "   WINNER As a valued network customer you have been selected to receivea 900 prize reward To claim call 09061701461 Claim code KL341 Valid 12 hours only\n",
      "\n",
      "Predict: 1.00, Actual: 1.00, Class: spam, \n",
      "   Had your mobile 11 months or more U R entitled to Update to the latest colour mobiles with camera for Free Call The Mobile Update Co FREE on 08002986030\n",
      "\n",
      "Predict: 0.00, Actual: 0.00, Class: ham , \n",
      "  Im gonna be home soon and i dont want to talk about this stuff anymore tonight  k Ive cried enough today\n",
      "\n",
      "Predict: 1.00, Actual: 1.00, Class: spam, \n",
      "   SIX chances to win CASH From 100 to 20 000 pounds txt CSH11 and send to 87575 Cost 150pday  6days  16 TsandCs apply Reply HL 4 info\n",
      "\n",
      "Predict: 1.00, Actual: 1.00, Class: spam, \n",
      "   URGENT You have won a 1 week FREE membership in our 100 000 Prize Jackpot Txt the word CLAIM to No 81010 TC wwwdbuknet LCCLTD POBOX 4403LDNW1A7RW18\n",
      "\n",
      "Predict: 0.03, Actual: 0.00, Class: ham , \n",
      "  Ive been searching for the right words to thank you for this breather I promise i wont take your help for granted and will fulfil my promise You have been wonderful and a blessing at all times\n",
      "\n",
      "Predict: 0.04, Actual: 0.00, Class: ham , \n",
      "  I HAVE A DATE ON SUNDAY WITH WILL\n",
      "\n",
      "Predict: 0.96, Actual: 1.00, Class: spam, \n",
      "   XXXMobileMovieClub To use your credit  click the WAP link in the next txt message or click here httpwap xxxmobilemovieclubcomnQJKGIGHJJGCBL\n",
      "\n",
      "Predict: 0.00, Actual: 0.00, Class: ham , \n",
      "  Oh kim watching here\n",
      "\n",
      "Predict: 0.00, Actual: 0.00, Class: ham , \n",
      "  Eh u remember how 2 spell his name Yes i did He v naughty make until i v wet\n",
      "\n",
      "Predict: 0.00, Actual: 0.00, Class: ham , \n",
      "  Fine if thats the way u feel Thats the way its gota b\n",
      "\n",
      "Predict: 1.00, Actual: 1.00, Class: spam, \n",
      "   England v Macedonia  dont miss the goalsteam news Txt ur national team to 87077 eg ENGLAND to 87077 TryWALES  SCOTLAND 4txt120 POBOXox36504W45WQ 16\n",
      "\n"
     ]
    }
   ],
   "source": [
    "\n",
    "text_x = vectorizer.transform(df['text']).toarray()\n",
    "\n",
    "print(text_x[0])\n",
    "\n",
    "for i in range(20):  \n",
    "    p = model.predict(text_x[i])  \n",
    "   \n",
    "    print(\"Predict: %.2f, Actual: %.2f, Class: %s, \\n %s\" % (p, df['target'][i], df['class'][i], df['text'][i])) \n",
    "    print('')"
   ]
  },
  {
   "cell_type": "code",
   "execution_count": null,
   "metadata": {},
   "outputs": [],
   "source": []
  }
 ],
 "metadata": {
  "kernelspec": {
   "display_name": "Python 2",
   "language": "python",
   "name": "python2"
  },
  "language_info": {
   "codemirror_mode": {
    "name": "ipython",
    "version": 3
   },
   "file_extension": ".py",
   "mimetype": "text/x-python",
   "name": "python",
   "nbconvert_exporter": "python",
   "pygments_lexer": "ipython3",
   "version": "3.5.2"
  }
 },
 "nbformat": 4,
 "nbformat_minor": 2
}
