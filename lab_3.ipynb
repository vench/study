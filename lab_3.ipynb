{
 "cells": [
  {
   "cell_type": "markdown",
   "metadata": {},
   "source": [
    "# Реализация алгоритма модели нейронной сети\n",
    "\n",
    "### Сделаем импорт основных библиотек"
   ]
  },
  {
   "cell_type": "code",
   "execution_count": 5,
   "metadata": {},
   "outputs": [],
   "source": [
    "import numpy as np\n",
    "from sklearn.model_selection import train_test_split\n",
    "import matplotlib.pyplot as plt\n",
    "%matplotlib inline\n",
    "\n",
    "np.random.seed(45)"
   ]
  },
  {
   "cell_type": "markdown",
   "metadata": {},
   "source": [
    "### Создаем искусственный набор данных"
   ]
  },
  {
   "cell_type": "code",
   "execution_count": 2,
   "metadata": {},
   "outputs": [],
   "source": [
    "# Y, X1, X2, X3\n",
    "data = np.array([\n",
    "    [0.0, 1.0, 1.0, 0.0],\n",
    "    [0.0, 0.0, 0.0, 0.0],\n",
    "    [0.0, 0.0, 1.0, 0.0],\n",
    "    [0.0, 1.0, 1.0, 0.0],\n",
    "    [0.0, 0.0, 1.0, 1.0],\n",
    "    [0.0, 0.98, 0.98, 0.0],\n",
    "    [0.0, 0.0, 0.0, 0.0],\n",
    "    [0.0, 0.01, 0.98, 0.09],\n",
    "    [0.0, 0.98, 0.98, 0.1],\n",
    "    [0.0, 0.02, 0.98, 0.98],    \n",
    "    [1.0, 0.0, 0.0, 1.0],\n",
    "    [1.0, 1.0, 0.0, 0.0],\n",
    "    [1.0, 1.0, 0.0, 1.0],\n",
    "    [1.0, 1.0, 1.0, 1.0],    \n",
    "    [1.0, 0.01, 0.02, 0.98],\n",
    "    [1.0, 0.98, 0.03, 0.0],\n",
    "    [1.0, 0.98, 0.04, 0.98],\n",
    "    [1.0, 0.99, 0.95, 0.98],\n",
    "])  \n",
    " "
   ]
  },
  {
   "cell_type": "markdown",
   "metadata": {},
   "source": [
    "\n",
    "Визуализируем данные с помощью pca (метод главных компонент)"
   ]
  },
  {
   "cell_type": "code",
   "execution_count": 6,
   "metadata": {},
   "outputs": [
    {
     "data": {
      "text/plain": [
       "<matplotlib.collections.PathCollection at 0x7f4e59808d50>"
      ]
     },
     "execution_count": 6,
     "metadata": {},
     "output_type": "execute_result"
    },
    {
     "data": {
      "image/png": "[encoded data removed]",
      "text/plain": [
       "<Figure size 720x432 with 1 Axes>"
      ]
     },
     "metadata": {},
     "output_type": "display_data"
    }
   ],
   "source": [
    "# Show data\n",
    "from sklearn import manifold\n",
    "\n",
    "tsne = manifold.TSNE(n_components = 2, init = 'pca', random_state = 0)\n",
    "data_2d_tsne = tsne.fit_transform(data[:,1:]) \n",
    "\n",
    "plt.figure(figsize = (10, 6))\n",
    "plt.scatter(data_2d_tsne[:, 0], data_2d_tsne[:, 1], c = data[:,0])"
   ]
  },
  {
   "cell_type": "markdown",
   "metadata": {},
   "source": [
    "Создаем простую модель нейронной сети - классификатора\n",
    "\n",
    "Функция активации\n",
    "\n",
    "$$ \\dfrac{1}{1+e^{-x}}$$"
   ]
  },
  {
   "cell_type": "code",
   "execution_count": 8,
   "metadata": {},
   "outputs": [],
   "source": [
    "\n",
    "class Model:\n",
    "    ''' NN model '''\n",
    "    \n",
    "    def __init__(self, learning_rate = 0.05, innput_size = 3, hidden_size = 2):\n",
    "            self.learning_rate = learning_rate\n",
    "            self.innput_size = innput_size\n",
    "            \n",
    "            self.WH1 = np.random.rand(hidden_size,innput_size)\n",
    "            self.WH2 = np.random.rand(1,hidden_size)\n",
    "            self.O1 = np.array([])\n",
    "            self.O2 = np.array([])\n",
    "            #print(self.WH1)\n",
    "            #print(self.WH2)\n",
    "        \n",
    "    ''' Predict model '''    \n",
    "    def predict(self, inputs):\n",
    "        self.O1 = self.WH1.dot(inputs)\n",
    "        self.O1 = self.sigmoid(self.O1)\n",
    "        self.O2 = self.WH2.dot(self.O1)\n",
    "        self.O2 = self.sigmoid(self.O2) \n",
    "        return self.O2\n",
    "    \n",
    "    ''' Train model '''\n",
    "    def train(self, inputs, actual):\n",
    "        out = self.predict(inputs)\n",
    "        outputs_2 = out[0]\n",
    "        # получаем ошибку\n",
    "        error_2 = outputs_2 - actual \n",
    "        # получаем градиент 2 слоя т.к. значение функции равно ее производной, нам ненужно делать вычисления\n",
    "        gradient_layer_2 = outputs_2 * (1 - outputs_2) # dx\n",
    "        # получаем вклад в общую ошибку 2 слоя (через градиент)\n",
    "        weights_delta_layer_2 = error_2 * gradient_layer_2        \n",
    "        # вычитаем ошибку из второго (скрытого) слоя, с штрафом learning_rate\n",
    "        self.WH2 -=  self.O1.dot(weights_delta_layer_2 * self.learning_rate)\n",
    "        error_layer_1 = weights_delta_layer_2 *  self.WH2\n",
    "        \n",
    "        # получаем градиент 1 слоя\n",
    "        gradient_layer_1 = self.O1 * (1 -  self.O1) # dx\n",
    "        # получаем вклад в общую ошибку 1 слоя (через градиент)\n",
    "        weights_delta_layer_1 =  error_layer_1 * gradient_layer_1 \n",
    "        # вычитаем ошибку из входного слоя, с штрафом learning_rate\n",
    "        ne = inputs.reshape(self.innput_size,1).dot(weights_delta_layer_1   * self.learning_rate) \n",
    "        self.WH1 -= ne.T\n",
    "            \n",
    "    \n",
    "    ''' Function sigmoid '''\n",
    "    def sigmoid(self, x):\n",
    "        return 1. / (1. + np.exp( -x ))\n",
    "        \n",
    "            "
   ]
  },
  {
   "cell_type": "markdown",
   "metadata": {},
   "source": [
    "### Создаем модель нейронной сети для работы с искусственным набором данных"
   ]
  },
  {
   "cell_type": "code",
   "execution_count": 29,
   "metadata": {},
   "outputs": [],
   "source": [
    "model = Model(hidden_size=2) \n",
    "\n",
    "accuracy_rate = 0.05 # 5%\n",
    "errors = []\n",
    "accuracy = []"
   ]
  },
  {
   "cell_type": "code",
   "execution_count": 30,
   "metadata": {},
   "outputs": [],
   "source": [
    "n_epoch = 2000 \n",
    "\n",
    "while(n_epoch > 0):\n",
    "    \n",
    "    for item in data:  \n",
    "        model.train(item[1:], item[0]) \n",
    "    \n",
    "    n_epoch = n_epoch - 1\n",
    "    \n",
    "    s = 0.0   \n",
    "    poz = 0.0\n",
    "    for item in data: \n",
    "        p = model.predict(item[1:])     \n",
    "        s = s + (item[0] - p) ** 2\n",
    "        #s = s + (1. / (1 + np.exp(- (item[0] - p))))\n",
    "        if(np.absolute(p - item[0]) < accuracy_rate):\n",
    "            poz = poz + 1\n",
    "    accuracy.append(poz / len(data))    \n",
    "    errors.append(s )    \n",
    " "
   ]
  },
  {
   "cell_type": "markdown",
   "metadata": {},
   "source": [
    "Выводим график обучения сети"
   ]
  },
  {
   "cell_type": "code",
   "execution_count": 31,
   "metadata": {},
   "outputs": [
    {
     "data": {
      "image/png": "[encoded data removed]",
      "text/plain": [
       "<Figure size 720x432 with 1 Axes>"
      ]
     },
     "metadata": {},
     "output_type": "display_data"
    }
   ],
   "source": [
    "\n",
    "plt.figure(figsize = (10, 6))\n",
    "plt.plot(errors, label='errors mse', color = 'red')\n",
    "plt.plot(accuracy, label='accuracy')\n",
    "plt.legend()\n",
    "plt.show()"
   ]
  },
  {
   "cell_type": "code",
   "execution_count": 15,
   "metadata": {},
   "outputs": [
    {
     "name": "stdout",
     "output_type": "stream",
     "text": [
      "Error: 0.0328, Accuracy: 0.7778\n"
     ]
    }
   ],
   "source": [
    "print(\"Error: %.4f, Accuracy: %.4f\" % (min(errors), max(accuracy)))\n"
   ]
  },
  {
   "cell_type": "code",
   "execution_count": 16,
   "metadata": {},
   "outputs": [
    {
     "name": "stdout",
     "output_type": "stream",
     "text": [
      "Predict: 0.02, Actual: 0.00\n",
      "Predict: 0.09, Actual: 0.00\n",
      "Predict: 0.00, Actual: 0.00\n",
      "Predict: 0.02, Actual: 0.00\n",
      "Predict: 0.02, Actual: 0.00\n",
      "Predict: 0.02, Actual: 0.00\n",
      "Predict: 0.09, Actual: 0.00\n",
      "Predict: 0.00, Actual: 0.00\n",
      "Predict: 0.03, Actual: 0.00\n",
      "Predict: 0.03, Actual: 0.00\n",
      "Predict: 0.96, Actual: 1.00\n",
      "Predict: 0.96, Actual: 1.00\n",
      "Predict: 0.98, Actual: 1.00\n",
      "Predict: 0.94, Actual: 1.00\n",
      "Predict: 0.96, Actual: 1.00\n",
      "Predict: 0.95, Actual: 1.00\n",
      "Predict: 0.98, Actual: 1.00\n",
      "Predict: 0.95, Actual: 1.00\n"
     ]
    }
   ],
   "source": [
    "for item in data: \n",
    "    p = model.predict(item[1:])     \n",
    "    print(\"Predict: %.2f, Actual: %.2f\" % (p, item[0]))"
   ]
  },
  {
   "cell_type": "markdown",
   "metadata": {},
   "source": [
    "### Создаем модель классификатор спама\n",
    "\n",
    "Сначала загружаем набор данных SMSSpamCollection"
   ]
  },
  {
   "cell_type": "code",
   "execution_count": 17,
   "metadata": {},
   "outputs": [
    {
     "name": "stdout",
     "output_type": "stream",
     "text": [
      "  class                                               text\n",
      "0  ham    Go until jurong point  crazy Available only i...\n",
      "1  ham                             Ok lar Joking wif u oni\n",
      "2  spam    Free entry in 2 a wkly comp to win FA Cup fi...\n",
      "<class 'pandas.core.frame.DataFrame'>\n",
      "RangeIndex: 5574 entries, 0 to 5573\n",
      "Data columns (total 2 columns):\n",
      "class    5574 non-null object\n",
      "text     5574 non-null object\n",
      "dtypes: object(2)\n",
      "memory usage: 87.2+ KB\n",
      "None\n",
      "     class                                               text\n",
      "1153  ham                                 Ok i go change also\n",
      "2993  ham                   Ki didt see youkwhere are you now\n",
      "2695  ham    Hey sexy buns What of that day No word from y...\n"
     ]
    }
   ],
   "source": [
    "import pandas as pd\n",
    "\n",
    "file_data = './data_sets/SMSSpamCollection.csv'\n",
    "\n",
    "df = pd.read_csv(file_data, names=['class','text'])\n",
    "print(df.head(3))\n",
    "print(df.info())\n",
    "print(df.sample(3))"
   ]
  },
  {
   "cell_type": "markdown",
   "metadata": {},
   "source": [
    "Добавим метку с классом target и построим гистограмму распределения класса."
   ]
  },
  {
   "cell_type": "code",
   "execution_count": 18,
   "metadata": {},
   "outputs": [
    {
     "name": "stdout",
     "output_type": "stream",
     "text": [
      "        class  text\n",
      "target             \n",
      "0        4827  4827\n",
      "1         747   747\n"
     ]
    },
    {
     "data": {
      "text/plain": [
       "array([<matplotlib.axes._subplots.AxesSubplot object at 0x7f4e592cb690>],\n",
       "      dtype=object)"
      ]
     },
     "execution_count": 18,
     "metadata": {},
     "output_type": "execute_result"
    },
    {
     "data": {
      "text/plain": [
       "<Figure size 720x432 with 0 Axes>"
      ]
     },
     "metadata": {},
     "output_type": "display_data"
    },
    {
     "data": {
      "image/png": "[encoded data removed]",
      "text/plain": [
       "<Figure size 720x432 with 1 Axes>"
      ]
     },
     "metadata": {},
     "output_type": "display_data"
    }
   ],
   "source": [
    "def t(x): \n",
    "    if(x == 'spam'):\n",
    "        return 1\n",
    "    return 0\n",
    "\n",
    "df['target'] = df['class'].map(t)\n",
    "print(df.groupby('target').count())\n",
    "\n",
    "# plt.\n",
    "plt.figure(figsize = (10, 6))\n",
    "fig = plt.figure(figsize = (10,6))\n",
    "ax = fig.gca() \n",
    "df.hist('target', ax = ax)"
   ]
  },
  {
   "cell_type": "markdown",
   "metadata": {},
   "source": [
    "### Подготовим текст\n",
    "\n",
    "Разобьем выборку на тренировочную и обучающую часть ~ 67 / 33 %\n",
    "\n",
    "Проведем векторизацию текста слов (построим для каждого примера частотное распределение в общем словаре)\n",
    "\n",
    "Зазадим максимальный корпус слов 5000"
   ]
  },
  {
   "cell_type": "code",
   "execution_count": 19,
   "metadata": {},
   "outputs": [
    {
     "name": "stdout",
     "output_type": "stream",
     "text": [
      "(3734, 5000)\n",
      "(3734,)\n"
     ]
    }
   ],
   "source": [
    "from sklearn.feature_extraction.text import TfidfVectorizer\n",
    "\n",
    "\n",
    "text_train, text_test, y_train, y_test = train_test_split(df['text'], df['target'].as_matrix(), test_size=0.33, random_state=42)\n",
    "\n",
    "vectorizer = TfidfVectorizer(max_features=5000, token_pattern='[a-zA-Z]+', stop_words=['and', 'a', 'the', 'they', 'on', 'or', 'if', 'else', 'then']) \n",
    "X_train = vectorizer.fit_transform(text_train).toarray()\n",
    "X_test = vectorizer.transform(text_test).toarray()\n",
    "#print(vectorizer.get_feature_names()) \n",
    "print(X_train.shape)\n",
    "print(y_train.shape)"
   ]
  },
  {
   "cell_type": "markdown",
   "metadata": {},
   "source": [
    "### Создадим модель и обучим"
   ]
  },
  {
   "cell_type": "code",
   "execution_count": 20,
   "metadata": {},
   "outputs": [],
   "source": [
    "model = Model(innput_size = 5000,hidden_size=10) \n",
    " \n",
    "accuracy_rate = 0.05 # 5%\n",
    "errors = []\n",
    "accuracy = []\n",
    "    "
   ]
  },
  {
   "cell_type": "code",
   "execution_count": 21,
   "metadata": {},
   "outputs": [
    {
     "name": "stdout",
     "output_type": "stream",
     "text": [
      "Epoch: 199, Error: 444.2068, Accuracy: 0.0000, Error validate 228.6596, Accuracy validate 0.0000\n",
      "Epoch: 198, Error: 443.9769, Accuracy: 0.0000, Error validate 228.5240, Accuracy validate 0.0000\n",
      "Epoch: 197, Error: 443.7497, Accuracy: 0.0000, Error validate 228.3898, Accuracy validate 0.0000\n",
      "Epoch: 196, Error: 443.5236, Accuracy: 0.0000, Error validate 228.2562, Accuracy validate 0.0000\n",
      "Epoch: 195, Error: 443.2966, Accuracy: 0.0000, Error validate 228.1220, Accuracy validate 0.0000\n",
      "Epoch: 194, Error: 443.0671, Accuracy: 0.0000, Error validate 227.9862, Accuracy validate 0.0000\n",
      "Epoch: 193, Error: 442.8332, Accuracy: 0.0000, Error validate 227.8478, Accuracy validate 0.0000\n",
      "Epoch: 192, Error: 442.5930, Accuracy: 0.0000, Error validate 227.7057, Accuracy validate 0.0000\n",
      "Epoch: 191, Error: 442.3443, Accuracy: 0.0000, Error validate 227.5586, Accuracy validate 0.0000\n",
      "Epoch: 190, Error: 442.0852, Accuracy: 0.0000, Error validate 227.4054, Accuracy validate 0.0000\n",
      "Epoch: 189, Error: 441.8133, Accuracy: 0.0000, Error validate 227.2447, Accuracy validate 0.0000\n",
      "Epoch: 188, Error: 441.5260, Accuracy: 0.0000, Error validate 227.0751, Accuracy validate 0.0000\n",
      "Epoch: 187, Error: 441.2208, Accuracy: 0.0000, Error validate 226.8950, Accuracy validate 0.0000\n",
      "Epoch: 186, Error: 440.8944, Accuracy: 0.0000, Error validate 226.7026, Accuracy validate 0.0000\n",
      "Epoch: 185, Error: 440.5436, Accuracy: 0.0000, Error validate 226.4962, Accuracy validate 0.0000\n",
      "Epoch: 184, Error: 440.1647, Accuracy: 0.0000, Error validate 226.2733, Accuracy validate 0.0000\n",
      "Epoch: 183, Error: 439.7532, Accuracy: 0.0000, Error validate 226.0317, Accuracy validate 0.0000\n",
      "Epoch: 182, Error: 439.3044, Accuracy: 0.0000, Error validate 225.7686, Accuracy validate 0.0000\n",
      "Epoch: 181, Error: 438.8127, Accuracy: 0.0000, Error validate 225.4806, Accuracy validate 0.0000\n",
      "Epoch: 180, Error: 438.2717, Accuracy: 0.0000, Error validate 225.1643, Accuracy validate 0.0000\n",
      "Epoch: 179, Error: 437.6739, Accuracy: 0.0000, Error validate 224.8153, Accuracy validate 0.0000\n",
      "Epoch: 178, Error: 437.0106, Accuracy: 0.0000, Error validate 224.4286, Accuracy validate 0.0000\n",
      "Epoch: 177, Error: 436.2715, Accuracy: 0.0000, Error validate 223.9984, Accuracy validate 0.0000\n",
      "Epoch: 176, Error: 435.4445, Accuracy: 0.0000, Error validate 223.5178, Accuracy validate 0.0000\n",
      "Epoch: 175, Error: 434.5151, Accuracy: 0.0000, Error validate 222.9785, Accuracy validate 0.0000\n",
      "Epoch: 174, Error: 433.4658, Accuracy: 0.0000, Error validate 222.3707, Accuracy validate 0.0000\n",
      "Epoch: 173, Error: 432.2754, Accuracy: 0.0000, Error validate 221.6823, Accuracy validate 0.0000\n",
      "Epoch: 172, Error: 430.9179, Accuracy: 0.0000, Error validate 220.8989, Accuracy validate 0.0000\n",
      "Epoch: 171, Error: 429.3615, Accuracy: 0.0000, Error validate 220.0023, Accuracy validate 0.0000\n",
      "Epoch: 170, Error: 427.5663, Accuracy: 0.0000, Error validate 218.9704, Accuracy validate 0.0000\n",
      "Epoch: 169, Error: 425.4823, Accuracy: 0.0000, Error validate 217.7753, Accuracy validate 0.0000\n",
      "Epoch: 168, Error: 423.0461, Accuracy: 0.0000, Error validate 216.3818, Accuracy validate 0.0000\n",
      "Epoch: 167, Error: 420.1766, Accuracy: 0.0000, Error validate 214.7455, Accuracy validate 0.0000\n",
      "Epoch: 166, Error: 416.7692, Accuracy: 0.0000, Error validate 212.8092, Accuracy validate 0.0000\n",
      "Epoch: 165, Error: 412.6886, Accuracy: 0.0000, Error validate 210.5000, Accuracy validate 0.0000\n",
      "Epoch: 164, Error: 407.7593, Accuracy: 0.0000, Error validate 207.7248, Accuracy validate 0.0000\n",
      "Epoch: 163, Error: 401.7556, Accuracy: 0.0000, Error validate 204.3664, Accuracy validate 0.0000\n",
      "Epoch: 162, Error: 394.3933, Accuracy: 0.0000, Error validate 200.2813, Accuracy validate 0.0000\n",
      "Epoch: 161, Error: 385.3309, Accuracy: 0.0000, Error validate 195.3051, Accuracy validate 0.0000\n",
      "Epoch: 160, Error: 374.1940, Accuracy: 0.0000, Error validate 189.2709, Accuracy validate 0.0000\n",
      "Epoch: 159, Error: 360.6457, Accuracy: 0.0000, Error validate 182.0516, Accuracy validate 0.0000\n",
      "Epoch: 158, Error: 344.5138, Accuracy: 0.0000, Error validate 173.6234, Accuracy validate 0.0000\n",
      "Epoch: 157, Error: 325.9468, Accuracy: 0.0000, Error validate 164.1298, Accuracy validate 0.0000\n",
      "Epoch: 156, Error: 305.5110, Accuracy: 0.0000, Error validate 153.9004, Accuracy validate 0.0000\n",
      "Epoch: 155, Error: 284.1338, Accuracy: 0.0003, Error validate 143.3997, Accuracy validate 0.0000\n",
      "Epoch: 154, Error: 262.8907, Accuracy: 0.0008, Error validate 133.1251, Accuracy validate 0.0000\n",
      "Epoch: 153, Error: 242.7362, Accuracy: 0.0043, Error validate 123.4975, Accuracy validate 0.0000\n",
      "Epoch: 152, Error: 224.3103, Accuracy: 0.0139, Error validate 114.7880, Accuracy validate 0.0000\n",
      "Epoch: 151, Error: 207.8882, Accuracy: 0.0228, Error validate 107.1018, Accuracy validate 0.0000\n",
      "Epoch: 150, Error: 193.4517, Accuracy: 0.0348, Error validate 100.4139, Accuracy validate 0.0000\n",
      "Epoch: 149, Error: 180.8100, Accuracy: 0.0544, Error validate 94.6242, Accuracy validate 0.0000\n",
      "Epoch: 148, Error: 169.7076, Accuracy: 0.0790, Error validate 89.6050, Accuracy validate 0.0000\n",
      "Epoch: 147, Error: 159.8907, Accuracy: 0.1055, Error validate 85.2311, Accuracy validate 0.0000\n",
      "Epoch: 146, Error: 151.1386, Accuracy: 0.1296, Error validate 81.3928, Accuracy validate 0.0000\n",
      "Epoch: 145, Error: 143.2712, Accuracy: 0.1545, Error validate 77.9994, Accuracy validate 0.0000\n",
      "Epoch: 144, Error: 136.1454, Accuracy: 0.1786, Error validate 74.9785, Accuracy validate 0.0000\n",
      "Epoch: 143, Error: 129.6488, Accuracy: 0.2086, Error validate 72.2728, Accuracy validate 0.0000\n",
      "Epoch: 142, Error: 123.6922, Accuracy: 0.2378, Error validate 69.8367, Accuracy validate 0.0000\n",
      "Epoch: 141, Error: 118.2039, Accuracy: 0.2702, Error validate 67.6337, Accuracy validate 0.0000\n",
      "Epoch: 140, Error: 113.1255, Accuracy: 0.2933, Error validate 65.6339, Accuracy validate 0.0000\n",
      "Epoch: 139, Error: 108.4085, Accuracy: 0.3198, Error validate 63.8124, Accuracy validate 0.0000\n",
      "Epoch: 138, Error: 104.0126, Accuracy: 0.3538, Error validate 62.1479, Accuracy validate 0.0000\n",
      "Epoch: 137, Error: 99.9038, Accuracy: 0.3773, Error validate 60.6221, Accuracy validate 0.0000\n",
      "Epoch: 136, Error: 96.0533, Accuracy: 0.3969, Error validate 59.2193, Accuracy validate 0.0000\n",
      "Epoch: 135, Error: 92.4371, Accuracy: 0.4178, Error validate 57.9255, Accuracy validate 0.0000\n",
      "Epoch: 134, Error: 89.0344, Accuracy: 0.4384, Error validate 56.7288, Accuracy validate 0.0000\n",
      "Epoch: 133, Error: 85.8274, Accuracy: 0.4534, Error validate 55.6185, Accuracy validate 0.0000\n",
      "Epoch: 132, Error: 82.8002, Accuracy: 0.4770, Error validate 54.5858, Accuracy validate 0.0000\n",
      "Epoch: 131, Error: 79.9388, Accuracy: 0.4960, Error validate 53.6226, Accuracy validate 0.0000\n",
      "Epoch: 130, Error: 77.2303, Accuracy: 0.5088, Error validate 52.7225, Accuracy validate 0.0000\n",
      "Epoch: 129, Error: 74.6631, Accuracy: 0.5225, Error validate 51.8798, Accuracy validate 0.0000\n",
      "Epoch: 128, Error: 72.2267, Accuracy: 0.5356, Error validate 51.0898, Accuracy validate 0.0000\n",
      "Epoch: 127, Error: 69.9115, Accuracy: 0.5485, Error validate 50.3485, Accuracy validate 0.0000\n",
      "Epoch: 126, Error: 67.7090, Accuracy: 0.5629, Error validate 49.6528, Accuracy validate 0.0000\n",
      "Epoch: 125, Error: 65.6114, Accuracy: 0.5710, Error validate 48.9996, Accuracy validate 0.0000\n",
      "Epoch: 124, Error: 63.6116, Accuracy: 0.5806, Error validate 48.3865, Accuracy validate 0.0000\n",
      "Epoch: 123, Error: 61.7034, Accuracy: 0.5911, Error validate 47.8111, Accuracy validate 0.0000\n",
      "Epoch: 122, Error: 59.8810, Accuracy: 0.6082, Error validate 47.2714, Accuracy validate 0.0000\n",
      "Epoch: 121, Error: 58.1389, Accuracy: 0.6202, Error validate 46.7652, Accuracy validate 0.0000\n",
      "Epoch: 120, Error: 56.4724, Accuracy: 0.6291, Error validate 46.2907, Accuracy validate 0.0000\n",
      "Epoch: 119, Error: 54.8769, Accuracy: 0.6425, Error validate 45.8458, Accuracy validate 0.0000\n",
      "Epoch: 118, Error: 53.3485, Accuracy: 0.6510, Error validate 45.4289, Accuracy validate 0.0000\n",
      "Epoch: 117, Error: 51.8833, Accuracy: 0.6612, Error validate 45.0380, Accuracy validate 0.0000\n",
      "Epoch: 116, Error: 50.4780, Accuracy: 0.6717, Error validate 44.6715, Accuracy validate 0.8734\n",
      "Epoch: 115, Error: 49.1294, Accuracy: 0.6818, Error validate 44.3278, Accuracy validate 0.8734\n",
      "Epoch: 114, Error: 47.8348, Accuracy: 0.6896, Error validate 44.0052, Accuracy validate 0.8734\n"
     ]
    },
    {
     "name": "stdout",
     "output_type": "stream",
     "text": [
      "Epoch: 113, Error: 46.5913, Accuracy: 0.6952, Error validate 43.7023, Accuracy validate 0.8734\n",
      "Epoch: 112, Error: 45.3967, Accuracy: 0.7025, Error validate 43.4176, Accuracy validate 0.8734\n",
      "Epoch: 111, Error: 44.2487, Accuracy: 0.7118, Error validate 43.1499, Accuracy validate 0.8734\n",
      "Epoch: 110, Error: 43.1450, Accuracy: 0.7159, Error validate 42.8979, Accuracy validate 0.8734\n",
      "Epoch: 109, Error: 42.0837, Accuracy: 0.7255, Error validate 42.6605, Accuracy validate 0.8734\n",
      "Epoch: 108, Error: 41.0629, Accuracy: 0.7327, Error validate 42.4367, Accuracy validate 0.8734\n",
      "Epoch: 107, Error: 40.0805, Accuracy: 0.7359, Error validate 42.2255, Accuracy validate 0.8734\n",
      "Epoch: 106, Error: 39.1348, Accuracy: 0.7405, Error validate 42.0260, Accuracy validate 0.8734\n",
      "Epoch: 105, Error: 38.2241, Accuracy: 0.7469, Error validate 41.8375, Accuracy validate 0.8734\n",
      "Epoch: 104, Error: 37.3465, Accuracy: 0.7501, Error validate 41.6592, Accuracy validate 0.8734\n",
      "Epoch: 103, Error: 36.5005, Accuracy: 0.7539, Error validate 41.4904, Accuracy validate 0.8734\n",
      "Epoch: 102, Error: 35.6844, Accuracy: 0.7584, Error validate 41.3306, Accuracy validate 0.8734\n",
      "Epoch: 101, Error: 34.8967, Accuracy: 0.7643, Error validate 41.1792, Accuracy validate 0.8734\n",
      "Epoch: 100, Error: 34.1360, Accuracy: 0.7675, Error validate 41.0357, Accuracy validate 0.8734\n",
      "Epoch: 99, Error: 33.4009, Accuracy: 0.7721, Error validate 40.8996, Accuracy validate 0.8734\n",
      "Epoch: 98, Error: 32.6900, Accuracy: 0.7753, Error validate 40.7704, Accuracy validate 0.8734\n",
      "Epoch: 97, Error: 32.0022, Accuracy: 0.7783, Error validate 40.6478, Accuracy validate 0.8734\n",
      "Epoch: 96, Error: 31.3363, Accuracy: 0.7833, Error validate 40.5313, Accuracy validate 0.8734\n",
      "Epoch: 95, Error: 30.6912, Accuracy: 0.7868, Error validate 40.4205, Accuracy validate 0.8734\n",
      "Epoch: 94, Error: 30.0659, Accuracy: 0.7900, Error validate 40.3151, Accuracy validate 0.8734\n",
      "Epoch: 93, Error: 29.4594, Accuracy: 0.7919, Error validate 40.2147, Accuracy validate 0.8734\n",
      "Epoch: 92, Error: 28.8709, Accuracy: 0.7949, Error validate 40.1190, Accuracy validate 0.8734\n",
      "Epoch: 91, Error: 28.2996, Accuracy: 0.7962, Error validate 40.0275, Accuracy validate 0.8734\n",
      "Epoch: 90, Error: 27.7445, Accuracy: 0.7983, Error validate 39.9401, Accuracy validate 0.8734\n",
      "Epoch: 89, Error: 27.2051, Accuracy: 0.8026, Error validate 39.8563, Accuracy validate 0.8734\n",
      "Epoch: 88, Error: 26.6805, Accuracy: 0.8050, Error validate 39.7759, Accuracy validate 0.8734\n",
      "Epoch: 87, Error: 26.1702, Accuracy: 0.8066, Error validate 39.6986, Accuracy validate 0.8734\n",
      "Epoch: 86, Error: 25.6735, Accuracy: 0.8091, Error validate 39.6240, Accuracy validate 0.8734\n",
      "Epoch: 85, Error: 25.1898, Accuracy: 0.8115, Error validate 39.5519, Accuracy validate 0.8734\n",
      "Epoch: 84, Error: 24.7186, Accuracy: 0.8133, Error validate 39.4820, Accuracy validate 0.8734\n",
      "Epoch: 83, Error: 24.2594, Accuracy: 0.8152, Error validate 39.4141, Accuracy validate 0.8734\n",
      "Epoch: 82, Error: 23.8117, Accuracy: 0.8168, Error validate 39.3479, Accuracy validate 0.8734\n",
      "Epoch: 81, Error: 23.3750, Accuracy: 0.8192, Error validate 39.2832, Accuracy validate 0.8734\n",
      "Epoch: 80, Error: 22.9488, Accuracy: 0.8208, Error validate 39.2199, Accuracy validate 0.8734\n",
      "Epoch: 79, Error: 22.5327, Accuracy: 0.8230, Error validate 39.1577, Accuracy validate 0.8734\n",
      "Epoch: 78, Error: 22.1264, Accuracy: 0.8246, Error validate 39.0964, Accuracy validate 0.8734\n",
      "Epoch: 77, Error: 21.7294, Accuracy: 0.8273, Error validate 39.0361, Accuracy validate 0.8734\n",
      "Epoch: 76, Error: 21.3413, Accuracy: 0.8286, Error validate 38.9764, Accuracy validate 0.8734\n",
      "Epoch: 75, Error: 20.9618, Accuracy: 0.8310, Error validate 38.9174, Accuracy validate 0.8734\n",
      "Epoch: 74, Error: 20.5905, Accuracy: 0.8329, Error validate 38.8589, Accuracy validate 0.8734\n",
      "Epoch: 73, Error: 20.2272, Accuracy: 0.8348, Error validate 38.8009, Accuracy validate 0.8734\n",
      "Epoch: 72, Error: 19.8716, Accuracy: 0.8358, Error validate 38.7434, Accuracy validate 0.8734\n",
      "Epoch: 71, Error: 19.5233, Accuracy: 0.8372, Error validate 38.6863, Accuracy validate 0.8734\n",
      "Epoch: 70, Error: 19.1823, Accuracy: 0.8382, Error validate 38.6297, Accuracy validate 0.8734\n",
      "Epoch: 69, Error: 18.8484, Accuracy: 0.8382, Error validate 38.5735, Accuracy validate 0.8734\n",
      "Epoch: 68, Error: 18.5214, Accuracy: 0.8417, Error validate 38.5178, Accuracy validate 0.8734\n",
      "Epoch: 67, Error: 18.2012, Accuracy: 0.8428, Error validate 38.4626, Accuracy validate 0.8734\n",
      "Epoch: 66, Error: 17.8879, Accuracy: 0.8457, Error validate 38.4079, Accuracy validate 0.8734\n",
      "Epoch: 65, Error: 17.5814, Accuracy: 0.8473, Error validate 38.3537, Accuracy validate 0.8734\n",
      "Epoch: 64, Error: 17.2818, Accuracy: 0.8492, Error validate 38.3001, Accuracy validate 0.8734\n",
      "Epoch: 63, Error: 16.9891, Accuracy: 0.8508, Error validate 38.2471, Accuracy validate 0.8734\n",
      "Epoch: 62, Error: 16.7035, Accuracy: 0.8527, Error validate 38.1948, Accuracy validate 0.8734\n",
      "Epoch: 61, Error: 16.4250, Accuracy: 0.8543, Error validate 38.1431, Accuracy validate 0.8734\n",
      "Epoch: 60, Error: 16.1538, Accuracy: 0.8567, Error validate 38.0921, Accuracy validate 0.8734\n",
      "Epoch: 59, Error: 15.8900, Accuracy: 0.8573, Error validate 38.0419, Accuracy validate 0.8734\n",
      "Epoch: 58, Error: 15.6337, Accuracy: 0.8583, Error validate 37.9925, Accuracy validate 0.8734\n",
      "Epoch: 57, Error: 15.3849, Accuracy: 0.8605, Error validate 37.9439, Accuracy validate 0.8734\n",
      "Epoch: 56, Error: 15.1436, Accuracy: 0.8621, Error validate 37.8962, Accuracy validate 0.8734\n",
      "Epoch: 55, Error: 14.9098, Accuracy: 0.8634, Error validate 37.8495, Accuracy validate 0.8734\n",
      "Epoch: 54, Error: 14.6834, Accuracy: 0.8653, Error validate 37.8037, Accuracy validate 0.8734\n",
      "Epoch: 53, Error: 14.4644, Accuracy: 0.8666, Error validate 37.7590, Accuracy validate 0.8734\n",
      "Epoch: 52, Error: 14.2524, Accuracy: 0.8677, Error validate 37.7154, Accuracy validate 0.8734\n",
      "Epoch: 51, Error: 14.0475, Accuracy: 0.8690, Error validate 37.6728, Accuracy validate 0.8734\n",
      "Epoch: 50, Error: 13.8492, Accuracy: 0.8712, Error validate 37.6314, Accuracy validate 0.8734\n",
      "Epoch: 49, Error: 13.6575, Accuracy: 0.8736, Error validate 37.5912, Accuracy validate 0.8734\n",
      "Epoch: 48, Error: 13.4720, Accuracy: 0.8741, Error validate 37.5521, Accuracy validate 0.8734\n",
      "Epoch: 47, Error: 13.2925, Accuracy: 0.8752, Error validate 37.5142, Accuracy validate 0.8734\n",
      "Epoch: 46, Error: 13.1187, Accuracy: 0.8757, Error validate 37.4773, Accuracy validate 0.8734\n",
      "Epoch: 45, Error: 12.9505, Accuracy: 0.8768, Error validate 37.4415, Accuracy validate 0.8734\n",
      "Epoch: 44, Error: 12.7876, Accuracy: 0.8776, Error validate 37.4066, Accuracy validate 0.8734\n"
     ]
    },
    {
     "ename": "KeyboardInterrupt",
     "evalue": "",
     "output_type": "error",
     "traceback": [
      "\u001b[0;31m---------------------------------------------------------------------------\u001b[0m",
      "\u001b[0;31mKeyboardInterrupt\u001b[0m                         Traceback (most recent call last)",
      "\u001b[0;32m<ipython-input-21-8121853ac82c>\u001b[0m in \u001b[0;36m<module>\u001b[0;34m()\u001b[0m\n\u001b[1;32m      2\u001b[0m \u001b[0;32mwhile\u001b[0m\u001b[0;34m(\u001b[0m\u001b[0mn_epoch\u001b[0m \u001b[0;34m>\u001b[0m \u001b[0;36m0\u001b[0m\u001b[0;34m)\u001b[0m\u001b[0;34m:\u001b[0m\u001b[0;34m\u001b[0m\u001b[0m\n\u001b[1;32m      3\u001b[0m     \u001b[0;32mfor\u001b[0m \u001b[0mi\u001b[0m \u001b[0;32min\u001b[0m \u001b[0mrange\u001b[0m\u001b[0;34m(\u001b[0m\u001b[0mlen\u001b[0m\u001b[0;34m(\u001b[0m\u001b[0mX_train\u001b[0m\u001b[0;34m)\u001b[0m\u001b[0;34m)\u001b[0m\u001b[0;34m:\u001b[0m\u001b[0;34m\u001b[0m\u001b[0m\n\u001b[0;32m----> 4\u001b[0;31m         \u001b[0mmodel\u001b[0m\u001b[0;34m.\u001b[0m\u001b[0mtrain\u001b[0m\u001b[0;34m(\u001b[0m\u001b[0mX_train\u001b[0m\u001b[0;34m[\u001b[0m\u001b[0mi\u001b[0m\u001b[0;34m]\u001b[0m\u001b[0;34m,\u001b[0m \u001b[0my_train\u001b[0m\u001b[0;34m[\u001b[0m\u001b[0mi\u001b[0m\u001b[0;34m]\u001b[0m\u001b[0;34m)\u001b[0m\u001b[0;34m\u001b[0m\u001b[0m\n\u001b[0m\u001b[1;32m      5\u001b[0m     \u001b[0mn_epoch\u001b[0m \u001b[0;34m=\u001b[0m \u001b[0mn_epoch\u001b[0m \u001b[0;34m-\u001b[0m \u001b[0;36m1\u001b[0m\u001b[0;34m\u001b[0m\u001b[0m\n\u001b[1;32m      6\u001b[0m \u001b[0;34m\u001b[0m\u001b[0m\n",
      "\u001b[0;32m<ipython-input-8-909b620dd96e>\u001b[0m in \u001b[0;36mtrain\u001b[0;34m(self, inputs, actual)\u001b[0m\n\u001b[1;32m     24\u001b[0m     \u001b[0;34m''' Train model '''\u001b[0m\u001b[0;34m\u001b[0m\u001b[0m\n\u001b[1;32m     25\u001b[0m     \u001b[0;32mdef\u001b[0m \u001b[0mtrain\u001b[0m\u001b[0;34m(\u001b[0m\u001b[0mself\u001b[0m\u001b[0;34m,\u001b[0m \u001b[0minputs\u001b[0m\u001b[0;34m,\u001b[0m \u001b[0mactual\u001b[0m\u001b[0;34m)\u001b[0m\u001b[0;34m:\u001b[0m\u001b[0;34m\u001b[0m\u001b[0m\n\u001b[0;32m---> 26\u001b[0;31m         \u001b[0mout\u001b[0m \u001b[0;34m=\u001b[0m \u001b[0mself\u001b[0m\u001b[0;34m.\u001b[0m\u001b[0mpredict\u001b[0m\u001b[0;34m(\u001b[0m\u001b[0minputs\u001b[0m\u001b[0;34m)\u001b[0m\u001b[0;34m\u001b[0m\u001b[0m\n\u001b[0m\u001b[1;32m     27\u001b[0m         \u001b[0moutputs_2\u001b[0m \u001b[0;34m=\u001b[0m \u001b[0mout\u001b[0m\u001b[0;34m[\u001b[0m\u001b[0;36m0\u001b[0m\u001b[0;34m]\u001b[0m\u001b[0;34m\u001b[0m\u001b[0m\n\u001b[1;32m     28\u001b[0m         \u001b[0;31m# получаем ошибку\u001b[0m\u001b[0;34m\u001b[0m\u001b[0;34m\u001b[0m\u001b[0m\n",
      "\u001b[0;32m<ipython-input-8-909b620dd96e>\u001b[0m in \u001b[0;36mpredict\u001b[0;34m(self, inputs)\u001b[0m\n\u001b[1;32m     17\u001b[0m     \u001b[0;32mdef\u001b[0m \u001b[0mpredict\u001b[0m\u001b[0;34m(\u001b[0m\u001b[0mself\u001b[0m\u001b[0;34m,\u001b[0m \u001b[0minputs\u001b[0m\u001b[0;34m)\u001b[0m\u001b[0;34m:\u001b[0m\u001b[0;34m\u001b[0m\u001b[0m\n\u001b[1;32m     18\u001b[0m         \u001b[0mself\u001b[0m\u001b[0;34m.\u001b[0m\u001b[0mO1\u001b[0m \u001b[0;34m=\u001b[0m \u001b[0mself\u001b[0m\u001b[0;34m.\u001b[0m\u001b[0mWH1\u001b[0m\u001b[0;34m.\u001b[0m\u001b[0mdot\u001b[0m\u001b[0;34m(\u001b[0m\u001b[0minputs\u001b[0m\u001b[0;34m)\u001b[0m\u001b[0;34m\u001b[0m\u001b[0m\n\u001b[0;32m---> 19\u001b[0;31m         \u001b[0mself\u001b[0m\u001b[0;34m.\u001b[0m\u001b[0mO1\u001b[0m \u001b[0;34m=\u001b[0m \u001b[0mself\u001b[0m\u001b[0;34m.\u001b[0m\u001b[0msigmoid\u001b[0m\u001b[0;34m(\u001b[0m\u001b[0mself\u001b[0m\u001b[0;34m.\u001b[0m\u001b[0mO1\u001b[0m\u001b[0;34m)\u001b[0m\u001b[0;34m\u001b[0m\u001b[0m\n\u001b[0m\u001b[1;32m     20\u001b[0m         \u001b[0mself\u001b[0m\u001b[0;34m.\u001b[0m\u001b[0mO2\u001b[0m \u001b[0;34m=\u001b[0m \u001b[0mself\u001b[0m\u001b[0;34m.\u001b[0m\u001b[0mWH2\u001b[0m\u001b[0;34m.\u001b[0m\u001b[0mdot\u001b[0m\u001b[0;34m(\u001b[0m\u001b[0mself\u001b[0m\u001b[0;34m.\u001b[0m\u001b[0mO1\u001b[0m\u001b[0;34m)\u001b[0m\u001b[0;34m\u001b[0m\u001b[0m\n\u001b[1;32m     21\u001b[0m         \u001b[0mself\u001b[0m\u001b[0;34m.\u001b[0m\u001b[0mO2\u001b[0m \u001b[0;34m=\u001b[0m \u001b[0mself\u001b[0m\u001b[0;34m.\u001b[0m\u001b[0msigmoid\u001b[0m\u001b[0;34m(\u001b[0m\u001b[0mself\u001b[0m\u001b[0;34m.\u001b[0m\u001b[0mO2\u001b[0m\u001b[0;34m)\u001b[0m\u001b[0;34m\u001b[0m\u001b[0m\n",
      "\u001b[0;32m<ipython-input-8-909b620dd96e>\u001b[0m in \u001b[0;36msigmoid\u001b[0;34m(self, x)\u001b[0m\n\u001b[1;32m     47\u001b[0m     \u001b[0;34m''' Function sigmoid '''\u001b[0m\u001b[0;34m\u001b[0m\u001b[0m\n\u001b[1;32m     48\u001b[0m     \u001b[0;32mdef\u001b[0m \u001b[0msigmoid\u001b[0m\u001b[0;34m(\u001b[0m\u001b[0mself\u001b[0m\u001b[0;34m,\u001b[0m \u001b[0mx\u001b[0m\u001b[0;34m)\u001b[0m\u001b[0;34m:\u001b[0m\u001b[0;34m\u001b[0m\u001b[0m\n\u001b[0;32m---> 49\u001b[0;31m         \u001b[0;32mreturn\u001b[0m \u001b[0;36m1.\u001b[0m \u001b[0;34m/\u001b[0m \u001b[0;34m(\u001b[0m\u001b[0;36m1.\u001b[0m \u001b[0;34m+\u001b[0m \u001b[0mnp\u001b[0m\u001b[0;34m.\u001b[0m\u001b[0mexp\u001b[0m\u001b[0;34m(\u001b[0m \u001b[0;34m-\u001b[0m\u001b[0mx\u001b[0m \u001b[0;34m)\u001b[0m\u001b[0;34m)\u001b[0m\u001b[0;34m\u001b[0m\u001b[0m\n\u001b[0m\u001b[1;32m     50\u001b[0m \u001b[0;34m\u001b[0m\u001b[0m\n\u001b[1;32m     51\u001b[0m \u001b[0;34m\u001b[0m\u001b[0m\n",
      "\u001b[0;31mKeyboardInterrupt\u001b[0m: "
     ]
    }
   ],
   "source": [
    "n_epoch = 200\n",
    "while(n_epoch > 0): \n",
    "    for i in range(len(X_train)):\n",
    "        model.train(X_train[i], y_train[i])  \n",
    "    n_epoch = n_epoch - 1\n",
    "    \n",
    "    s = 0.0   \n",
    "    poz = 0.0\n",
    "    sv = 0.0   \n",
    "    pozv = 0.0\n",
    "    for i in range(len(X_train)):\n",
    "        p = model.predict(X_train[i])     \n",
    "        s = s + (y_train[i] - p) ** 2\n",
    "        if(np.absolute(p - y_train[i]) < accuracy_rate):\n",
    "            poz = poz + 1\n",
    "    for i in range(len(X_test)):        \n",
    "        pv = model.predict(X_test[i])     \n",
    "        sv = sv + (1. / 1 + np.exp(-(y_test[i] - pv)))\n",
    "        if(np.absolute(p - y_train[i]) < accuracy_rate):\n",
    "            pozv = pozv + 1\n",
    "    accuracy.append(poz / len(X_train))    \n",
    "    errors.append(s)   \n",
    "    \n",
    "    print(\"Epoch: %d, Error: %.4f, Accuracy: %.4f, Error validate %.4f, Accuracy validate %.4f\" % \n",
    "          (n_epoch, min(errors), max(accuracy), sv, pozv / len(X_test)))"
   ]
  },
  {
   "cell_type": "markdown",
   "metadata": {},
   "source": [
    "Выводим график обучения сети"
   ]
  },
  {
   "cell_type": "code",
   "execution_count": 22,
   "metadata": {},
   "outputs": [
    {
     "data": {
      "image/png": "[encoded data removed]",
      "text/plain": [
       "<Figure size 720x432 with 1 Axes>"
      ]
     },
     "metadata": {},
     "output_type": "display_data"
    }
   ],
   "source": [
    "\n",
    "plt.figure(figsize = (10, 6))\n",
    "plt.plot(errors, label='errors mse', color = 'red')\n",
    "plt.plot(accuracy, label='accuracy')\n",
    "plt.legend()\n",
    "plt.show()"
   ]
  },
  {
   "cell_type": "code",
   "execution_count": 23,
   "metadata": {},
   "outputs": [
    {
     "name": "stdout",
     "output_type": "stream",
     "text": [
      "Error: 12.7876, Accuracy: 0.8776\n"
     ]
    }
   ],
   "source": [
    "print(\"Error: %.4f, Accuracy: %.4f\" % (min(errors), max(accuracy)))"
   ]
  },
  {
   "cell_type": "code",
   "execution_count": 24,
   "metadata": {},
   "outputs": [
    {
     "name": "stdout",
     "output_type": "stream",
     "text": [
      "[0. 0. 0. ... 0. 0. 0.]\n",
      "Predict: 0.01, Actual: 0.00, Class: ham , \n",
      "  Go until jurong point  crazy Available only in bugis n great world la e buffet Cine there got amore wat\n",
      "\n",
      "Predict: 0.01, Actual: 0.00, Class: ham , \n",
      "  Ok lar Joking wif u oni\n",
      "\n",
      "Predict: 0.99, Actual: 1.00, Class: spam, \n",
      "   Free entry in 2 a wkly comp to win FA Cup final tkts 21st May 2005 Text FA to 87121 to receive entry questionstd txt rateTCs apply 08452810075over18s\n",
      "\n",
      "Predict: 0.01, Actual: 0.00, Class: ham , \n",
      "  U dun say so early hor U c already then say\n",
      "\n",
      "Predict: 0.01, Actual: 0.00, Class: ham , \n",
      "  Nah I dont think he goes to usf  he lives around here though\n",
      "\n",
      "Predict: 0.74, Actual: 1.00, Class: spam, \n",
      "   FreeMsg Hey there darling its been 3 weeks now and no word back Id like some fun you up for it still Tb ok XxX std chgs to send  150 to rcv\n",
      "\n",
      "Predict: 0.00, Actual: 0.00, Class: ham , \n",
      "  Even my brother is not like to speak with me They treat me like aids patent\n",
      "\n",
      "Predict: 0.07, Actual: 0.00, Class: ham , \n",
      "  As per your request Melle Melle Oru Minnaminunginte Nurungu Vettam has been set as your callertune for all Callers Press 9 to copy your friends Callertune\n",
      "\n",
      "Predict: 1.00, Actual: 1.00, Class: spam, \n",
      "   WINNER As a valued network customer you have been selected to receivea 900 prize reward To claim call 09061701461 Claim code KL341 Valid 12 hours only\n",
      "\n",
      "Predict: 1.00, Actual: 1.00, Class: spam, \n",
      "   Had your mobile 11 months or more U R entitled to Update to the latest colour mobiles with camera for Free Call The Mobile Update Co FREE on 08002986030\n",
      "\n",
      "Predict: 0.00, Actual: 0.00, Class: ham , \n",
      "  Im gonna be home soon and i dont want to talk about this stuff anymore tonight  k Ive cried enough today\n",
      "\n",
      "Predict: 1.00, Actual: 1.00, Class: spam, \n",
      "   SIX chances to win CASH From 100 to 20 000 pounds txt CSH11 and send to 87575 Cost 150pday  6days  16 TsandCs apply Reply HL 4 info\n",
      "\n",
      "Predict: 1.00, Actual: 1.00, Class: spam, \n",
      "   URGENT You have won a 1 week FREE membership in our 100 000 Prize Jackpot Txt the word CLAIM to No 81010 TC wwwdbuknet LCCLTD POBOX 4403LDNW1A7RW18\n",
      "\n",
      "Predict: 0.04, Actual: 0.00, Class: ham , \n",
      "  Ive been searching for the right words to thank you for this breather I promise i wont take your help for granted and will fulfil my promise You have been wonderful and a blessing at all times\n",
      "\n",
      "Predict: 0.04, Actual: 0.00, Class: ham , \n",
      "  I HAVE A DATE ON SUNDAY WITH WILL\n",
      "\n",
      "Predict: 0.93, Actual: 1.00, Class: spam, \n",
      "   XXXMobileMovieClub To use your credit  click the WAP link in the next txt message or click here httpwap xxxmobilemovieclubcomnQJKGIGHJJGCBL\n",
      "\n",
      "Predict: 0.01, Actual: 0.00, Class: ham , \n",
      "  Oh kim watching here\n",
      "\n",
      "Predict: 0.00, Actual: 0.00, Class: ham , \n",
      "  Eh u remember how 2 spell his name Yes i did He v naughty make until i v wet\n",
      "\n",
      "Predict: 0.01, Actual: 0.00, Class: ham , \n",
      "  Fine if thats the way u feel Thats the way its gota b\n",
      "\n",
      "Predict: 1.00, Actual: 1.00, Class: spam, \n",
      "   England v Macedonia  dont miss the goalsteam news Txt ur national team to 87077 eg ENGLAND to 87077 TryWALES  SCOTLAND 4txt120 POBOXox36504W45WQ 16\n",
      "\n"
     ]
    }
   ],
   "source": [
    "\n",
    "text_x = vectorizer.transform(df['text']).toarray()\n",
    "\n",
    "print(text_x[0])\n",
    "\n",
    "for i in range(20):  \n",
    "    p = model.predict(text_x[i])  \n",
    "   \n",
    "    print(\"Predict: %.2f, Actual: %.2f, Class: %s, \\n %s\" % (p, df['target'][i], df['class'][i], df['text'][i])) \n",
    "    print('')"
   ]
  },
  {
   "cell_type": "code",
   "execution_count": null,
   "metadata": {},
   "outputs": [],
   "source": []
  }
 ],
 "metadata": {
  "kernelspec": {
   "display_name": "Python 2",
   "language": "python",
   "name": "python2"
  },
  "language_info": {
   "codemirror_mode": {
    "name": "ipython",
    "version": 2
   },
   "file_extension": ".py",
   "mimetype": "text/x-python",
   "name": "python",
   "nbconvert_exporter": "python",
   "pygments_lexer": "ipython2",
   "version": "2.7.12"
  }
 },
 "nbformat": 4,
 "nbformat_minor": 2
}
