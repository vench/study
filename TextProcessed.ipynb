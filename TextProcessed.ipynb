{
 "cells": [
  {
   "cell_type": "code",
   "execution_count": 13,
   "metadata": {},
   "outputs": [],
   "source": [
    "import pandas as pd\n",
    "import pymorphy2\n",
    "import re\n",
    "from collections import defaultdict\n",
    "import numpy as np \n",
    "from sklearn.feature_extraction.text import TfidfVectorizer"
   ]
  },
  {
   "cell_type": "code",
   "execution_count": 5,
   "metadata": {},
   "outputs": [
    {
     "name": "stdout",
     "output_type": "stream",
     "text": [
      "<class 'pandas.core.frame.DataFrame'>\n",
      "Int64Index: 1906 entries, 0 to 11727\n",
      "Data columns (total 4 columns):\n",
      "id        1906 non-null int64\n",
      "title     1906 non-null object\n",
      "cat_id    1906 non-null int64\n",
      "text2     1906 non-null object\n",
      "dtypes: int64(2), object(2)\n",
      "memory usage: 74.5+ KB\n",
      "None\n",
      "(1906, 4)\n",
      "         id                                              title  cat_id  \\\n",
      "721    4473  экс-премьер пакистана беназир бхутто взята под...       0   \n",
      "184    2201         пилотируемые полёты должны иметь приоритет       2   \n",
      "2716  16077  президент рф наградил выдающихся деятелей куль...       1   \n",
      "\n",
      "                                                  text2  \n",
      "721    пакистан, премьер-министр пакистана в 1988—19...  \n",
      "184   космонавтикапилотируемые полёты должны иметь п...  \n",
      "2716  культурав преддверии дня народного единства пр...  \n"
     ]
    }
   ],
   "source": [
    "cat = ['политика', 'россия', 'сша', 'европа', 'экономика', 'общество', 'преступность и право', 'происшествия', 'культура', 'интернет']\n",
    "\n",
    "df = pd.read_pickle('data/dftime_cat.pkl')\n",
    "\n",
    "\n",
    "print(df.info()) \n",
    "print(df.shape)\n",
    "print(df.sample(3))"
   ]
  },
  {
   "cell_type": "code",
   "execution_count": 6,
   "metadata": {},
   "outputs": [],
   "source": [
    "morph = pymorphy2.MorphAnalyzer()\n",
    "\n",
    "def normal_word(w):\n",
    "    ''' '''\n",
    "    w = w.lower()\n",
    "    info = morph.parse(w)\n",
    "    if(len(info) > 0):\n",
    "        return info[0].normal_form\n",
    "    return w\n",
    "\n",
    "def word_extraction(sentence):  \n",
    "    ''' '''\n",
    "    ignore = {'и','в','а','с','о','к','у','ли', 'можно', 'на', 'снова', 'вот','что','как','без','по','считать','свой',\n",
    "             'который','два','она','это','она','для','тот','если', 'то', 'такой','от', 'он', 'за', 'из','до','быть',\n",
    "             'об', 'этом' , 'так', 'его', 'после', 'вновь', 'все', 'а','с', 'ч', 'п', 'в', 'n', 'я', 'a', 'у', 'м', 'й', \n",
    "              'т', 'h', 'x', 'е', 'и', 'r', 'н', 'g', 'о', 'm', 'c', 'а', 'к', 't', 'l','стало', 'стал'\n",
    "             }    \n",
    "    sentence = re.sub(\"(не)\\s+\", \"\\g<1>\", sentence)\n",
    "    sentence = sentence.replace(\"ё\", \"е\")    \n",
    "    sentence = re.sub(\"[\\d\\.\\-«,%»\\\"\\(\\)—]\", \" \", sentence)\n",
    "    words = re.sub(\"[^\\w]\", \" \",  sentence).split() \n",
    "\n",
    "    cleaned_text = []\n",
    "    for w in words:\n",
    "        w =  normal_word(w)\n",
    "        if w not in ignore:\n",
    "            cleaned_text.append(w)        \n",
    "    return cleaned_text\n",
    "\n",
    "def text_to_token(texts):\n",
    "    ''' '''\n",
    "    text_words = []\n",
    "    \n",
    "    frequency = defaultdict(int)\n",
    "    for text in texts:\n",
    "        words = word_extraction(text)\n",
    "        text_words.append(words)\n",
    "        for token in words:\n",
    "            frequency[token] += 1\n",
    "\n",
    "    return [\n",
    "        [token for token in words if frequency[token] > 1]\n",
    "            for words in text_words\n",
    "    ]\n",
    "\n",
    "\n",
    "def processed_text(df):\n",
    "    texts = df['text2']\n",
    "    return text_to_token(texts)\n",
    "\n",
    "\n",
    "texts = processed_text(df)"
   ]
  },
  {
   "cell_type": "code",
   "execution_count": 14,
   "metadata": {},
   "outputs": [],
   "source": [
    "texts_str = [\" \".join(text) for text in texts]\n",
    "vectorizer = TfidfVectorizer(ngram_range = (1,2), min_df = 3)  \n",
    "X = vectorizer.fit_transform(texts_str)"
   ]
  },
  {
   "cell_type": "code",
   "execution_count": 15,
   "metadata": {},
   "outputs": [],
   "source": [
    "def cat_id_vec(id):\n",
    "    v = np.zeros(10)\n",
    "    v[id] = 1\n",
    "    return v\n",
    "Y = df['cat_id'].map(cat_id_vec).values\n",
    "\n",
    "Y_ = df['cat_id'].values\n",
    "Y_label = df['cat_id'].values"
   ]
  },
  {
   "cell_type": "code",
   "execution_count": 18,
   "metadata": {},
   "outputs": [],
   "source": [
    "from sklearn.decomposition import TruncatedSVD\n",
    "\n",
    "def encode_svd(x, k=100): \n",
    "    svd_model = TruncatedSVD(n_components=k, algorithm='randomized', n_iter=100, random_state=42)\n",
    "    x1 = svd_model.fit_transform(X) \n",
    "    return x1 "
   ]
  },
  {
   "cell_type": "code",
   "execution_count": 19,
   "metadata": {},
   "outputs": [
    {
     "name": "stdout",
     "output_type": "stream",
     "text": [
      "CPU times: user 53.5 s, sys: 57.7 s, total: 1min 51s\n",
      "Wall time: 33.4 s\n"
     ]
    }
   ],
   "source": [
    "%%time\n",
    "X_ = encode_svd(X)"
   ]
  },
  {
   "cell_type": "code",
   "execution_count": 20,
   "metadata": {},
   "outputs": [],
   "source": [
    "np.save('data_x.npy', X_)\n",
    "np.save('data_y.npy', Y_)"
   ]
  },
  {
   "cell_type": "code",
   "execution_count": null,
   "metadata": {},
   "outputs": [],
   "source": []
  }
 ],
 "metadata": {
  "kernelspec": {
   "display_name": "Python 3",
   "language": "python",
   "name": "python3"
  },
  "language_info": {
   "codemirror_mode": {
    "name": "ipython",
    "version": 3
   },
   "file_extension": ".py",
   "mimetype": "text/x-python",
   "name": "python",
   "nbconvert_exporter": "python",
   "pygments_lexer": "ipython3",
   "version": "3.5.2"
  }
 },
 "nbformat": 4,
 "nbformat_minor": 2
}
