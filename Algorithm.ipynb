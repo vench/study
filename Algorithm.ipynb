{
 "cells": [
  {
   "cell_type": "markdown",
   "metadata": {},
   "source": [
    "# Algorithm"
   ]
  },
  {
   "cell_type": "code",
   "execution_count": 6,
   "metadata": {},
   "outputs": [
    {
     "name": "stdout",
     "output_type": "stream",
     "text": [
      "Hierarchical clustering\n"
     ]
    }
   ],
   "source": [
    "class HierarchicalClustering:\n",
    "    \n",
    "    def __init__(self, alpha = 1.01):\n",
    "        ''' '''\n",
    "        self.alpha = alpha\n",
    "        \n",
    "    def fit(self, x):\n",
    "        ''' '''\n",
    "        \n",
    "    def fit_transform(self, x): \n",
    "        ''' '''\n",
    "        return x\n",
    "        \n",
    "    def print_name(self):\n",
    "        print('Hierarchical clustering')\n",
    "        \n",
    "hc = HierarchicalClustering()\n",
    "hc.print_name()"
   ]
  },
  {
   "cell_type": "code",
   "execution_count": null,
   "metadata": {},
   "outputs": [],
   "source": []
  }
 ],
 "metadata": {
  "kernelspec": {
   "display_name": "Python 3",
   "language": "python",
   "name": "python3"
  },
  "language_info": {
   "codemirror_mode": {
    "name": "ipython",
    "version": 2
   },
   "file_extension": ".py",
   "mimetype": "text/x-python",
   "name": "python",
   "nbconvert_exporter": "python",
   "pygments_lexer": "ipython2",
   "version": "2.7.12"
  }
 },
 "nbformat": 4,
 "nbformat_minor": 2
}
