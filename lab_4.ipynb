{
 "cells": [
  {
   "cell_type": "markdown",
   "metadata": {},
   "source": [
    "# Semeion Handwritten Digit Data Set\n",
    "\n",
    "http://archive.ics.uci.edu/ml/datasets/Semeion+Handwritten+Digit"
   ]
  },
  {
   "cell_type": "code",
   "execution_count": 1,
   "metadata": {},
   "outputs": [],
   "source": [
    "import pandas as pd\n",
    "\n",
    "data_set = 'data_sets/semeion.data'\n",
    "\n",
    "names = map(str, range(0,256))\n",
    "\n",
    "for i in range(1,11):\n",
    "    names.append(str('y_%d' % i))\n",
    "\n",
    "target_names = names[256:]  \n",
    "data_names = names[:256]\n",
    " \n",
    "\n",
    "df = pd.read_csv(data_set, index_col=False, delimiter = r\"\\s+\", names = names )\n",
    "\n"
   ]
  },
  {
   "cell_type": "code",
   "execution_count": 2,
   "metadata": {},
   "outputs": [
    {
     "name": "stdout",
     "output_type": "stream",
     "text": [
      "<class 'pandas.core.frame.DataFrame'>\n",
      "RangeIndex: 1593 entries, 0 to 1592\n",
      "Columns: 266 entries, 0 to y_10\n",
      "dtypes: float64(256), int64(10)\n",
      "memory usage: 3.2 MB\n",
      "None\n",
      "                 0            1            2            3            4  \\\n",
      "count  1593.000000  1593.000000  1593.000000  1593.000000  1593.000000   \n",
      "mean      0.095417     0.153798     0.231011     0.301318     0.380414   \n",
      "std       0.293883     0.360868     0.421612     0.458975     0.485641   \n",
      "min       0.000000     0.000000     0.000000     0.000000     0.000000   \n",
      "25%       0.000000     0.000000     0.000000     0.000000     0.000000   \n",
      "50%       0.000000     0.000000     0.000000     0.000000     0.000000   \n",
      "75%       0.000000     0.000000     0.000000     1.000000     1.000000   \n",
      "max       1.000000     1.000000     1.000000     1.000000     1.000000   \n",
      "\n",
      "                 5            6            7            8            9  \\\n",
      "count  1593.000000  1593.000000  1593.000000  1593.000000  1593.000000   \n",
      "mean      0.464532     0.536095     0.588826     0.640301     0.640301   \n",
      "std       0.498897     0.498852     0.492201     0.480063     0.480063   \n",
      "min       0.000000     0.000000     0.000000     0.000000     0.000000   \n",
      "25%       0.000000     0.000000     0.000000     0.000000     0.000000   \n",
      "50%       0.000000     1.000000     1.000000     1.000000     1.000000   \n",
      "75%       1.000000     1.000000     1.000000     1.000000     1.000000   \n",
      "max       1.000000     1.000000     1.000000     1.000000     1.000000   \n",
      "\n",
      "          ...               y_1          y_2          y_3          y_4  \\\n",
      "count     ...       1593.000000  1593.000000  1593.000000  1593.000000   \n",
      "mean      ...          0.101067     0.101695     0.099812     0.099812   \n",
      "std       ...          0.301512     0.302342     0.299843     0.299843   \n",
      "min       ...          0.000000     0.000000     0.000000     0.000000   \n",
      "25%       ...          0.000000     0.000000     0.000000     0.000000   \n",
      "50%       ...          0.000000     0.000000     0.000000     0.000000   \n",
      "75%       ...          0.000000     0.000000     0.000000     0.000000   \n",
      "max       ...          1.000000     1.000000     1.000000     1.000000   \n",
      "\n",
      "               y_5          y_6          y_7          y_8          y_9  \\\n",
      "count  1593.000000  1593.000000  1593.000000  1593.000000  1593.000000   \n",
      "mean      0.101067     0.099812     0.101067     0.099184     0.097301   \n",
      "std       0.301512     0.299843     0.301512     0.299003     0.296460   \n",
      "min       0.000000     0.000000     0.000000     0.000000     0.000000   \n",
      "25%       0.000000     0.000000     0.000000     0.000000     0.000000   \n",
      "50%       0.000000     0.000000     0.000000     0.000000     0.000000   \n",
      "75%       0.000000     0.000000     0.000000     0.000000     0.000000   \n",
      "max       1.000000     1.000000     1.000000     1.000000     1.000000   \n",
      "\n",
      "              y_10  \n",
      "count  1593.000000  \n",
      "mean      0.099184  \n",
      "std       0.299003  \n",
      "min       0.000000  \n",
      "25%       0.000000  \n",
      "50%       0.000000  \n",
      "75%       0.000000  \n",
      "max       1.000000  \n",
      "\n",
      "[8 rows x 266 columns]\n"
     ]
    }
   ],
   "source": [
    "print(df.info())\n",
    "print(df.describe())"
   ]
  },
  {
   "cell_type": "code",
   "execution_count": 3,
   "metadata": {},
   "outputs": [
    {
     "data": {
      "text/html": [
       "<div>\n",
       "<style scoped>\n",
       "    .dataframe tbody tr th:only-of-type {\n",
       "        vertical-align: middle;\n",
       "    }\n",
       "\n",
       "    .dataframe tbody tr th {\n",
       "        vertical-align: top;\n",
       "    }\n",
       "\n",
       "    .dataframe thead th {\n",
       "        text-align: right;\n",
       "    }\n",
       "</style>\n",
       "<table border=\"1\" class=\"dataframe\">\n",
       "  <thead>\n",
       "    <tr style=\"text-align: right;\">\n",
       "      <th></th>\n",
       "      <th>0</th>\n",
       "      <th>1</th>\n",
       "      <th>2</th>\n",
       "      <th>3</th>\n",
       "      <th>4</th>\n",
       "      <th>5</th>\n",
       "      <th>6</th>\n",
       "      <th>7</th>\n",
       "      <th>8</th>\n",
       "      <th>9</th>\n",
       "      <th>...</th>\n",
       "      <th>y_1</th>\n",
       "      <th>y_2</th>\n",
       "      <th>y_3</th>\n",
       "      <th>y_4</th>\n",
       "      <th>y_5</th>\n",
       "      <th>y_6</th>\n",
       "      <th>y_7</th>\n",
       "      <th>y_8</th>\n",
       "      <th>y_9</th>\n",
       "      <th>y_10</th>\n",
       "    </tr>\n",
       "  </thead>\n",
       "  <tbody>\n",
       "    <tr>\n",
       "      <th>1276</th>\n",
       "      <td>0.0</td>\n",
       "      <td>0.0</td>\n",
       "      <td>0.0</td>\n",
       "      <td>1.0</td>\n",
       "      <td>1.0</td>\n",
       "      <td>1.0</td>\n",
       "      <td>1.0</td>\n",
       "      <td>1.0</td>\n",
       "      <td>1.0</td>\n",
       "      <td>1.0</td>\n",
       "      <td>...</td>\n",
       "      <td>0</td>\n",
       "      <td>0</td>\n",
       "      <td>1</td>\n",
       "      <td>0</td>\n",
       "      <td>0</td>\n",
       "      <td>0</td>\n",
       "      <td>0</td>\n",
       "      <td>0</td>\n",
       "      <td>0</td>\n",
       "      <td>0</td>\n",
       "    </tr>\n",
       "    <tr>\n",
       "      <th>635</th>\n",
       "      <td>0.0</td>\n",
       "      <td>0.0</td>\n",
       "      <td>0.0</td>\n",
       "      <td>0.0</td>\n",
       "      <td>0.0</td>\n",
       "      <td>0.0</td>\n",
       "      <td>0.0</td>\n",
       "      <td>0.0</td>\n",
       "      <td>0.0</td>\n",
       "      <td>0.0</td>\n",
       "      <td>...</td>\n",
       "      <td>0</td>\n",
       "      <td>1</td>\n",
       "      <td>0</td>\n",
       "      <td>0</td>\n",
       "      <td>0</td>\n",
       "      <td>0</td>\n",
       "      <td>0</td>\n",
       "      <td>0</td>\n",
       "      <td>0</td>\n",
       "      <td>0</td>\n",
       "    </tr>\n",
       "    <tr>\n",
       "      <th>1269</th>\n",
       "      <td>0.0</td>\n",
       "      <td>0.0</td>\n",
       "      <td>0.0</td>\n",
       "      <td>0.0</td>\n",
       "      <td>0.0</td>\n",
       "      <td>0.0</td>\n",
       "      <td>0.0</td>\n",
       "      <td>0.0</td>\n",
       "      <td>0.0</td>\n",
       "      <td>0.0</td>\n",
       "      <td>...</td>\n",
       "      <td>0</td>\n",
       "      <td>1</td>\n",
       "      <td>0</td>\n",
       "      <td>0</td>\n",
       "      <td>0</td>\n",
       "      <td>0</td>\n",
       "      <td>0</td>\n",
       "      <td>0</td>\n",
       "      <td>0</td>\n",
       "      <td>0</td>\n",
       "    </tr>\n",
       "  </tbody>\n",
       "</table>\n",
       "<p>3 rows × 266 columns</p>\n",
       "</div>"
      ],
      "text/plain": [
       "        0    1    2    3    4    5    6    7    8    9  ...   y_1  y_2  y_3  \\\n",
       "1276  0.0  0.0  0.0  1.0  1.0  1.0  1.0  1.0  1.0  1.0  ...     0    0    1   \n",
       "635   0.0  0.0  0.0  0.0  0.0  0.0  0.0  0.0  0.0  0.0  ...     0    1    0   \n",
       "1269  0.0  0.0  0.0  0.0  0.0  0.0  0.0  0.0  0.0  0.0  ...     0    1    0   \n",
       "\n",
       "      y_4  y_5  y_6  y_7  y_8  y_9  y_10  \n",
       "1276    0    0    0    0    0    0     0  \n",
       "635     0    0    0    0    0    0     0  \n",
       "1269    0    0    0    0    0    0     0  \n",
       "\n",
       "[3 rows x 266 columns]"
      ]
     },
     "execution_count": 3,
     "metadata": {},
     "output_type": "execute_result"
    }
   ],
   "source": [
    "df.sample(3)"
   ]
  },
  {
   "cell_type": "markdown",
   "metadata": {},
   "source": [
    "### Средние значения цифр"
   ]
  },
  {
   "cell_type": "code",
   "execution_count": 4,
   "metadata": {},
   "outputs": [
    {
     "data": {
      "image/png": "[encoded data removed]",
      "text/plain": [
       "<Figure size 1008x432 with 10 Axes>"
      ]
     },
     "metadata": {},
     "output_type": "display_data"
    }
   ],
   "source": [
    "import matplotlib.pyplot as plt\n",
    "import numpy as np\n",
    "\n",
    "%matplotlib inline\n",
    "\n",
    "plt.figure(figsize=(14,6))\n",
    "\n",
    "\n",
    "for i in range(1,11):\n",
    "    key = 'y_%d' % i \n",
    "    v = df[df[key]==1].mean(axis=0).values[:256]  \n",
    "    ax = plt.subplot(2,5, i)  \n",
    "    plt.title( 'dig: %d' % (i-1))\n",
    "    ax.imshow(v.reshape(16,16), cmap=plt.cm.gray_r)  \n",
    "\n",
    "plt.show()    "
   ]
  },
  {
   "cell_type": "markdown",
   "metadata": {},
   "source": [
    "### Распределение по классам"
   ]
  },
  {
   "cell_type": "code",
   "execution_count": 27,
   "metadata": {},
   "outputs": [
    {
     "data": {
      "text/plain": [
       "<BarContainer object of 10 artists>"
      ]
     },
     "execution_count": 27,
     "metadata": {},
     "output_type": "execute_result"
    },
    {
     "data": {
      "image/png": "[encoded data removed]",
      "text/plain": [
       "<Figure size 720x432 with 1 Axes>"
      ]
     },
     "metadata": {},
     "output_type": "display_data"
    }
   ],
   "source": [
    " \n",
    "data = df[target_names].sum().values \n",
    "plt.figure(figsize = (10, 6))\n",
    "plt.bar(target_names, data)\n"
   ]
  },
  {
   "cell_type": "code",
   "execution_count": 5,
   "metadata": {},
   "outputs": [],
   "source": [
    "#import seaborn as sns\n",
    "\n",
    "#sns.pairplot(df, hue = 'target')"
   ]
  },
  {
   "cell_type": "code",
   "execution_count": 29,
   "metadata": {},
   "outputs": [],
   "source": [
    "from sklearn.model_selection import train_test_split\n",
    "\n",
    "X_train, X_test, y_train, y_test = train_test_split(df[data_names], df[target_names], test_size=0.30, random_state=42)\n",
    "\n"
   ]
  },
  {
   "cell_type": "code",
   "execution_count": 111,
   "metadata": {},
   "outputs": [
    {
     "data": {
      "text/plain": [
       "<BarContainer object of 10 artists>"
      ]
     },
     "execution_count": 111,
     "metadata": {},
     "output_type": "execute_result"
    },
    {
     "data": {
      "image/png": "[encoded data removed]",
      "text/plain": [
       "<Figure size 1008x288 with 2 Axes>"
      ]
     },
     "metadata": {},
     "output_type": "display_data"
    }
   ],
   "source": [
    " \n",
    "plt.figure(figsize = (14, 4))\n",
    "ax = plt.subplot(1,2, 1) \n",
    "plt.title(u'Обучающее распределение')\n",
    "ax.bar(target_names, y_train.sum())\n",
    "ax = plt.subplot(1,2, 2) \n",
    "plt.title(u'Тестовое распределение')\n",
    "ax.bar(target_names, y_test.sum())"
   ]
  },
  {
   "cell_type": "markdown",
   "metadata": {},
   "source": [
    "### KNN"
   ]
  },
  {
   "cell_type": "code",
   "execution_count": 30,
   "metadata": {},
   "outputs": [],
   "source": [
    "from sklearn.neighbors import KNeighborsClassifier\n",
    "from sklearn.metrics import classification_report\n",
    "from sklearn.pipeline import Pipeline\n"
   ]
  },
  {
   "cell_type": "code",
   "execution_count": 146,
   "metadata": {},
   "outputs": [
    {
     "name": "stdout",
     "output_type": "stream",
     "text": [
      "0.8786610878661087\n"
     ]
    }
   ],
   "source": [
    "knn = KNeighborsClassifier(p=2) \n",
    "knn.fit(X_train, y_train) \n",
    "print(knn.score(X_test, y_test)) \n",
    "\n"
   ]
  },
  {
   "cell_type": "code",
   "execution_count": 147,
   "metadata": {},
   "outputs": [
    {
     "name": "stdout",
     "output_type": "stream",
     "text": [
      "             precision    recall  f1-score   support\n",
      "\n",
      "          0       0.98      0.92      0.95        49\n",
      "          1       0.98      0.79      0.87        56\n",
      "          2       0.90      0.90      0.90        48\n",
      "          3       0.91      0.96      0.93        52\n",
      "          4       0.89      0.98      0.93        48\n",
      "          5       0.98      0.93      0.95        44\n",
      "          6       0.92      0.97      0.95        37\n",
      "          7       0.81      1.00      0.90        39\n",
      "          8       0.70      0.97      0.81        36\n",
      "          9       0.77      0.95      0.85        42\n",
      "\n",
      "avg / total       0.89      0.93      0.91       451\n",
      "\n"
     ]
    }
   ],
   "source": [
    "print classification_report(knn.predict(X_test), y_test)\n"
   ]
  },
  {
   "cell_type": "markdown",
   "metadata": {},
   "source": [
    "### Дерево решений"
   ]
  },
  {
   "cell_type": "code",
   "execution_count": null,
   "metadata": {},
   "outputs": [],
   "source": [
    "from sklearn.tree import DecisionTreeClassifier"
   ]
  },
  {
   "cell_type": "code",
   "execution_count": 39,
   "metadata": {},
   "outputs": [
    {
     "name": "stdout",
     "output_type": "stream",
     "text": [
      "0.7112970711297071\n"
     ]
    }
   ],
   "source": [
    "tree = DecisionTreeClassifier(random_state=42) \n",
    "tree.fit(X_train, y_train)\n",
    " \n",
    "print(tree.score(X_test, y_test)) "
   ]
  },
  {
   "cell_type": "code",
   "execution_count": 40,
   "metadata": {},
   "outputs": [
    {
     "name": "stdout",
     "output_type": "stream",
     "text": [
      "             precision    recall  f1-score   support\n",
      "\n",
      "          0       0.76      0.85      0.80        41\n",
      "          1       0.78      0.78      0.78        45\n",
      "          2       0.62      0.59      0.61        51\n",
      "          3       0.85      0.78      0.82        60\n",
      "          4       0.66      0.73      0.69        48\n",
      "          5       0.88      0.70      0.78        53\n",
      "          6       0.90      0.74      0.81        47\n",
      "          7       0.52      0.64      0.57        39\n",
      "          8       0.62      0.63      0.63        49\n",
      "          9       0.58      0.67      0.62        45\n",
      "\n",
      "avg / total       0.73      0.71      0.71       478\n",
      "\n"
     ]
    }
   ],
   "source": [
    "print classification_report(tree.predict(X_test), y_test)"
   ]
  },
  {
   "cell_type": "markdown",
   "metadata": {},
   "source": [
    "### Случайный лес"
   ]
  },
  {
   "cell_type": "code",
   "execution_count": 87,
   "metadata": {},
   "outputs": [],
   "source": [
    "from sklearn.ensemble import RandomForestClassifier\n",
    "\n",
    "#?RandomForestClassifier"
   ]
  },
  {
   "cell_type": "code",
   "execution_count": 148,
   "metadata": {},
   "outputs": [
    {
     "name": "stdout",
     "output_type": "stream",
     "text": [
      "0.7133891213389121\n"
     ]
    }
   ],
   "source": [
    "# Стало лучше при n_estimators = 25\n",
    "clf = RandomForestClassifier(n_estimators = 25, max_depth=None, random_state=42) \n",
    "clf.fit(X_train, y_train)\n",
    " \n",
    "print(clf.score(X_test, y_test)) "
   ]
  },
  {
   "cell_type": "code",
   "execution_count": 89,
   "metadata": {},
   "outputs": [
    {
     "name": "stdout",
     "output_type": "stream",
     "text": [
      "             precision    recall  f1-score   support\n",
      "\n",
      "          0       0.85      1.00      0.92        39\n",
      "          1       0.76      0.94      0.84        36\n",
      "          2       0.60      1.00      0.75        29\n",
      "          3       0.80      1.00      0.89        44\n",
      "          4       0.62      1.00      0.77        33\n",
      "          5       0.83      1.00      0.91        35\n",
      "          6       0.92      0.95      0.94        38\n",
      "          7       0.60      1.00      0.75        29\n",
      "          8       0.50      0.96      0.66        26\n",
      "          9       0.71      0.97      0.82        38\n",
      "\n",
      "avg / total       0.74      0.98      0.84       347\n",
      "\n"
     ]
    }
   ],
   "source": [
    "print classification_report(clf.predict(X_test), y_test)"
   ]
  },
  {
   "cell_type": "code",
   "execution_count": 154,
   "metadata": {},
   "outputs": [
    {
     "name": "stdout",
     "output_type": "stream",
     "text": [
      "(256, 0.01689916251223808, 0.0007132122369605334, 0.9999999999999996)\n"
     ]
    }
   ],
   "source": [
    "feat = clf.feature_importances_\n",
    "print(len(feat), max(feat), min(feat), sum(feat))"
   ]
  },
  {
   "cell_type": "markdown",
   "metadata": {},
   "source": [
    "### Naive Bayes"
   ]
  },
  {
   "cell_type": "code",
   "execution_count": 90,
   "metadata": {},
   "outputs": [],
   "source": [
    "from sklearn.naive_bayes import GaussianNB\n"
   ]
  },
  {
   "cell_type": "code",
   "execution_count": 99,
   "metadata": {},
   "outputs": [
    {
     "name": "stdout",
     "output_type": "stream",
     "text": [
      "(1115, 478)\n"
     ]
    }
   ],
   "source": [
    "y_train_target = y_train.dot(np.array([0,1,2,3,4,5,6,7,8,9]))\n",
    "y_test_target = y_test.dot(np.array([0,1,2,3,4,5,6,7,8,9]))\n",
    "\n",
    "print(len(y_train_target), len(y_test_target))"
   ]
  },
  {
   "cell_type": "code",
   "execution_count": 100,
   "metadata": {},
   "outputs": [
    {
     "name": "stdout",
     "output_type": "stream",
     "text": [
      "0.7907949790794979\n"
     ]
    }
   ],
   "source": [
    "clf = GaussianNB() \n",
    "clf.fit(X_train, y_train_target)\n",
    " \n",
    "print(clf.score(X_test, y_test_target)) "
   ]
  },
  {
   "cell_type": "code",
   "execution_count": 101,
   "metadata": {},
   "outputs": [
    {
     "name": "stdout",
     "output_type": "stream",
     "text": [
      "             precision    recall  f1-score   support\n",
      "\n",
      "          0       0.96      0.96      0.96        46\n",
      "          1       0.93      0.46      0.62        91\n",
      "          2       0.52      1.00      0.68        25\n",
      "          3       0.84      0.90      0.87        51\n",
      "          4       0.72      0.86      0.78        44\n",
      "          5       0.83      0.95      0.89        37\n",
      "          6       0.90      0.71      0.80        49\n",
      "          7       0.96      0.87      0.91        53\n",
      "          8       0.56      0.68      0.62        41\n",
      "          9       0.75      0.95      0.84        41\n",
      "\n",
      "avg / total       0.83      0.79      0.79       478\n",
      "\n"
     ]
    }
   ],
   "source": [
    "print classification_report(clf.predict(X_test), y_test_target)"
   ]
  },
  {
   "cell_type": "markdown",
   "metadata": {},
   "source": [
    "### Нейронная сеть"
   ]
  },
  {
   "cell_type": "code",
   "execution_count": 113,
   "metadata": {},
   "outputs": [],
   "source": [
    "from sklearn.neural_network import MLPClassifier\n"
   ]
  },
  {
   "cell_type": "code",
   "execution_count": 139,
   "metadata": {},
   "outputs": [
    {
     "name": "stdout",
     "output_type": "stream",
     "text": [
      "0.8619246861924686\n"
     ]
    }
   ],
   "source": [
    "# Стало лучше за счет L2 alpha=0.02\n",
    "\n",
    "clf = MLPClassifier(alpha=0.02, hidden_layer_sizes=(200, ), random_state=42) \n",
    "clf.fit(X_train, y_train)\n",
    " \n",
    "print(clf.score(X_test, y_test)) "
   ]
  },
  {
   "cell_type": "code",
   "execution_count": 140,
   "metadata": {},
   "outputs": [
    {
     "name": "stdout",
     "output_type": "stream",
     "text": [
      "             precision    recall  f1-score   support\n",
      "\n",
      "          0       0.93      0.96      0.95        45\n",
      "          1       0.96      0.90      0.92        48\n",
      "          2       0.96      0.96      0.96        48\n",
      "          3       0.87      0.98      0.92        49\n",
      "          4       0.89      0.90      0.90        52\n",
      "          5       0.90      0.95      0.93        40\n",
      "          6       0.95      1.00      0.97        37\n",
      "          7       0.88      0.95      0.91        44\n",
      "          8       0.72      0.95      0.82        38\n",
      "          9       0.90      0.85      0.88        55\n",
      "\n",
      "avg / total       0.90      0.94      0.92       456\n",
      "\n"
     ]
    }
   ],
   "source": [
    "print classification_report(clf.predict(X_test), y_test)"
   ]
  },
  {
   "cell_type": "code",
   "execution_count": null,
   "metadata": {},
   "outputs": [],
   "source": []
  }
 ],
 "metadata": {
  "kernelspec": {
   "display_name": "Python 2",
   "language": "python",
   "name": "python2"
  },
  "language_info": {
   "codemirror_mode": {
    "name": "ipython",
    "version": 2
   },
   "file_extension": ".py",
   "mimetype": "text/x-python",
   "name": "python",
   "nbconvert_exporter": "python",
   "pygments_lexer": "ipython2",
   "version": "2.7.12"
  }
 },
 "nbformat": 4,
 "nbformat_minor": 2
}
