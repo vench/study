{
 "cells": [
  {
   "cell_type": "markdown",
   "metadata": {},
   "source": [
    "# Классификатор новостей на основе категорий yandex news"
   ]
  },
  {
   "cell_type": "code",
   "execution_count": 12,
   "metadata": {},
   "outputs": [],
   "source": [
    "import numpy as np\n",
    "from sklearn.model_selection import train_test_split \n",
    "from keras.models import Sequential\n",
    "from keras.layers.core import Dense, Activation,Flatten\n",
    "from keras import optimizers\n",
    "from keras.preprocessing import sequence\n",
    "from keras.layers import LSTM\n",
    "from keras.layers.embeddings import Embedding\n",
    "from keras.preprocessing.text import Tokenizer\n",
    "from keras.layers import Dropout \n",
    "import pandas as pd\n",
    "from stop_words import get_stop_words\n",
    "\n",
    "np.random.seed(5) "
   ]
  },
  {
   "cell_type": "code",
   "execution_count": 2,
   "metadata": {},
   "outputs": [],
   "source": [
    "file_data = './data_sets/ya_posts_category.csv'"
   ]
  },
  {
   "cell_type": "code",
   "execution_count": 3,
   "metadata": {},
   "outputs": [],
   "source": [
    "names=['id','text','category','auto','in_world','culture','saince','social','polit','accidents','sport','tehnology','economica']\n",
    "df = pd.read_csv(file_data, names=names)\n",
    " "
   ]
  },
  {
   "cell_type": "markdown",
   "metadata": {},
   "source": [
    "### Удаляем стоп слова"
   ]
  },
  {
   "cell_type": "code",
   "execution_count": 4,
   "metadata": {},
   "outputs": [],
   "source": [
    "stop_words = get_stop_words('ru')\n",
    "\n",
    "def filter_stop_words(text):\n",
    "    global stop_words\n",
    "    new_sent = [word for word in text.split() if word not in stop_words] \n",
    "    return ' '.join(new_sent)  \n",
    "    \n",
    "texts =  df['text'].map(filter_stop_words)\n",
    "Y =  df[names[3:]].values"
   ]
  },
  {
   "cell_type": "code",
   "execution_count": 5,
   "metadata": {},
   "outputs": [
    {
     "data": {
      "text/html": [
       "<div>\n",
       "<style scoped>\n",
       "    .dataframe tbody tr th:only-of-type {\n",
       "        vertical-align: middle;\n",
       "    }\n",
       "\n",
       "    .dataframe tbody tr th {\n",
       "        vertical-align: top;\n",
       "    }\n",
       "\n",
       "    .dataframe thead th {\n",
       "        text-align: right;\n",
       "    }\n",
       "</style>\n",
       "<table border=\"1\" class=\"dataframe\">\n",
       "  <thead>\n",
       "    <tr style=\"text-align: right;\">\n",
       "      <th></th>\n",
       "      <th>id</th>\n",
       "      <th>text</th>\n",
       "      <th>category</th>\n",
       "      <th>auto</th>\n",
       "      <th>in_world</th>\n",
       "      <th>culture</th>\n",
       "      <th>saince</th>\n",
       "      <th>social</th>\n",
       "      <th>polit</th>\n",
       "      <th>accidents</th>\n",
       "      <th>sport</th>\n",
       "      <th>tehnology</th>\n",
       "      <th>economica</th>\n",
       "    </tr>\n",
       "  </thead>\n",
       "  <tbody>\n",
       "    <tr>\n",
       "      <th>7429</th>\n",
       "      <td>430838</td>\n",
       "      <td>ученые из великобритании провели исследование ...</td>\n",
       "      <td>Наука</td>\n",
       "      <td>0</td>\n",
       "      <td>0</td>\n",
       "      <td>0</td>\n",
       "      <td>1</td>\n",
       "      <td>0</td>\n",
       "      <td>0</td>\n",
       "      <td>0</td>\n",
       "      <td>0</td>\n",
       "      <td>0</td>\n",
       "      <td>0</td>\n",
       "    </tr>\n",
       "    <tr>\n",
       "      <th>8044</th>\n",
       "      <td>373253</td>\n",
       "      <td>эксперты объединили все слухи об   года и сост...</td>\n",
       "      <td>Технологии</td>\n",
       "      <td>0</td>\n",
       "      <td>0</td>\n",
       "      <td>0</td>\n",
       "      <td>0</td>\n",
       "      <td>0</td>\n",
       "      <td>0</td>\n",
       "      <td>0</td>\n",
       "      <td>0</td>\n",
       "      <td>1</td>\n",
       "      <td>0</td>\n",
       "    </tr>\n",
       "    <tr>\n",
       "      <th>4212</th>\n",
       "      <td>630469</td>\n",
       "      <td>в министерстве обороны заявили о столкновении ...</td>\n",
       "      <td>Происшествия</td>\n",
       "      <td>0</td>\n",
       "      <td>0</td>\n",
       "      <td>0</td>\n",
       "      <td>0</td>\n",
       "      <td>0</td>\n",
       "      <td>0</td>\n",
       "      <td>1</td>\n",
       "      <td>0</td>\n",
       "      <td>0</td>\n",
       "      <td>0</td>\n",
       "    </tr>\n",
       "  </tbody>\n",
       "</table>\n",
       "</div>"
      ],
      "text/plain": [
       "          id                                               text      category  \\\n",
       "7429  430838  ученые из великобритании провели исследование ...         Наука   \n",
       "8044  373253  эксперты объединили все слухи об   года и сост...    Технологии   \n",
       "4212  630469  в министерстве обороны заявили о столкновении ...  Происшествия   \n",
       "\n",
       "      auto  in_world  culture  saince  social  polit  accidents  sport  \\\n",
       "7429     0         0        0       1       0      0          0      0   \n",
       "8044     0         0        0       0       0      0          0      0   \n",
       "4212     0         0        0       0       0      0          1      0   \n",
       "\n",
       "      tehnology  economica  \n",
       "7429          0          0  \n",
       "8044          1          0  \n",
       "4212          0          0  "
      ]
     },
     "execution_count": 5,
     "metadata": {},
     "output_type": "execute_result"
    }
   ],
   "source": [
    "df.sample(3)"
   ]
  },
  {
   "cell_type": "markdown",
   "metadata": {},
   "source": [
    "### Разбиваем на тестовую и обучающею выборку\n",
    "\n",
    "разюиваем корпус данных и обучаемся. Далее обрезаем все тексты до 150 слов."
   ]
  },
  {
   "cell_type": "code",
   "execution_count": 6,
   "metadata": {},
   "outputs": [],
   "source": [
    "nb_words = 25000\n",
    "tokenizer = Tokenizer(num_words=nb_words)\n",
    "tokenizer.fit_on_texts( texts ) \n",
    "\n",
    "X_raw = tokenizer.texts_to_sequences(texts)\n",
    "X = sequence.pad_sequences(X_raw, maxlen=150)\n",
    "\n",
    "X_train, X_test, Y_train, Y_test = train_test_split(X, Y, test_size=0.20, random_state=33)"
   ]
  },
  {
   "cell_type": "markdown",
   "metadata": {},
   "source": [
    "### Вначале обучим модель на основе рекурентного слоя LSTM \n",
    "\n",
    "- слой LSTM 100\n",
    "- полносвязный слой 100\n",
    "- выход 10 классов"
   ]
  },
  {
   "cell_type": "code",
   "execution_count": 13,
   "metadata": {},
   "outputs": [
    {
     "name": "stdout",
     "output_type": "stream",
     "text": [
      "_________________________________________________________________\n",
      "Layer (type)                 Output Shape              Param #   \n",
      "=================================================================\n",
      "embedding_1 (Embedding)      (None, 150, 100)          2500000   \n",
      "_________________________________________________________________\n",
      "lstm_1 (LSTM)                (None, 100)               80400     \n",
      "_________________________________________________________________\n",
      "dropout_1 (Dropout)          (None, 100)               0         \n",
      "_________________________________________________________________\n",
      "dense_1 (Dense)              (None, 100)               10100     \n",
      "_________________________________________________________________\n",
      "activation_1 (Activation)    (None, 100)               0         \n",
      "_________________________________________________________________\n",
      "dropout_2 (Dropout)          (None, 100)               0         \n",
      "_________________________________________________________________\n",
      "dense_2 (Dense)              (None, 10)                1010      \n",
      "_________________________________________________________________\n",
      "activation_2 (Activation)    (None, 10)                0         \n",
      "=================================================================\n",
      "Total params: 2,591,510\n",
      "Trainable params: 2,591,510\n",
      "Non-trainable params: 0\n",
      "_________________________________________________________________\n",
      "None\n"
     ]
    }
   ],
   "source": [
    "learning_rate = 0.005\n",
    "\n",
    "model = Sequential()\n",
    "model.add(Embedding(nb_words, 100, input_length= X_train.shape[1]))\n",
    "model.add(LSTM(100))\n",
    "model.add(Dropout(0.5))\n",
    " \n",
    "model.add(Dense(100))\n",
    "model.add(Activation('relu'))\n",
    "model.add(Dropout(0.5))\n",
    " \n",
    "model.add(Dense(10))\n",
    "model.add(Activation('softmax'))\n",
    "\n",
    "sgd = optimizers.Adam(lr=learning_rate)\n",
    "model.compile(loss='categorical_crossentropy', optimizer=sgd, metrics=[\"accuracy\"])\n",
    "\n",
    "print( model.summary())"
   ]
  },
  {
   "cell_type": "markdown",
   "metadata": {},
   "source": [
    "Обучаем 10 эпох и валидируем на тестовой выборке"
   ]
  },
  {
   "cell_type": "code",
   "execution_count": 14,
   "metadata": {},
   "outputs": [
    {
     "name": "stdout",
     "output_type": "stream",
     "text": [
      "Train on 7800 samples, validate on 1950 samples\n",
      "Epoch 1/10\n",
      "7800/7800 [==============================] - 52s 7ms/step - loss: 1.3104 - acc: 0.5467 - val_loss: 0.5281 - val_acc: 0.8062\n",
      "Epoch 2/10\n",
      "7800/7800 [==============================] - 54s 7ms/step - loss: 0.4134 - acc: 0.8744 - val_loss: 0.4581 - val_acc: 0.8697\n",
      "Epoch 3/10\n",
      "7800/7800 [==============================] - 58s 7ms/step - loss: 0.2616 - acc: 0.9258 - val_loss: 0.3993 - val_acc: 0.8882\n",
      "Epoch 4/10\n",
      "7800/7800 [==============================] - 60s 8ms/step - loss: 0.1770 - acc: 0.9449 - val_loss: 0.5186 - val_acc: 0.8841\n",
      "Epoch 5/10\n",
      "7800/7800 [==============================] - 52s 7ms/step - loss: 0.1742 - acc: 0.9442 - val_loss: 0.5250 - val_acc: 0.8795\n",
      "Epoch 6/10\n",
      "7800/7800 [==============================] - 50s 6ms/step - loss: 0.1502 - acc: 0.9517 - val_loss: 0.5866 - val_acc: 0.8897\n",
      "Epoch 7/10\n",
      "7800/7800 [==============================] - 53s 7ms/step - loss: 0.1630 - acc: 0.9500 - val_loss: 0.6260 - val_acc: 0.8836\n",
      "Epoch 8/10\n",
      "7800/7800 [==============================] - 52s 7ms/step - loss: 0.1233 - acc: 0.9565 - val_loss: 0.6549 - val_acc: 0.8867\n",
      "Epoch 9/10\n",
      "7800/7800 [==============================] - 52s 7ms/step - loss: 0.1235 - acc: 0.9562 - val_loss: 0.6195 - val_acc: 0.8933\n",
      "Epoch 10/10\n",
      "7800/7800 [==============================] - 50s 6ms/step - loss: 0.1045 - acc: 0.9582 - val_loss: 0.6288 - val_acc: 0.8990\n"
     ]
    }
   ],
   "source": [
    "epochs_len = 10\n",
    "\n",
    "result = model.fit(X_train, Y_train,\n",
    "          epochs=epochs_len, \n",
    "          verbose=1, shuffle=True,\n",
    "          callbacks=[],          \n",
    "          validation_data=(X_test, Y_test),     \n",
    "          )"
   ]
  },
  {
   "cell_type": "code",
   "execution_count": 15,
   "metadata": {},
   "outputs": [
    {
     "name": "stdout",
     "output_type": "stream",
     "text": [
      "1950/1950 [==============================] - 3s 1ms/step\n",
      "Ошибка на тесте:  0.628792, точность на тесте: 0.898974\n"
     ]
    }
   ],
   "source": [
    "score = model.evaluate(X_test, Y_test, verbose=1)  \n",
    "print (\"Ошибка на тесте:  %f, точность на тесте: %f\" % (score[0], score[1] ))"
   ]
  },
  {
   "cell_type": "code",
   "execution_count": 16,
   "metadata": {},
   "outputs": [
    {
     "name": "stdout",
     "output_type": "stream",
     "text": [
      "Populating the interactive namespace from numpy and matplotlib\n"
     ]
    },
    {
     "data": {
      "image/png": "[encoded data removed]",
      "text/plain": [
       "<Figure size 720x432 with 1 Axes>"
      ]
     },
     "metadata": {
      "needs_background": "light"
     },
     "output_type": "display_data"
    },
    {
     "data": {
      "image/png": "[encoded data removed]",
      "text/plain": [
       "<Figure size 720x432 with 1 Axes>"
      ]
     },
     "metadata": {
      "needs_background": "light"
     },
     "output_type": "display_data"
    }
   ],
   "source": [
    "import matplotlib.pyplot as plt\n",
    "%pylab inline\n",
    "pylab.rcParams['figure.figsize'] = (10, 6)\n",
    "\n",
    "# summarize history for accuracy\n",
    "plt.plot(result.history['acc'])\n",
    "plt.plot(result.history['val_acc'])\n",
    "plt.title('model accuracy')\n",
    "plt.ylabel('accuracy')\n",
    "plt.xlabel('epoch')\n",
    "plt.legend(['train', 'test'], loc='upper left')\n",
    "plt.show()\n",
    "# summarize history for loss\n",
    "plt.plot(result.history['loss'])\n",
    "plt.plot(result.history['val_loss'])\n",
    "plt.title('model loss')\n",
    "plt.ylabel('loss')\n",
    "plt.xlabel('epoch')\n",
    "plt.legend(['train', 'test'], loc='upper left')\n",
    "plt.show()"
   ]
  },
  {
   "cell_type": "markdown",
   "metadata": {},
   "source": [
    "- Из графиков видно, что ошибка на 3 эпохе стала рости. \n",
    "- Точность на 3 эпохе вышла на константу"
   ]
  },
  {
   "cell_type": "markdown",
   "metadata": {},
   "source": [
    "### Скомбинируем  модель на основе рекурентного слоя LSTM и сверточного Conv1D (одномерный слой свертки)\n",
    "\n",
    "\n",
    "- сверточный слой 32\n",
    "- слой LSTM 100\n",
    "- выход 10 классов"
   ]
  },
  {
   "cell_type": "code",
   "execution_count": 19,
   "metadata": {},
   "outputs": [
    {
     "name": "stdout",
     "output_type": "stream",
     "text": [
      "_________________________________________________________________\n",
      "Layer (type)                 Output Shape              Param #   \n",
      "=================================================================\n",
      "embedding_2 (Embedding)      (None, 150, 100)          2500000   \n",
      "_________________________________________________________________\n",
      "conv1d_1 (Conv1D)            (None, 150, 32)           9632      \n",
      "_________________________________________________________________\n",
      "max_pooling1d_1 (MaxPooling1 (None, 75, 32)            0         \n",
      "_________________________________________________________________\n",
      "lstm_2 (LSTM)                (None, 100)               53200     \n",
      "_________________________________________________________________\n",
      "dense_3 (Dense)              (None, 10)                1010      \n",
      "_________________________________________________________________\n",
      "activation_3 (Activation)    (None, 10)                0         \n",
      "=================================================================\n",
      "Total params: 2,563,842\n",
      "Trainable params: 2,563,842\n",
      "Non-trainable params: 0\n",
      "_________________________________________________________________\n",
      "None\n"
     ]
    }
   ],
   "source": [
    "from keras.layers import Conv1D,MaxPooling1D\n",
    "\n",
    "learning_rate = 0.005\n",
    "\n",
    "model2 = Sequential( )\n",
    "model2.add(Embedding( nb_words, 100, input_length= X.shape[1]))\n",
    "model2.add (Conv1D (filters = 32 , kernel_size = 3 , padding='same', activation = 'relu') )\n",
    "model2.add (MaxPooling1D (pool_size = 2 ))\n",
    "model2.add(LSTM (100)) \n",
    "model2.add(Dense(10))\n",
    "model2.add(Activation('softmax'))\n",
    "\n",
    "sgd = optimizers.Adam(lr=learning_rate)\n",
    "model2.compile(loss='categorical_crossentropy', optimizer=sgd, metrics=[\"accuracy\"]) \n",
    "print (model2.summary())\n"
   ]
  },
  {
   "cell_type": "markdown",
   "metadata": {},
   "source": [
    "Обучаем 10 эпох и валидируем на тестовой выборке"
   ]
  },
  {
   "cell_type": "code",
   "execution_count": 20,
   "metadata": {},
   "outputs": [
    {
     "name": "stdout",
     "output_type": "stream",
     "text": [
      "Train on 7800 samples, validate on 1950 samples\n",
      "Epoch 1/10\n",
      "7800/7800 [==============================] - 31s 4ms/step - loss: 0.9428 - acc: 0.6597 - val_loss: 0.4022 - val_acc: 0.8759\n",
      "Epoch 2/10\n",
      "7800/7800 [==============================] - 27s 3ms/step - loss: 0.2554 - acc: 0.9171 - val_loss: 0.3156 - val_acc: 0.9087\n",
      "Epoch 3/10\n",
      "7800/7800 [==============================] - 27s 4ms/step - loss: 0.1573 - acc: 0.9538 - val_loss: 0.3173 - val_acc: 0.9072\n",
      "Epoch 4/10\n",
      "7800/7800 [==============================] - 28s 4ms/step - loss: 0.1320 - acc: 0.9536 - val_loss: 0.3111 - val_acc: 0.9108\n",
      "Epoch 5/10\n",
      "7800/7800 [==============================] - 28s 4ms/step - loss: 0.1087 - acc: 0.9586 - val_loss: 0.3337 - val_acc: 0.9128\n",
      "Epoch 6/10\n",
      "7800/7800 [==============================] - 28s 4ms/step - loss: 0.0955 - acc: 0.9613 - val_loss: 0.3591 - val_acc: 0.9103\n",
      "Epoch 7/10\n",
      "7800/7800 [==============================] - 28s 4ms/step - loss: 0.0891 - acc: 0.9615 - val_loss: 0.3279 - val_acc: 0.9272\n",
      "Epoch 8/10\n",
      "7800/7800 [==============================] - 30s 4ms/step - loss: 0.0875 - acc: 0.9619 - val_loss: 0.3555 - val_acc: 0.9169\n",
      "Epoch 9/10\n",
      "7800/7800 [==============================] - 29s 4ms/step - loss: 0.0885 - acc: 0.9613 - val_loss: 0.3933 - val_acc: 0.9067\n",
      "Epoch 10/10\n",
      "7800/7800 [==============================] - 30s 4ms/step - loss: 0.0849 - acc: 0.9638 - val_loss: 0.3781 - val_acc: 0.9144\n"
     ]
    }
   ],
   "source": [
    "epochs_len = 10\n",
    "\n",
    "result2 = model2.fit(X_train, Y_train,\n",
    "          epochs=epochs_len, \n",
    "          verbose=1, shuffle=True,\n",
    "          callbacks=[],          \n",
    "          validation_data=(X_test, Y_test),     \n",
    "          )"
   ]
  },
  {
   "cell_type": "code",
   "execution_count": 22,
   "metadata": {},
   "outputs": [
    {
     "name": "stdout",
     "output_type": "stream",
     "text": [
      "1950/1950 [==============================] - 3s 1ms/step\n",
      "Ошибка на тесте:  0.628792, точность на тесте: 0.898974\n"
     ]
    }
   ],
   "source": [
    "score = model.evaluate(X_test, Y_test, verbose=1)  \n",
    "print (\"Ошибка на тесте:  %f, точность на тесте: %f\" % (score[0], score[1] ))"
   ]
  },
  {
   "cell_type": "code",
   "execution_count": 21,
   "metadata": {},
   "outputs": [
    {
     "name": "stdout",
     "output_type": "stream",
     "text": [
      "Populating the interactive namespace from numpy and matplotlib\n"
     ]
    },
    {
     "data": {
      "image/png": "[encoded data removed]",
      "text/plain": [
       "<Figure size 720x432 with 1 Axes>"
      ]
     },
     "metadata": {
      "needs_background": "light"
     },
     "output_type": "display_data"
    },
    {
     "data": {
      "image/png": "[encoded data removed]",
      "text/plain": [
       "<Figure size 720x432 with 1 Axes>"
      ]
     },
     "metadata": {
      "needs_background": "light"
     },
     "output_type": "display_data"
    }
   ],
   "source": [
    "import matplotlib.pyplot as plt\n",
    "%pylab inline\n",
    "pylab.rcParams['figure.figsize'] = (10, 6)\n",
    "\n",
    "# summarize history for accuracy\n",
    "plt.plot(result2.history['acc'])\n",
    "plt.plot(result2.history['val_acc'])\n",
    "plt.title('model accuracy')\n",
    "plt.ylabel('accuracy')\n",
    "plt.xlabel('epoch')\n",
    "plt.legend(['train', 'test'], loc='upper left')\n",
    "plt.show()\n",
    "# summarize history for loss\n",
    "plt.plot(result2.history['loss'])\n",
    "plt.plot(result2.history['val_loss'])\n",
    "plt.title('model loss')\n",
    "plt.ylabel('loss')\n",
    "plt.xlabel('epoch')\n",
    "plt.legend(['train', 'test'], loc='upper left')\n",
    "plt.show()"
   ]
  },
  {
   "cell_type": "markdown",
   "metadata": {},
   "source": [
    "- Из графиков видно, что ошибка на 3 эпохе стала рости. \n",
    "- Точность на 3 эпохе вышла на константу"
   ]
  },
  {
   "cell_type": "markdown",
   "metadata": {},
   "source": [
    "### Скомбинируем  модель на основе полносвязных слоев\n",
    "\n",
    "\n",
    "- полносвязный слой 100\n",
    "- полносвязный слой 100\n",
    "- выход 10 классов"
   ]
  },
  {
   "cell_type": "code",
   "execution_count": 14,
   "metadata": {},
   "outputs": [
    {
     "name": "stdout",
     "output_type": "stream",
     "text": [
      "_________________________________________________________________\n",
      "Layer (type)                 Output Shape              Param #   \n",
      "=================================================================\n",
      "embedding_4 (Embedding)      (None, 150, 100)          2500000   \n",
      "_________________________________________________________________\n",
      "dense_8 (Dense)              (None, 150, 100)          10100     \n",
      "_________________________________________________________________\n",
      "activation_8 (Activation)    (None, 150, 100)          0         \n",
      "_________________________________________________________________\n",
      "dropout_7 (Dropout)          (None, 150, 100)          0         \n",
      "_________________________________________________________________\n",
      "dense_9 (Dense)              (None, 150, 100)          10100     \n",
      "_________________________________________________________________\n",
      "activation_9 (Activation)    (None, 150, 100)          0         \n",
      "_________________________________________________________________\n",
      "dropout_8 (Dropout)          (None, 150, 100)          0         \n",
      "_________________________________________________________________\n",
      "flatten_1 (Flatten)          (None, 15000)             0         \n",
      "_________________________________________________________________\n",
      "dense_10 (Dense)             (None, 10)                150010    \n",
      "_________________________________________________________________\n",
      "activation_10 (Activation)   (None, 10)                0         \n",
      "=================================================================\n",
      "Total params: 2,670,210\n",
      "Trainable params: 2,670,210\n",
      "Non-trainable params: 0\n",
      "_________________________________________________________________\n",
      "None\n"
     ]
    }
   ],
   "source": [
    "learning_rate = 0.005\n",
    "\n",
    "model3 = Sequential()\n",
    "model3.add(Embedding(nb_words, 100, input_length= X_train.shape[1]))\n",
    "model3.add(Dense(100))\n",
    "model3.add(Activation('relu'))\n",
    "model3.add(Dropout(0.5))\n",
    " \n",
    "model3.add(Dense(100))\n",
    "model3.add(Activation('relu'))\n",
    "model3.add(Dropout(0.5))\n",
    "\n",
    "model3.add(Flatten())\n",
    "    \n",
    "model3.add(Dense(10))\n",
    "model3.add(Activation('softmax'))\n",
    "\n",
    "sgd = optimizers.Adam(lr=learning_rate)\n",
    "model3.compile(loss='categorical_crossentropy', optimizer=sgd, metrics=[\"accuracy\"])\n",
    "\n",
    "print( model3.summary())"
   ]
  },
  {
   "cell_type": "code",
   "execution_count": 18,
   "metadata": {},
   "outputs": [
    {
     "name": "stdout",
     "output_type": "stream",
     "text": [
      "Train on 7800 samples, validate on 1950 samples\n",
      "Epoch 1/10\n",
      "7800/7800 [==============================] - 16s 2ms/step - loss: 0.8639 - acc: 0.7288 - val_loss: 0.5468 - val_acc: 0.8364\n",
      "Epoch 2/10\n",
      "7800/7800 [==============================] - 17s 2ms/step - loss: 0.4703 - acc: 0.8679 - val_loss: 0.5329 - val_acc: 0.8523\n",
      "Epoch 3/10\n",
      "7800/7800 [==============================] - 17s 2ms/step - loss: 0.3968 - acc: 0.8969 - val_loss: 0.4405 - val_acc: 0.8769\n",
      "Epoch 4/10\n",
      "7800/7800 [==============================] - 18s 2ms/step - loss: 0.3326 - acc: 0.9124 - val_loss: 0.4013 - val_acc: 0.8821\n",
      "Epoch 5/10\n",
      "7800/7800 [==============================] - 16s 2ms/step - loss: 0.3160 - acc: 0.9210 - val_loss: 0.4047 - val_acc: 0.8954\n",
      "Epoch 6/10\n",
      "7800/7800 [==============================] - 17s 2ms/step - loss: 0.2966 - acc: 0.9253 - val_loss: 0.4718 - val_acc: 0.8744\n",
      "Epoch 7/10\n",
      "7800/7800 [==============================] - 17s 2ms/step - loss: 0.2933 - acc: 0.9235 - val_loss: 0.4601 - val_acc: 0.8779\n",
      "Epoch 8/10\n",
      "7800/7800 [==============================] - 16s 2ms/step - loss: 0.2905 - acc: 0.9256 - val_loss: 0.4299 - val_acc: 0.8862\n",
      "Epoch 9/10\n",
      "7800/7800 [==============================] - 16s 2ms/step - loss: 0.2602 - acc: 0.9319 - val_loss: 0.4589 - val_acc: 0.8954\n",
      "Epoch 10/10\n",
      "7800/7800 [==============================] - 17s 2ms/step - loss: 0.2653 - acc: 0.9312 - val_loss: 0.4363 - val_acc: 0.8877\n"
     ]
    }
   ],
   "source": [
    "epochs_len = 10 \n",
    " \n",
    "result3 = model3.fit(X_train, Y_train,\n",
    "           epochs=epochs_len, \n",
    "           verbose=1, shuffle=True,\n",
    "           callbacks=[],  validation_data=(X_test, Y_test) \n",
    "    )"
   ]
  },
  {
   "cell_type": "code",
   "execution_count": 19,
   "metadata": {},
   "outputs": [
    {
     "name": "stdout",
     "output_type": "stream",
     "text": [
      "1950/1950 [==============================] - 1s 296us/step\n",
      "Ошибка на тесте:  0.436316, точность на тесте: 0.887692\n"
     ]
    }
   ],
   "source": [
    "score = model3.evaluate(X_test, Y_test, verbose=1)  \n",
    "print (\"Ошибка на тесте:  %f, точность на тесте: %f\" % (score[0], score[1] ))"
   ]
  },
  {
   "cell_type": "code",
   "execution_count": 20,
   "metadata": {},
   "outputs": [
    {
     "name": "stdout",
     "output_type": "stream",
     "text": [
      "Populating the interactive namespace from numpy and matplotlib\n"
     ]
    },
    {
     "data": {
      "image/png": "[encoded data removed]",
      "text/plain": [
       "<Figure size 720x432 with 1 Axes>"
      ]
     },
     "metadata": {
      "needs_background": "light"
     },
     "output_type": "display_data"
    },
    {
     "data": {
      "image/png": "[encoded data removed]",
      "text/plain": [
       "<Figure size 720x432 with 1 Axes>"
      ]
     },
     "metadata": {
      "needs_background": "light"
     },
     "output_type": "display_data"
    }
   ],
   "source": [
    "import matplotlib.pyplot as plt\n",
    "%pylab inline\n",
    "pylab.rcParams['figure.figsize'] = (10, 6)\n",
    "\n",
    "# summarize history for accuracy\n",
    "plt.plot(result3.history['acc'])\n",
    "plt.plot(result3.history['val_acc'])\n",
    "plt.title('model accuracy')\n",
    "plt.ylabel('accuracy')\n",
    "plt.xlabel('epoch')\n",
    "plt.legend(['train', 'test'], loc='upper left')\n",
    "plt.show()\n",
    "# summarize history for loss\n",
    "plt.plot(result3.history['loss'])\n",
    "plt.plot(result3.history['val_loss'])\n",
    "plt.title('model loss')\n",
    "plt.ylabel('loss')\n",
    "plt.xlabel('epoch')\n",
    "plt.legend(['train', 'test'], loc='upper left')\n",
    "plt.show()"
   ]
  },
  {
   "cell_type": "code",
   "execution_count": null,
   "metadata": {},
   "outputs": [],
   "source": []
  }
 ],
 "metadata": {
  "kernelspec": {
   "display_name": "Python 3",
   "language": "python",
   "name": "python3"
  },
  "language_info": {
   "codemirror_mode": {
    "name": "ipython",
    "version": 3
   },
   "file_extension": ".py",
   "mimetype": "text/x-python",
   "name": "python",
   "nbconvert_exporter": "python",
   "pygments_lexer": "ipython3",
   "version": "3.5.2"
  }
 },
 "nbformat": 4,
 "nbformat_minor": 2
}
