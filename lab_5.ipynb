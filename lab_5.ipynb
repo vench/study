{
 "cells": [
  {
   "cell_type": "markdown",
   "metadata": {},
   "source": [
    "# Классификатор новостей на основе категорий yandex news"
   ]
  },
  {
   "cell_type": "code",
   "execution_count": 1,
   "metadata": {},
   "outputs": [
    {
     "name": "stderr",
     "output_type": "stream",
     "text": [
      "Using TensorFlow backend.\n"
     ]
    }
   ],
   "source": [
    "import numpy as np\n",
    "from sklearn.model_selection import train_test_split \n",
    "from keras.models import Sequential\n",
    "from keras.layers.core import Dense, Activation,Flatten\n",
    "from keras import optimizers\n",
    "from keras.preprocessing import sequence\n",
    "from keras.layers import LSTM\n",
    "from keras.layers.embeddings import Embedding\n",
    "from keras.preprocessing.text import Tokenizer\n",
    "from keras.layers import Dropout \n",
    "import pandas as pd\n",
    "from stop_words import get_stop_words\n",
    "\n",
    "np.random.seed(5) "
   ]
  },
  {
   "cell_type": "code",
   "execution_count": 2,
   "metadata": {},
   "outputs": [],
   "source": [
    "file_data = './data_sets/ya_posts_category.csv'"
   ]
  },
  {
   "cell_type": "code",
   "execution_count": 3,
   "metadata": {},
   "outputs": [],
   "source": [
    "names=['id','text','category','auto','in_world','culture','saince','social','polit','accidents','sport','tehnology','economica']\n",
    "df = pd.read_csv(file_data, names=names)\n",
    " "
   ]
  },
  {
   "cell_type": "markdown",
   "metadata": {},
   "source": [
    "### Удаляем стоп слова"
   ]
  },
  {
   "cell_type": "code",
   "execution_count": 4,
   "metadata": {},
   "outputs": [],
   "source": [
    "stop_words = get_stop_words('ru')\n",
    "\n",
    "def filter_stop_words(text):\n",
    "    global stop_words\n",
    "    new_sent = [word for word in text.split() if word not in stop_words] \n",
    "    return ' '.join(new_sent)  \n",
    "    \n",
    "texts =  df['text'].map(filter_stop_words)\n",
    "Y =  df[names[3:]].values"
   ]
  },
  {
   "cell_type": "code",
   "execution_count": 27,
   "metadata": {},
   "outputs": [
    {
     "data": {
      "text/html": [
       "<div>\n",
       "<style scoped>\n",
       "    .dataframe tbody tr th:only-of-type {\n",
       "        vertical-align: middle;\n",
       "    }\n",
       "\n",
       "    .dataframe tbody tr th {\n",
       "        vertical-align: top;\n",
       "    }\n",
       "\n",
       "    .dataframe thead th {\n",
       "        text-align: right;\n",
       "    }\n",
       "</style>\n",
       "<table border=\"1\" class=\"dataframe\">\n",
       "  <thead>\n",
       "    <tr style=\"text-align: right;\">\n",
       "      <th></th>\n",
       "      <th>id</th>\n",
       "      <th>text</th>\n",
       "      <th>category</th>\n",
       "      <th>auto</th>\n",
       "      <th>in_world</th>\n",
       "      <th>culture</th>\n",
       "      <th>saince</th>\n",
       "      <th>social</th>\n",
       "      <th>polit</th>\n",
       "      <th>accidents</th>\n",
       "      <th>sport</th>\n",
       "      <th>tehnology</th>\n",
       "      <th>economica</th>\n",
       "    </tr>\n",
       "  </thead>\n",
       "  <tbody>\n",
       "    <tr>\n",
       "      <th>7793</th>\n",
       "      <td>1149893</td>\n",
       "      <td>лондон  февраля премию  в номинации лучший фил...</td>\n",
       "      <td>Культура</td>\n",
       "      <td>0</td>\n",
       "      <td>0</td>\n",
       "      <td>1</td>\n",
       "      <td>0</td>\n",
       "      <td>0</td>\n",
       "      <td>0</td>\n",
       "      <td>0</td>\n",
       "      <td>0</td>\n",
       "      <td>0</td>\n",
       "      <td>0</td>\n",
       "    </tr>\n",
       "    <tr>\n",
       "      <th>3388</th>\n",
       "      <td>429906</td>\n",
       "      <td>президент соединенных штатов дональд трамп соо...</td>\n",
       "      <td>Политика</td>\n",
       "      <td>0</td>\n",
       "      <td>0</td>\n",
       "      <td>0</td>\n",
       "      <td>0</td>\n",
       "      <td>0</td>\n",
       "      <td>1</td>\n",
       "      <td>0</td>\n",
       "      <td>0</td>\n",
       "      <td>0</td>\n",
       "      <td>0</td>\n",
       "    </tr>\n",
       "    <tr>\n",
       "      <th>7389</th>\n",
       "      <td>431099</td>\n",
       "      <td>с наступлением весны в автомобиле нужно провер...</td>\n",
       "      <td>Авто</td>\n",
       "      <td>1</td>\n",
       "      <td>0</td>\n",
       "      <td>0</td>\n",
       "      <td>0</td>\n",
       "      <td>0</td>\n",
       "      <td>0</td>\n",
       "      <td>0</td>\n",
       "      <td>0</td>\n",
       "      <td>0</td>\n",
       "      <td>0</td>\n",
       "    </tr>\n",
       "  </tbody>\n",
       "</table>\n",
       "</div>"
      ],
      "text/plain": [
       "           id                                               text  category  \\\n",
       "7793  1149893  лондон  февраля премию  в номинации лучший фил...  Культура   \n",
       "3388   429906  президент соединенных штатов дональд трамп соо...  Политика   \n",
       "7389   431099  с наступлением весны в автомобиле нужно провер...      Авто   \n",
       "\n",
       "      auto  in_world  culture  saince  social  polit  accidents  sport  \\\n",
       "7793     0         0        1       0       0      0          0      0   \n",
       "3388     0         0        0       0       0      1          0      0   \n",
       "7389     1         0        0       0       0      0          0      0   \n",
       "\n",
       "      tehnology  economica  \n",
       "7793          0          0  \n",
       "3388          0          0  \n",
       "7389          0          0  "
      ]
     },
     "execution_count": 27,
     "metadata": {},
     "output_type": "execute_result"
    }
   ],
   "source": [
    "df.sample(3)"
   ]
  },
  {
   "cell_type": "markdown",
   "metadata": {},
   "source": [
    "### Разбиваем на тестовую и обучающею выборку\n",
    "\n",
    "разюиваем корпус данных и обучаемся. Далее обрезаем все тексты до 150 слов."
   ]
  },
  {
   "cell_type": "code",
   "execution_count": 6,
   "metadata": {},
   "outputs": [],
   "source": [
    "nb_words = 25000\n",
    "tokenizer = Tokenizer(num_words=nb_words)\n",
    "tokenizer.fit_on_texts( texts ) \n",
    "\n",
    "X_raw = tokenizer.texts_to_sequences(texts)\n",
    "X = sequence.pad_sequences(X_raw, maxlen=150)\n",
    "\n",
    "X_train, X_test, Y_train, Y_test = train_test_split(X, Y, test_size=0.20, random_state=33)"
   ]
  },
  {
   "cell_type": "markdown",
   "metadata": {},
   "source": [
    "### Вначале обучим модель на основе рекурентного слоя LSTM \n",
    "\n",
    "- слой LSTM 100\n",
    "- полносвязный слой 100\n",
    "- выход 10 классов"
   ]
  },
  {
   "cell_type": "code",
   "execution_count": 7,
   "metadata": {},
   "outputs": [
    {
     "name": "stdout",
     "output_type": "stream",
     "text": [
      "_________________________________________________________________\n",
      "Layer (type)                 Output Shape              Param #   \n",
      "=================================================================\n",
      "embedding_1 (Embedding)      (None, 150, 100)          2500000   \n",
      "_________________________________________________________________\n",
      "lstm_1 (LSTM)                (None, 100)               80400     \n",
      "_________________________________________________________________\n",
      "dropout_1 (Dropout)          (None, 100)               0         \n",
      "_________________________________________________________________\n",
      "dense_1 (Dense)              (None, 100)               10100     \n",
      "_________________________________________________________________\n",
      "activation_1 (Activation)    (None, 100)               0         \n",
      "_________________________________________________________________\n",
      "dropout_2 (Dropout)          (None, 100)               0         \n",
      "_________________________________________________________________\n",
      "dense_2 (Dense)              (None, 10)                1010      \n",
      "_________________________________________________________________\n",
      "activation_2 (Activation)    (None, 10)                0         \n",
      "=================================================================\n",
      "Total params: 2,591,510\n",
      "Trainable params: 2,591,510\n",
      "Non-trainable params: 0\n",
      "_________________________________________________________________\n",
      "None\n"
     ]
    }
   ],
   "source": [
    "learning_rate = 0.005\n",
    "\n",
    "model = Sequential()\n",
    "model.add(Embedding(nb_words, 100, input_length= X_train.shape[1]))\n",
    "model.add(LSTM(100))\n",
    "model.add(Dropout(0.5))\n",
    " \n",
    "model.add(Dense(100))\n",
    "model.add(Activation('relu'))\n",
    "model.add(Dropout(0.5))\n",
    " \n",
    "model.add(Dense(10))\n",
    "model.add(Activation('softmax'))\n",
    "\n",
    "sgd = optimizers.Adam(lr=learning_rate)\n",
    "model.compile(loss='categorical_crossentropy', optimizer=sgd, metrics=[\"accuracy\"])\n",
    "\n",
    "print( model.summary())"
   ]
  },
  {
   "cell_type": "markdown",
   "metadata": {},
   "source": [
    "Обучаем 10 эпох и валидируем на тестовой выборке"
   ]
  },
  {
   "cell_type": "code",
   "execution_count": 8,
   "metadata": {},
   "outputs": [
    {
     "name": "stdout",
     "output_type": "stream",
     "text": [
      "Train on 7800 samples, validate on 1950 samples\n",
      "Epoch 1/6\n",
      "7800/7800 [==============================] - 64s 8ms/step - loss: 1.2485 - acc: 0.5710 - val_loss: 0.6681 - val_acc: 0.7364\n",
      "Epoch 2/6\n",
      "7800/7800 [==============================] - 63s 8ms/step - loss: 0.4230 - acc: 0.8637 - val_loss: 0.4486 - val_acc: 0.8523\n",
      "Epoch 3/6\n",
      "7800/7800 [==============================] - 53s 7ms/step - loss: 0.2456 - acc: 0.9268 - val_loss: 0.4439 - val_acc: 0.8790\n",
      "Epoch 4/6\n",
      "7800/7800 [==============================] - 57s 7ms/step - loss: 0.1792 - acc: 0.9491 - val_loss: 0.4706 - val_acc: 0.8882\n",
      "Epoch 5/6\n",
      "7800/7800 [==============================] - 53s 7ms/step - loss: 0.1434 - acc: 0.9515 - val_loss: 0.6234 - val_acc: 0.8733\n",
      "Epoch 6/6\n",
      "7800/7800 [==============================] - 50s 6ms/step - loss: 0.1825 - acc: 0.9431 - val_loss: 0.6432 - val_acc: 0.8785\n"
     ]
    }
   ],
   "source": [
    "epochs_len = 6\n",
    "\n",
    "result = model.fit(X_train, Y_train,\n",
    "          epochs=epochs_len, \n",
    "          verbose=1, shuffle=True,\n",
    "          callbacks=[],          \n",
    "          validation_data=(X_test, Y_test),     \n",
    "          )"
   ]
  },
  {
   "cell_type": "code",
   "execution_count": 9,
   "metadata": {},
   "outputs": [
    {
     "name": "stdout",
     "output_type": "stream",
     "text": [
      "1950/1950 [==============================] - 3s 1ms/step\n",
      "Ошибка на тесте:  0.643157, точность на тесте: 0.878462\n"
     ]
    }
   ],
   "source": [
    "score = model.evaluate(X_test, Y_test, verbose=1)  \n",
    "print (\"Ошибка на тесте:  %f, точность на тесте: %f\" % (score[0], score[1] ))"
   ]
  },
  {
   "cell_type": "code",
   "execution_count": 10,
   "metadata": {},
   "outputs": [
    {
     "name": "stdout",
     "output_type": "stream",
     "text": [
      "Populating the interactive namespace from numpy and matplotlib\n"
     ]
    },
    {
     "data": {
      "image/png": "[encoded data removed]",
      "text/plain": [
       "<Figure size 720x432 with 1 Axes>"
      ]
     },
     "metadata": {
      "needs_background": "light"
     },
     "output_type": "display_data"
    },
    {
     "data": {
      "image/png": "[encoded data removed]",
      "text/plain": [
       "<Figure size 720x432 with 1 Axes>"
      ]
     },
     "metadata": {
      "needs_background": "light"
     },
     "output_type": "display_data"
    }
   ],
   "source": [
    "import matplotlib.pyplot as plt\n",
    "%pylab inline\n",
    "pylab.rcParams['figure.figsize'] = (10, 6)\n",
    "\n",
    "# summarize history for accuracy\n",
    "plt.plot(result.history['acc'])\n",
    "plt.plot(result.history['val_acc'])\n",
    "plt.title('model accuracy')\n",
    "plt.ylabel('accuracy')\n",
    "plt.xlabel('epoch')\n",
    "plt.legend(['train', 'test'], loc='upper left')\n",
    "plt.show()\n",
    "# summarize history for loss\n",
    "plt.plot(result.history['loss'])\n",
    "plt.plot(result.history['val_loss'])\n",
    "plt.title('model loss')\n",
    "plt.ylabel('loss')\n",
    "plt.xlabel('epoch')\n",
    "plt.legend(['train', 'test'], loc='upper left')\n",
    "plt.show()"
   ]
  },
  {
   "cell_type": "markdown",
   "metadata": {},
   "source": [
    "- Из графиков видно, что ошибка на 3 эпохе стала рости. \n",
    "- Точность на 3 эпохе вышла на константу"
   ]
  },
  {
   "cell_type": "markdown",
   "metadata": {},
   "source": [
    "### Скомбинируем  модель на основе рекурентного слоя LSTM и сверточного Conv1D (одномерный слой свертки)\n",
    "\n",
    "\n",
    "- сверточный слой 32\n",
    "- слой LSTM 100\n",
    "- выход 10 классов"
   ]
  },
  {
   "cell_type": "code",
   "execution_count": 11,
   "metadata": {},
   "outputs": [
    {
     "name": "stdout",
     "output_type": "stream",
     "text": [
      "_________________________________________________________________\n",
      "Layer (type)                 Output Shape              Param #   \n",
      "=================================================================\n",
      "embedding_2 (Embedding)      (None, 150, 100)          2500000   \n",
      "_________________________________________________________________\n",
      "conv1d_1 (Conv1D)            (None, 150, 32)           9632      \n",
      "_________________________________________________________________\n",
      "max_pooling1d_1 (MaxPooling1 (None, 75, 32)            0         \n",
      "_________________________________________________________________\n",
      "lstm_2 (LSTM)                (None, 100)               53200     \n",
      "_________________________________________________________________\n",
      "dense_3 (Dense)              (None, 10)                1010      \n",
      "_________________________________________________________________\n",
      "activation_3 (Activation)    (None, 10)                0         \n",
      "=================================================================\n",
      "Total params: 2,563,842\n",
      "Trainable params: 2,563,842\n",
      "Non-trainable params: 0\n",
      "_________________________________________________________________\n",
      "None\n"
     ]
    }
   ],
   "source": [
    "from keras.layers import Conv1D,MaxPooling1D\n",
    "\n",
    "learning_rate = 0.005\n",
    "\n",
    "model2 = Sequential( )\n",
    "model2.add(Embedding( nb_words, 100, input_length= X.shape[1]))\n",
    "model2.add (Conv1D (filters = 32 , kernel_size = 3 , padding='same', activation = 'relu') )\n",
    "model2.add (MaxPooling1D (pool_size = 2 ))\n",
    "model2.add(LSTM (100)) \n",
    "model2.add(Dense(10))\n",
    "model2.add(Activation('softmax'))\n",
    "\n",
    "sgd = optimizers.Adam(lr=learning_rate)\n",
    "model2.compile(loss='categorical_crossentropy', optimizer=sgd, metrics=[\"accuracy\"]) \n",
    "print (model2.summary())\n"
   ]
  },
  {
   "cell_type": "markdown",
   "metadata": {},
   "source": [
    "Обучаем 10 эпох и валидируем на тестовой выборке"
   ]
  },
  {
   "cell_type": "code",
   "execution_count": 12,
   "metadata": {},
   "outputs": [
    {
     "name": "stdout",
     "output_type": "stream",
     "text": [
      "Train on 7800 samples, validate on 1950 samples\n",
      "Epoch 1/6\n",
      "7800/7800 [==============================] - 35s 4ms/step - loss: 0.8935 - acc: 0.6806 - val_loss: 0.3811 - val_acc: 0.8656\n",
      "Epoch 2/6\n",
      "7800/7800 [==============================] - 31s 4ms/step - loss: 0.2426 - acc: 0.9233 - val_loss: 0.3022 - val_acc: 0.9087\n",
      "Epoch 3/6\n",
      "7800/7800 [==============================] - 29s 4ms/step - loss: 0.1600 - acc: 0.9513 - val_loss: 0.3652 - val_acc: 0.8938\n",
      "Epoch 4/6\n",
      "7800/7800 [==============================] - 26s 3ms/step - loss: 0.1281 - acc: 0.9547 - val_loss: 0.3068 - val_acc: 0.9149\n",
      "Epoch 5/6\n",
      "7800/7800 [==============================] - 29s 4ms/step - loss: 0.1028 - acc: 0.9610 - val_loss: 0.3139 - val_acc: 0.9128\n",
      "Epoch 6/6\n",
      "7800/7800 [==============================] - 30s 4ms/step - loss: 0.0989 - acc: 0.9615 - val_loss: 0.3089 - val_acc: 0.9190\n"
     ]
    }
   ],
   "source": [
    "epochs_len = 6\n",
    "\n",
    "result2 = model2.fit(X_train, Y_train,\n",
    "          epochs=epochs_len, \n",
    "          verbose=1, shuffle=True,\n",
    "          callbacks=[],          \n",
    "          validation_data=(X_test, Y_test),     \n",
    "          )"
   ]
  },
  {
   "cell_type": "code",
   "execution_count": 19,
   "metadata": {},
   "outputs": [
    {
     "name": "stdout",
     "output_type": "stream",
     "text": [
      "1950/1950 [==============================] - 2s 805us/step\n",
      "Ошибка на тесте:  0.308876, точность на тесте: 0.918974\n"
     ]
    }
   ],
   "source": [
    "score = model2.evaluate(X_test, Y_test, verbose=1)  \n",
    "print (\"Ошибка на тесте:  %f, точность на тесте: %f\" % (score[0], score[1] ))"
   ]
  },
  {
   "cell_type": "code",
   "execution_count": 14,
   "metadata": {},
   "outputs": [
    {
     "name": "stdout",
     "output_type": "stream",
     "text": [
      "Populating the interactive namespace from numpy and matplotlib\n"
     ]
    },
    {
     "data": {
      "image/png": "[encoded data removed]",
      "text/plain": [
       "<Figure size 720x432 with 1 Axes>"
      ]
     },
     "metadata": {
      "needs_background": "light"
     },
     "output_type": "display_data"
    },
    {
     "data": {
      "image/png": "[encoded data removed]",
      "text/plain": [
       "<Figure size 720x432 with 1 Axes>"
      ]
     },
     "metadata": {
      "needs_background": "light"
     },
     "output_type": "display_data"
    }
   ],
   "source": [
    "import matplotlib.pyplot as plt\n",
    "%pylab inline\n",
    "pylab.rcParams['figure.figsize'] = (10, 6)\n",
    "\n",
    "# summarize history for accuracy\n",
    "plt.plot(result2.history['acc'])\n",
    "plt.plot(result2.history['val_acc'])\n",
    "plt.title('model accuracy')\n",
    "plt.ylabel('accuracy')\n",
    "plt.xlabel('epoch')\n",
    "plt.legend(['train', 'test'], loc='upper left')\n",
    "plt.show()\n",
    "# summarize history for loss\n",
    "plt.plot(result2.history['loss'])\n",
    "plt.plot(result2.history['val_loss'])\n",
    "plt.title('model loss')\n",
    "plt.ylabel('loss')\n",
    "plt.xlabel('epoch')\n",
    "plt.legend(['train', 'test'], loc='upper left')\n",
    "plt.show()"
   ]
  },
  {
   "cell_type": "markdown",
   "metadata": {},
   "source": [
    "- Из графиков видно, что ошибка на 3 эпохе стала рости. \n",
    "- Точность на 3 эпохе вышла на константу"
   ]
  },
  {
   "cell_type": "markdown",
   "metadata": {},
   "source": [
    "### Скомбинируем  модель на основе полносвязных слоев\n",
    "\n",
    "\n",
    "- полносвязный слой 100\n",
    "- полносвязный слой 100\n",
    "- выход 10 классов"
   ]
  },
  {
   "cell_type": "code",
   "execution_count": 15,
   "metadata": {},
   "outputs": [
    {
     "name": "stdout",
     "output_type": "stream",
     "text": [
      "_________________________________________________________________\n",
      "Layer (type)                 Output Shape              Param #   \n",
      "=================================================================\n",
      "embedding_3 (Embedding)      (None, 150, 100)          2500000   \n",
      "_________________________________________________________________\n",
      "dense_4 (Dense)              (None, 150, 100)          10100     \n",
      "_________________________________________________________________\n",
      "activation_4 (Activation)    (None, 150, 100)          0         \n",
      "_________________________________________________________________\n",
      "dropout_3 (Dropout)          (None, 150, 100)          0         \n",
      "_________________________________________________________________\n",
      "dense_5 (Dense)              (None, 150, 100)          10100     \n",
      "_________________________________________________________________\n",
      "activation_5 (Activation)    (None, 150, 100)          0         \n",
      "_________________________________________________________________\n",
      "dropout_4 (Dropout)          (None, 150, 100)          0         \n",
      "_________________________________________________________________\n",
      "flatten_1 (Flatten)          (None, 15000)             0         \n",
      "_________________________________________________________________\n",
      "dense_6 (Dense)              (None, 10)                150010    \n",
      "_________________________________________________________________\n",
      "activation_6 (Activation)    (None, 10)                0         \n",
      "=================================================================\n",
      "Total params: 2,670,210\n",
      "Trainable params: 2,670,210\n",
      "Non-trainable params: 0\n",
      "_________________________________________________________________\n",
      "None\n"
     ]
    }
   ],
   "source": [
    "learning_rate = 0.005\n",
    "\n",
    "model3 = Sequential()\n",
    "model3.add(Embedding(nb_words, 100, input_length= X_train.shape[1]))\n",
    "model3.add(Dense(100))\n",
    "model3.add(Activation('relu'))\n",
    "model3.add(Dropout(0.5))\n",
    " \n",
    "model3.add(Dense(100))\n",
    "model3.add(Activation('relu'))\n",
    "model3.add(Dropout(0.5))\n",
    "\n",
    "model3.add(Flatten())\n",
    "    \n",
    "model3.add(Dense(10))\n",
    "model3.add(Activation('softmax'))\n",
    "\n",
    "sgd = optimizers.Adam(lr=learning_rate)\n",
    "model3.compile(loss='categorical_crossentropy', optimizer=sgd, metrics=[\"accuracy\"])\n",
    "\n",
    "print( model3.summary())"
   ]
  },
  {
   "cell_type": "code",
   "execution_count": 16,
   "metadata": {},
   "outputs": [
    {
     "name": "stdout",
     "output_type": "stream",
     "text": [
      "Train on 7800 samples, validate on 1950 samples\n",
      "Epoch 1/6\n",
      "7800/7800 [==============================] - 16s 2ms/step - loss: 1.3641 - acc: 0.5253 - val_loss: 0.6332 - val_acc: 0.7841\n",
      "Epoch 2/6\n",
      "7800/7800 [==============================] - 15s 2ms/step - loss: 0.5526 - acc: 0.8415 - val_loss: 0.4828 - val_acc: 0.8574\n",
      "Epoch 3/6\n",
      "7800/7800 [==============================] - 17s 2ms/step - loss: 0.3891 - acc: 0.8969 - val_loss: 0.4367 - val_acc: 0.8764\n",
      "Epoch 4/6\n",
      "7800/7800 [==============================] - 14s 2ms/step - loss: 0.3397 - acc: 0.9114 - val_loss: 0.5446 - val_acc: 0.8421\n",
      "Epoch 5/6\n",
      "7800/7800 [==============================] - 14s 2ms/step - loss: 0.3376 - acc: 0.9103 - val_loss: 0.4246 - val_acc: 0.8785\n",
      "Epoch 6/6\n",
      "7800/7800 [==============================] - 15s 2ms/step - loss: 0.3162 - acc: 0.9196 - val_loss: 0.3988 - val_acc: 0.8954\n"
     ]
    }
   ],
   "source": [
    "epochs_len = 6 \n",
    " \n",
    "result3 = model3.fit(X_train, Y_train,\n",
    "           epochs=epochs_len, \n",
    "           verbose=1, shuffle=True,\n",
    "           callbacks=[],  validation_data=(X_test, Y_test) \n",
    "    )"
   ]
  },
  {
   "cell_type": "code",
   "execution_count": 17,
   "metadata": {},
   "outputs": [
    {
     "name": "stdout",
     "output_type": "stream",
     "text": [
      "1950/1950 [==============================] - 1s 313us/step\n",
      "Ошибка на тесте:  0.398850, точность на тесте: 0.895385\n"
     ]
    }
   ],
   "source": [
    "score = model3.evaluate(X_test, Y_test, verbose=1)  \n",
    "print (\"Ошибка на тесте:  %f, точность на тесте: %f\" % (score[0], score[1] ))"
   ]
  },
  {
   "cell_type": "code",
   "execution_count": 18,
   "metadata": {},
   "outputs": [
    {
     "name": "stdout",
     "output_type": "stream",
     "text": [
      "Populating the interactive namespace from numpy and matplotlib\n"
     ]
    },
    {
     "data": {
      "image/png": "[encoded data removed]",
      "text/plain": [
       "<Figure size 720x432 with 1 Axes>"
      ]
     },
     "metadata": {
      "needs_background": "light"
     },
     "output_type": "display_data"
    },
    {
     "data": {
      "image/png": "[encoded data removed]",
      "text/plain": [
       "<Figure size 720x432 with 1 Axes>"
      ]
     },
     "metadata": {
      "needs_background": "light"
     },
     "output_type": "display_data"
    }
   ],
   "source": [
    "import matplotlib.pyplot as plt\n",
    "%pylab inline\n",
    "pylab.rcParams['figure.figsize'] = (10, 6)\n",
    "\n",
    "# summarize history for accuracy\n",
    "plt.plot(result3.history['acc'])\n",
    "plt.plot(result3.history['val_acc'])\n",
    "plt.title('model accuracy')\n",
    "plt.ylabel('accuracy')\n",
    "plt.xlabel('epoch')\n",
    "plt.legend(['train', 'test'], loc='upper left')\n",
    "plt.show()\n",
    "# summarize history for loss\n",
    "plt.plot(result3.history['loss'])\n",
    "plt.plot(result3.history['val_loss'])\n",
    "plt.title('model loss')\n",
    "plt.ylabel('loss')\n",
    "plt.xlabel('epoch')\n",
    "plt.legend(['train', 'test'], loc='upper left')\n",
    "plt.show()"
   ]
  },
  {
   "cell_type": "code",
   "execution_count": null,
   "metadata": {},
   "outputs": [],
   "source": []
  },
  {
   "cell_type": "code",
   "execution_count": 23,
   "metadata": {},
   "outputs": [],
   "source": [
    "text = 'Поездки в Грузию остаются безопасными, несмотря на сообщения в средствах массовой информации о недавних демонстрациях. Правительство Грузии принимает меры предосторожности для обеспечения безопасности путешественников в Тбилиси и по всей стране», — уверяют в ведомстве. Также отмечается, что все туристические направления и достопримечательности открыты для посещения, транспорт работает без перебоев.'\n",
    "sample = tokenizer.texts_to_sequences([filter_stop_words(text)])\n",
    "sample = sequence.pad_sequences(sample, maxlen=150)\n"
   ]
  },
  {
   "cell_type": "code",
   "execution_count": 24,
   "metadata": {},
   "outputs": [
    {
     "name": "stdout",
     "output_type": "stream",
     "text": [
      "[[0.00299656 0.10368408 0.01491923 0.0776405  0.47395033 0.18951851\n",
      "  0.06047495 0.00171538 0.03909621 0.03600438]]\n"
     ]
    }
   ],
   "source": [
    "print(model3.predict(sample))"
   ]
  },
  {
   "cell_type": "code",
   "execution_count": 36,
   "metadata": {},
   "outputs": [
    {
     "name": "stdout",
     "output_type": "stream",
     "text": [
      "нападающий\n",
      "клубом\n",
      "первым\n",
      "номером\n",
      "первом\n",
      "раунде\n",
      "нхл\n",
      "вторым\n",
      "форвард\n",
      "минувшем\n",
      "сезоне\n",
      "чемпионом\n",
      "хоккею\n",
      "сразу\n",
      "трех\n",
      "категориях\n",
      "третьим\n",
      "ушел\n",
      "состав\n",
      "команды\n",
      "нападающий\n",
      "российский\n",
      "нападающий\n",
      "василий\n",
      "командой\n",
      "отметим\n",
      "летний\n",
      "первым\n",
      "рейтинге\n",
      "центрального\n",
      "бюро\n",
      "нхл\n",
      "среди\n",
      "игроков\n",
      "канады\n",
      "сша\n",
      "в\n",
      "сезоне\n",
      "играл\n",
      "главной\n",
      "лиге\n",
      "сша\n",
      "набрал\n",
      "матчах\n",
      "результативных\n",
      "передач\n",
      "очков\n"
     ]
    }
   ],
   "source": [
    "text2 = 'Нападающий Джек Хьюз выбран хоккейным клубом «Нью-Джерси Дэвилз» под первым номером в первом раунде драфта НХЛ-2019, проходящего в Ванкувере. Вторым в «Нью-Йорк Пейнджерс» был выбран финский форвард Каапо Какко, который в минувшем сезоне стал чемпионом мира по хоккею сразу в трех возрастных категориях. Третьим ушел в состав команды «Чикаго Блекхокс» нападающий Кирби Дич. Российский нападающий Василий Подколзин был задрафтован командой «Ванкувер Кэнакс» десятым Отметим 18-летний Хьюз стал первым и в итоговом рейтинге центрального бюро скаутов НХЛ среди игроков Канады и США. В прошедшем сезоне играл в Главной юниорской лиге США и набрал в 24 матчах 48 (12 шайб + 36 результативных передач) очков.'\n",
    "sample2 = tokenizer.texts_to_sequences([filter_stop_words(text2)])\n",
    "sample2 = sequence.pad_sequences(sample2, maxlen=150)\n",
    "\n",
    "\n",
    "for i in sample2[0]:\n",
    "    if i > 0:\n",
    "        print( tokenizer.index_word[i])\n"
   ]
  },
  {
   "cell_type": "code",
   "execution_count": 41,
   "metadata": {},
   "outputs": [
    {
     "name": "stdout",
     "output_type": "stream",
     "text": [
      "[[0. 0. 0. 0. 0. 0. 0. 1. 0. 0.]]\n"
     ]
    }
   ],
   "source": [
    "print( np.round( model3.predict(sample2), 2) )"
   ]
  },
  {
   "cell_type": "code",
   "execution_count": null,
   "metadata": {},
   "outputs": [],
   "source": []
  }
 ],
 "metadata": {
  "kernelspec": {
   "display_name": "Python 3",
   "language": "python",
   "name": "python3"
  },
  "language_info": {
   "codemirror_mode": {
    "name": "ipython",
    "version": 3
   },
   "file_extension": ".py",
   "mimetype": "text/x-python",
   "name": "python",
   "nbconvert_exporter": "python",
   "pygments_lexer": "ipython3",
   "version": "3.5.2"
  }
 },
 "nbformat": 4,
 "nbformat_minor": 2
}
